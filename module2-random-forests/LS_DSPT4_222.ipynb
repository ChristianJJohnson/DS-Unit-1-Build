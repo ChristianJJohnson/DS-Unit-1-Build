{
  "nbformat": 4,
  "nbformat_minor": 0,
  "metadata": {
    "kernelspec": {
      "display_name": "Python 3",
      "language": "python",
      "name": "python3"
    },
    "language_info": {
      "codemirror_mode": {
        "name": "ipython",
        "version": 3
      },
      "file_extension": ".py",
      "mimetype": "text/x-python",
      "name": "python",
      "nbconvert_exporter": "python",
      "pygments_lexer": "ipython3",
      "version": "3.7.3"
    },
    "colab": {
      "name": "LS_DSPT4_222.ipynb",
      "provenance": [],
      "collapsed_sections": [],
      "include_colab_link": true
    },
    "widgets": {
      "application/vnd.jupyter.widget-state+json": {
        "90398f19840b43ad9b46c57ce85a0622": {
          "model_module": "@jupyter-widgets/controls",
          "model_name": "VBoxModel",
          "state": {
            "_view_name": "VBoxView",
            "_dom_classes": [
              "widget-interact"
            ],
            "_model_name": "VBoxModel",
            "_view_module": "@jupyter-widgets/controls",
            "_model_module_version": "1.5.0",
            "_view_count": null,
            "_view_module_version": "1.5.0",
            "box_style": "",
            "layout": "IPY_MODEL_cee054e1344e4209b9f04c96e62bed6c",
            "_model_module": "@jupyter-widgets/controls",
            "children": [
              "IPY_MODEL_5f06a66490cc4d60be5c5fd0fe507cc1",
              "IPY_MODEL_ee89b0cd1cfc4d28a9f2247e7a17408b",
              "IPY_MODEL_86ae3784870045d5b44e19279fba4f69"
            ]
          }
        },
        "cee054e1344e4209b9f04c96e62bed6c": {
          "model_module": "@jupyter-widgets/base",
          "model_name": "LayoutModel",
          "state": {
            "_view_name": "LayoutView",
            "grid_template_rows": null,
            "right": null,
            "justify_content": null,
            "_view_module": "@jupyter-widgets/base",
            "overflow": null,
            "_model_module_version": "1.2.0",
            "_view_count": null,
            "flex_flow": null,
            "width": null,
            "min_width": null,
            "border": null,
            "align_items": null,
            "bottom": null,
            "_model_module": "@jupyter-widgets/base",
            "top": null,
            "grid_column": null,
            "overflow_y": null,
            "overflow_x": null,
            "grid_auto_flow": null,
            "grid_area": null,
            "grid_template_columns": null,
            "flex": null,
            "_model_name": "LayoutModel",
            "justify_items": null,
            "grid_row": null,
            "max_height": null,
            "align_content": null,
            "visibility": null,
            "align_self": null,
            "height": null,
            "min_height": null,
            "padding": null,
            "grid_auto_rows": null,
            "grid_gap": null,
            "max_width": null,
            "order": null,
            "_view_module_version": "1.2.0",
            "grid_template_areas": null,
            "object_position": null,
            "object_fit": null,
            "grid_auto_columns": null,
            "margin": null,
            "display": null,
            "left": null
          }
        },
        "5f06a66490cc4d60be5c5fd0fe507cc1": {
          "model_module": "@jupyter-widgets/controls",
          "model_name": "IntSliderModel",
          "state": {
            "_view_name": "IntSliderView",
            "style": "IPY_MODEL_89cbf5eeb7ea4261a8a3a9b17a810d16",
            "_dom_classes": [],
            "description": "max_depth",
            "step": 1,
            "_model_name": "IntSliderModel",
            "orientation": "horizontal",
            "max": 6,
            "_view_module": "@jupyter-widgets/controls",
            "_model_module_version": "1.5.0",
            "value": 6,
            "_view_count": null,
            "disabled": false,
            "_view_module_version": "1.5.0",
            "min": 1,
            "continuous_update": true,
            "readout_format": "d",
            "description_tooltip": null,
            "readout": true,
            "_model_module": "@jupyter-widgets/controls",
            "layout": "IPY_MODEL_bf1c4dc86e8e4de9ac225a7be6b2ff37"
          }
        },
        "ee89b0cd1cfc4d28a9f2247e7a17408b": {
          "model_module": "@jupyter-widgets/controls",
          "model_name": "IntSliderModel",
          "state": {
            "_view_name": "IntSliderView",
            "style": "IPY_MODEL_d9cbd7e3adba41b0b50983fdfc063c92",
            "_dom_classes": [],
            "description": "n_estimators",
            "step": 10,
            "_model_name": "IntSliderModel",
            "orientation": "horizontal",
            "max": 40,
            "_view_module": "@jupyter-widgets/controls",
            "_model_module_version": "1.5.0",
            "value": 30,
            "_view_count": null,
            "disabled": false,
            "_view_module_version": "1.5.0",
            "min": 10,
            "continuous_update": true,
            "readout_format": "d",
            "description_tooltip": null,
            "readout": true,
            "_model_module": "@jupyter-widgets/controls",
            "layout": "IPY_MODEL_fe6e74c525e04711b69bec5a76e8caba"
          }
        },
        "86ae3784870045d5b44e19279fba4f69": {
          "model_module": "@jupyter-widgets/output",
          "model_name": "OutputModel",
          "state": {
            "_view_name": "OutputView",
            "msg_id": "",
            "_dom_classes": [],
            "_model_name": "OutputModel",
            "outputs": [
              {
                "output_type": "display_data",
                "metadata": {
                  "tags": []
                },
                "image/png": "iVBORw0KGgoAAAANSUhEUgAAAYIAAAEWCAYAAABrDZDcAAAABHNCSVQICAgIfAhkiAAAAAlwSFlz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\n",
                "text/plain": "<Figure size 432x288 with 1 Axes>"
              },
              {
                "output_type": "display_data",
                "metadata": {
                  "tags": []
                },
                "image/png": "iVBORw0KGgoAAAANSUhEUgAAAYIAAAEWCAYAAABrDZDcAAAABHNCSVQICAgIfAhkiAAAAAlwSFlz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\n",
                "text/plain": "<Figure size 432x288 with 1 Axes>"
              }
            ],
            "_view_module": "@jupyter-widgets/output",
            "_model_module_version": "1.0.0",
            "_view_count": null,
            "_view_module_version": "1.0.0",
            "layout": "IPY_MODEL_88361ef11805482f829921634a400e57",
            "_model_module": "@jupyter-widgets/output"
          }
        },
        "89cbf5eeb7ea4261a8a3a9b17a810d16": {
          "model_module": "@jupyter-widgets/controls",
          "model_name": "SliderStyleModel",
          "state": {
            "_view_name": "StyleView",
            "handle_color": null,
            "_model_name": "SliderStyleModel",
            "description_width": "",
            "_view_module": "@jupyter-widgets/base",
            "_model_module_version": "1.5.0",
            "_view_count": null,
            "_view_module_version": "1.2.0",
            "_model_module": "@jupyter-widgets/controls"
          }
        },
        "bf1c4dc86e8e4de9ac225a7be6b2ff37": {
          "model_module": "@jupyter-widgets/base",
          "model_name": "LayoutModel",
          "state": {
            "_view_name": "LayoutView",
            "grid_template_rows": null,
            "right": null,
            "justify_content": null,
            "_view_module": "@jupyter-widgets/base",
            "overflow": null,
            "_model_module_version": "1.2.0",
            "_view_count": null,
            "flex_flow": null,
            "width": null,
            "min_width": null,
            "border": null,
            "align_items": null,
            "bottom": null,
            "_model_module": "@jupyter-widgets/base",
            "top": null,
            "grid_column": null,
            "overflow_y": null,
            "overflow_x": null,
            "grid_auto_flow": null,
            "grid_area": null,
            "grid_template_columns": null,
            "flex": null,
            "_model_name": "LayoutModel",
            "justify_items": null,
            "grid_row": null,
            "max_height": null,
            "align_content": null,
            "visibility": null,
            "align_self": null,
            "height": null,
            "min_height": null,
            "padding": null,
            "grid_auto_rows": null,
            "grid_gap": null,
            "max_width": null,
            "order": null,
            "_view_module_version": "1.2.0",
            "grid_template_areas": null,
            "object_position": null,
            "object_fit": null,
            "grid_auto_columns": null,
            "margin": null,
            "display": null,
            "left": null
          }
        },
        "d9cbd7e3adba41b0b50983fdfc063c92": {
          "model_module": "@jupyter-widgets/controls",
          "model_name": "SliderStyleModel",
          "state": {
            "_view_name": "StyleView",
            "handle_color": null,
            "_model_name": "SliderStyleModel",
            "description_width": "",
            "_view_module": "@jupyter-widgets/base",
            "_model_module_version": "1.5.0",
            "_view_count": null,
            "_view_module_version": "1.2.0",
            "_model_module": "@jupyter-widgets/controls"
          }
        },
        "fe6e74c525e04711b69bec5a76e8caba": {
          "model_module": "@jupyter-widgets/base",
          "model_name": "LayoutModel",
          "state": {
            "_view_name": "LayoutView",
            "grid_template_rows": null,
            "right": null,
            "justify_content": null,
            "_view_module": "@jupyter-widgets/base",
            "overflow": null,
            "_model_module_version": "1.2.0",
            "_view_count": null,
            "flex_flow": null,
            "width": null,
            "min_width": null,
            "border": null,
            "align_items": null,
            "bottom": null,
            "_model_module": "@jupyter-widgets/base",
            "top": null,
            "grid_column": null,
            "overflow_y": null,
            "overflow_x": null,
            "grid_auto_flow": null,
            "grid_area": null,
            "grid_template_columns": null,
            "flex": null,
            "_model_name": "LayoutModel",
            "justify_items": null,
            "grid_row": null,
            "max_height": null,
            "align_content": null,
            "visibility": null,
            "align_self": null,
            "height": null,
            "min_height": null,
            "padding": null,
            "grid_auto_rows": null,
            "grid_gap": null,
            "max_width": null,
            "order": null,
            "_view_module_version": "1.2.0",
            "grid_template_areas": null,
            "object_position": null,
            "object_fit": null,
            "grid_auto_columns": null,
            "margin": null,
            "display": null,
            "left": null
          }
        },
        "4cce22d0db0c4e9aac4cf8588c868c3b": {
          "model_module": "@jupyter-widgets/controls",
          "model_name": "VBoxModel",
          "state": {
            "_view_name": "VBoxView",
            "_dom_classes": [
              "widget-interact"
            ],
            "_model_name": "VBoxModel",
            "_view_module": "@jupyter-widgets/controls",
            "_model_module_version": "1.5.0",
            "_view_count": null,
            "_view_module_version": "1.5.0",
            "box_style": "",
            "layout": "IPY_MODEL_72c0841063be49e8860d855d36860c52",
            "_model_module": "@jupyter-widgets/controls",
            "children": [
              "IPY_MODEL_c38c2c57859f41f690c696850d276d95",
              "IPY_MODEL_4290f70a0f074fbcba947e6347382104",
              "IPY_MODEL_c38bb1a33d814ac9ac39c6a10b6789e3"
            ]
          }
        },
        "72c0841063be49e8860d855d36860c52": {
          "model_module": "@jupyter-widgets/base",
          "model_name": "LayoutModel",
          "state": {
            "_view_name": "LayoutView",
            "grid_template_rows": null,
            "right": null,
            "justify_content": null,
            "_view_module": "@jupyter-widgets/base",
            "overflow": null,
            "_model_module_version": "1.2.0",
            "_view_count": null,
            "flex_flow": null,
            "width": null,
            "min_width": null,
            "border": null,
            "align_items": null,
            "bottom": null,
            "_model_module": "@jupyter-widgets/base",
            "top": null,
            "grid_column": null,
            "overflow_y": null,
            "overflow_x": null,
            "grid_auto_flow": null,
            "grid_area": null,
            "grid_template_columns": null,
            "flex": null,
            "_model_name": "LayoutModel",
            "justify_items": null,
            "grid_row": null,
            "max_height": null,
            "align_content": null,
            "visibility": null,
            "align_self": null,
            "height": null,
            "min_height": null,
            "padding": null,
            "grid_auto_rows": null,
            "grid_gap": null,
            "max_width": null,
            "order": null,
            "_view_module_version": "1.2.0",
            "grid_template_areas": null,
            "object_position": null,
            "object_fit": null,
            "grid_auto_columns": null,
            "margin": null,
            "display": null,
            "left": null
          }
        },
        "c38c2c57859f41f690c696850d276d95": {
          "model_module": "@jupyter-widgets/controls",
          "model_name": "IntSliderModel",
          "state": {
            "_view_name": "IntSliderView",
            "style": "IPY_MODEL_e6d0bebe46244832970d6e47a47c84e0",
            "_dom_classes": [],
            "description": "max_depth",
            "step": 1,
            "_model_name": "IntSliderModel",
            "orientation": "horizontal",
            "max": 6,
            "_view_module": "@jupyter-widgets/controls",
            "_model_module_version": "1.5.0",
            "value": 3,
            "_view_count": null,
            "disabled": false,
            "_view_module_version": "1.5.0",
            "min": 1,
            "continuous_update": true,
            "readout_format": "d",
            "description_tooltip": null,
            "readout": true,
            "_model_module": "@jupyter-widgets/controls",
            "layout": "IPY_MODEL_194719435cff4cef8e4694cfd91b1f09"
          }
        },
        "4290f70a0f074fbcba947e6347382104": {
          "model_module": "@jupyter-widgets/controls",
          "model_name": "IntSliderModel",
          "state": {
            "_view_name": "IntSliderView",
            "style": "IPY_MODEL_a78994ed3b0e4b77b8f8b75e40045e6d",
            "_dom_classes": [],
            "description": "n_estimators",
            "step": 1,
            "_model_name": "IntSliderModel",
            "orientation": "horizontal",
            "max": 5,
            "_view_module": "@jupyter-widgets/controls",
            "_model_module_version": "1.5.0",
            "value": 2,
            "_view_count": null,
            "disabled": false,
            "_view_module_version": "1.5.0",
            "min": 2,
            "continuous_update": true,
            "readout_format": "d",
            "description_tooltip": null,
            "readout": true,
            "_model_module": "@jupyter-widgets/controls",
            "layout": "IPY_MODEL_f91f80d0cc884900913610fd33684785"
          }
        },
        "c38bb1a33d814ac9ac39c6a10b6789e3": {
          "model_module": "@jupyter-widgets/output",
          "model_name": "OutputModel",
          "state": {
            "_view_name": "OutputView",
            "msg_id": "",
            "_dom_classes": [],
            "_model_name": "OutputModel",
            "outputs": [
              {
                "output_type": "display_data",
                "metadata": {
                  "tags": []
                },
                "image/png": "iVBORw0KGgoAAAANSUhEUgAAAYIAAAEWCAYAAABrDZDcAAAABHNCSVQICAgIfAhkiAAAAAlwSFlz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\n",
                "text/plain": "<Figure size 432x288 with 1 Axes>"
              },
              {
                "output_type": "display_data",
                "metadata": {
                  "tags": []
                },
                "image/png": "iVBORw0KGgoAAAANSUhEUgAAAYIAAAEWCAYAAABrDZDcAAAABHNCSVQICAgIfAhkiAAAAAlwSFlz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\nnoHmAAAAAElFTkSuQmCC\n",
                "text/plain": "<Figure size 432x288 with 1 Axes>"
              },
              {
                "output_type": "display_data",
                "metadata": {
                  "tags": []
                },
                "image/png": "iVBORw0KGgoAAAANSUhEUgAAAYIAAAEWCAYAAABrDZDcAAAABHNCSVQICAgIfAhkiAAAAAlwSFlz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\nSUVORK5CYII=\n",
                "text/plain": "<Figure size 432x288 with 1 Axes>"
              }
            ],
            "_view_module": "@jupyter-widgets/output",
            "_model_module_version": "1.0.0",
            "_view_count": null,
            "_view_module_version": "1.0.0",
            "layout": "IPY_MODEL_0e2855a5002a4773b8e47f8ad8030b4d",
            "_model_module": "@jupyter-widgets/output"
          }
        },
        "e6d0bebe46244832970d6e47a47c84e0": {
          "model_module": "@jupyter-widgets/controls",
          "model_name": "SliderStyleModel",
          "state": {
            "_view_name": "StyleView",
            "handle_color": null,
            "_model_name": "SliderStyleModel",
            "description_width": "",
            "_view_module": "@jupyter-widgets/base",
            "_model_module_version": "1.5.0",
            "_view_count": null,
            "_view_module_version": "1.2.0",
            "_model_module": "@jupyter-widgets/controls"
          }
        },
        "194719435cff4cef8e4694cfd91b1f09": {
          "model_module": "@jupyter-widgets/base",
          "model_name": "LayoutModel",
          "state": {
            "_view_name": "LayoutView",
            "grid_template_rows": null,
            "right": null,
            "justify_content": null,
            "_view_module": "@jupyter-widgets/base",
            "overflow": null,
            "_model_module_version": "1.2.0",
            "_view_count": null,
            "flex_flow": null,
            "width": null,
            "min_width": null,
            "border": null,
            "align_items": null,
            "bottom": null,
            "_model_module": "@jupyter-widgets/base",
            "top": null,
            "grid_column": null,
            "overflow_y": null,
            "overflow_x": null,
            "grid_auto_flow": null,
            "grid_area": null,
            "grid_template_columns": null,
            "flex": null,
            "_model_name": "LayoutModel",
            "justify_items": null,
            "grid_row": null,
            "max_height": null,
            "align_content": null,
            "visibility": null,
            "align_self": null,
            "height": null,
            "min_height": null,
            "padding": null,
            "grid_auto_rows": null,
            "grid_gap": null,
            "max_width": null,
            "order": null,
            "_view_module_version": "1.2.0",
            "grid_template_areas": null,
            "object_position": null,
            "object_fit": null,
            "grid_auto_columns": null,
            "margin": null,
            "display": null,
            "left": null
          }
        },
        "a78994ed3b0e4b77b8f8b75e40045e6d": {
          "model_module": "@jupyter-widgets/controls",
          "model_name": "SliderStyleModel",
          "state": {
            "_view_name": "StyleView",
            "handle_color": null,
            "_model_name": "SliderStyleModel",
            "description_width": "",
            "_view_module": "@jupyter-widgets/base",
            "_model_module_version": "1.5.0",
            "_view_count": null,
            "_view_module_version": "1.2.0",
            "_model_module": "@jupyter-widgets/controls"
          }
        },
        "f91f80d0cc884900913610fd33684785": {
          "model_module": "@jupyter-widgets/base",
          "model_name": "LayoutModel",
          "state": {
            "_view_name": "LayoutView",
            "grid_template_rows": null,
            "right": null,
            "justify_content": null,
            "_view_module": "@jupyter-widgets/base",
            "overflow": null,
            "_model_module_version": "1.2.0",
            "_view_count": null,
            "flex_flow": null,
            "width": null,
            "min_width": null,
            "border": null,
            "align_items": null,
            "bottom": null,
            "_model_module": "@jupyter-widgets/base",
            "top": null,
            "grid_column": null,
            "overflow_y": null,
            "overflow_x": null,
            "grid_auto_flow": null,
            "grid_area": null,
            "grid_template_columns": null,
            "flex": null,
            "_model_name": "LayoutModel",
            "justify_items": null,
            "grid_row": null,
            "max_height": null,
            "align_content": null,
            "visibility": null,
            "align_self": null,
            "height": null,
            "min_height": null,
            "padding": null,
            "grid_auto_rows": null,
            "grid_gap": null,
            "max_width": null,
            "order": null,
            "_view_module_version": "1.2.0",
            "grid_template_areas": null,
            "object_position": null,
            "object_fit": null,
            "grid_auto_columns": null,
            "margin": null,
            "display": null,
            "left": null
          }
        },
        "4e453956978049eaa5b62048d76d9397": {
          "model_module": "@jupyter-widgets/controls",
          "model_name": "VBoxModel",
          "state": {
            "_view_name": "VBoxView",
            "_dom_classes": [
              "widget-interact"
            ],
            "_model_name": "VBoxModel",
            "_view_module": "@jupyter-widgets/controls",
            "_model_module_version": "1.5.0",
            "_view_count": null,
            "_view_module_version": "1.5.0",
            "box_style": "",
            "layout": "IPY_MODEL_b00ac6cf107b4499b8519bfb480881cb",
            "_model_module": "@jupyter-widgets/controls",
            "children": [
              "IPY_MODEL_e779d4770e64433898bb4dfb4f75fd42",
              "IPY_MODEL_3b596cf5586d416f99ac1d028ebd3acc",
              "IPY_MODEL_84beff0360284c5c97a28763f900faaa"
            ]
          }
        },
        "b00ac6cf107b4499b8519bfb480881cb": {
          "model_module": "@jupyter-widgets/base",
          "model_name": "LayoutModel",
          "state": {
            "_view_name": "LayoutView",
            "grid_template_rows": null,
            "right": null,
            "justify_content": null,
            "_view_module": "@jupyter-widgets/base",
            "overflow": null,
            "_model_module_version": "1.2.0",
            "_view_count": null,
            "flex_flow": null,
            "width": null,
            "min_width": null,
            "border": null,
            "align_items": null,
            "bottom": null,
            "_model_module": "@jupyter-widgets/base",
            "top": null,
            "grid_column": null,
            "overflow_y": null,
            "overflow_x": null,
            "grid_auto_flow": null,
            "grid_area": null,
            "grid_template_columns": null,
            "flex": null,
            "_model_name": "LayoutModel",
            "justify_items": null,
            "grid_row": null,
            "max_height": null,
            "align_content": null,
            "visibility": null,
            "align_self": null,
            "height": null,
            "min_height": null,
            "padding": null,
            "grid_auto_rows": null,
            "grid_gap": null,
            "max_width": null,
            "order": null,
            "_view_module_version": "1.2.0",
            "grid_template_areas": null,
            "object_position": null,
            "object_fit": null,
            "grid_auto_columns": null,
            "margin": null,
            "display": null,
            "left": null
          }
        },
        "e779d4770e64433898bb4dfb4f75fd42": {
          "model_module": "@jupyter-widgets/controls",
          "model_name": "IntSliderModel",
          "state": {
            "_view_name": "IntSliderView",
            "style": "IPY_MODEL_d76db38ac9754d92930a35123ab2e75b",
            "_dom_classes": [],
            "description": "max_depth",
            "step": 1,
            "_model_name": "IntSliderModel",
            "orientation": "horizontal",
            "max": 6,
            "_view_module": "@jupyter-widgets/controls",
            "_model_module_version": "1.5.0",
            "value": 4,
            "_view_count": null,
            "disabled": false,
            "_view_module_version": "1.5.0",
            "min": 1,
            "continuous_update": true,
            "readout_format": "d",
            "description_tooltip": null,
            "readout": true,
            "_model_module": "@jupyter-widgets/controls",
            "layout": "IPY_MODEL_8277144c026042c6bb5f595ef5991e0a"
          }
        },
        "3b596cf5586d416f99ac1d028ebd3acc": {
          "model_module": "@jupyter-widgets/controls",
          "model_name": "IntSliderModel",
          "state": {
            "_view_name": "IntSliderView",
            "style": "IPY_MODEL_f18bdf4cb05e46afb560eee9cf4d4c65",
            "_dom_classes": [],
            "description": "n_estimators",
            "step": 10,
            "_model_name": "IntSliderModel",
            "orientation": "horizontal",
            "max": 40,
            "_view_module": "@jupyter-widgets/controls",
            "_model_module_version": "1.5.0",
            "value": 40,
            "_view_count": null,
            "disabled": false,
            "_view_module_version": "1.5.0",
            "min": 10,
            "continuous_update": true,
            "readout_format": "d",
            "description_tooltip": null,
            "readout": true,
            "_model_module": "@jupyter-widgets/controls",
            "layout": "IPY_MODEL_ad2afaf4e68b4ddf81c162fd0eb0c8da"
          }
        },
        "84beff0360284c5c97a28763f900faaa": {
          "model_module": "@jupyter-widgets/output",
          "model_name": "OutputModel",
          "state": {
            "_view_name": "OutputView",
            "msg_id": "",
            "_dom_classes": [],
            "_model_name": "OutputModel",
            "outputs": [
              {
                "output_type": "display_data",
                "metadata": {
                  "tags": []
                },
                "image/png": "iVBORw0KGgoAAAANSUhEUgAAAVoAAAEFCAYAAACiiS9UAAAABHNCSVQICAgIfAhkiAAAAAlwSFlz\nAAALEgAACxIB0t1+/AAAADh0RVh0U29mdHdhcmUAbWF0cGxvdGxpYiB2ZXJzaW9uMy4xLjIsIGh0\ndHA6Ly9tYXRwbG90bGliLm9yZy8li6FKAAAXF0lEQVR4nO3de7hddX3n8fcnoVxsAlSDiAn3m0SG\nVoWA0lGfCm3wUeJUWsChCoPEUePTVku1lcdhaL2i4C1Fo1CLDqAwoxMVBasiygBJuEhNAE1DgES5\nYxJEDeecz/yx1iGb03POXidn/7L3Pvm8eNbDuvz2b/3WDnz58l2/tbZsExER5Uzr9gAiIqa6BNqI\niMISaCMiCkugjYgoLIE2IqKwBNqIiMISaPuYpG9JelODdk9IOmBbjGlbkXScpLUF+/+8pL9v2V4k\n6aH6u9yt/vs+pc4fU4syj7a8OiDsCQwAg8Aq4FJgie2hLg6tMUkrgX3rzV2Ap6iuB+ADtj9Q4JzH\nAOcCL6X63n4GLLZ9qaTjgM/b3q/T5x1lHDsDvwReYntl6fPF1JOMdtt5re2ZVMHqQ8C7gYu7O6Tm\nbL/Q9gzbM4AfAouGt0cLspJ2mMz5JP0h8K/Ad4EDgOcAi4BXT6bfrfQ8YKdOBNnJfi/RnxJotzHb\nG2wvBU4G3iTpcEk7SfqopPskPSjpM5J2Gf6MpAWSbpe0UdK/S5pf779O0pvr9YMk/UDSBkmPSPpy\ny+ct6aB6fTdJl0p6WNK9ks6RNK0+drqkH9VjeVzSPZJOaHJdkt4s6XpJn5T0GHBOy/676v6+JWnv\nls/MlfSvkh6r27y+pcuPAhfbPt/2o64st33KGOc/R9IaSZskrZR0YsuxQ+qxDX83l9X7p9Xjfag+\ndoekufWxL0k6V9JhwMp63xOSrpW0Q/2d7lfv31nSBZLur//8/qnOgp8ucUj6e0kPAJ9r8n3G1JJA\n2yW2lwHrgP9MleEeAvwBcBAwG3gfgKR5VGWGs4HdgZcDa0fp8h+Aa4HfA+YAnxrj1J8CdqPKEl8B\nvBE4o+X40cDdwCzgI8DFktTwsl4G3AnsAXy4DpxnAwvqfTcDw0FuBvCd+tqeC/xXYImkQyXNBOYB\nVzU8L8BPgWPra3s/cJmkPetj7we+yZbvZnG9/wTgGODg+tgpwGOtndq+E/j9en2G7T8e5dznA/sD\nR9R97Qe8t+X4HGAGsA/wtglcU0wRCbTd9XPg2cBC4K9tP2Z7E/ABqn/pAc4ELrH9HdtDttfbvmuU\nvp6iKks83/ZvbP9oZANJ0+t+/872JttrgY8Bf9HS7F7bn7M9CPwLsBdVfbmJ+2xfZHvQ9q+B/05V\nv73b9gDwj8A8SbOpgu9PbV9qe8D2LcDXgJPq70TALxqeF9tfsf2L+ju6jOo/Rke2fDf7AXvV380N\nLft3BV5Q97HK9gNNzwlVVgycBfyV7cdtbwQ+yJY/P6hq2efa3lx/L7GdSaDtrtnADsCzgFsk/VLS\nL4FvU2WAAHsD/96gr7+lCk7L6v91/m+jtJkF/A5wb8u+e+txDHs60Nh+sl6d0eD8APeP2N4XWNxy\nXY8AQ1QZ3r7AscPH6uMnUwX2xwDX643UZY8ft/T1AqrrBXgX1XWvkPRvqmdq2L4W+AxwETBcspnZ\n9Jy15wE7Aa3n/gZVlj7sQdubJ9hvTCEJtF0i6SiqAPc14NfAC23vXi+71TedoApeB7brz/YDts+y\n/XzgLcA/DddlWzzClsx32D7A+kleztPDGLF9P3Bmy3XtbnsX2zfXx7474tgM24vqrH4Z8PqRJxiN\nqqlrFwFvBZ5je3fgLqr/8FBnum+2vRfwdqoSxf71sY/bfjFwODAXeOcEr/lBYDNw6Ig/v93G+V5i\nO5NAu41J2lXSa4ArgC/Z/jHVDZILJT23bjNb0p/UH7kYOEPSq+qbN7MlvWCUfv9M0px683Gqf7mf\nMXWsLgd8BXi/pJmS9qUKLF8qcKlQZYvvrW8oIWl3SSfVx5YCL5T0Bkm/Uy/zJB1aHz8beLOkd0p6\ndv35Fw3fyBphBtX1Plw101nU5YD6c39elyugmqZlYLA+3zxVMwF+RRUwJzTdrv5OPw98XNIeqsyR\nNFotN7ZTCbTbztclbaLK5N4LXMCWm1DvBlYDN0naSDWt6VB4+qbZGcCFwAbgBzwzIx12FHCzpCeo\ngthf2l4zSrt3UAWVNcCPqG5OXdKJCxzJ9pVU13llfV13AH9SH9tQr59GVYt9gKq2uVN9/IfAcXWb\ntfVMhouAq0c5zx1UN/mW1X0dSnXjbdjRwHJJvwL+D/B22/dR3Vy8mCr4rq0/e8FWXOq7qEowy6j+\njK6luikWAeSBhYiI4pLRRkQUlkAbEdFC0iX1Qyw/GeO46gddVtcPuby4XZ8JtBERz/QFYP44x0+g\nqsEfTDUH/qJ2HSbQRkS0sH09I54QHGEBcGn9WPhNwO6Sxp3zXeQFF5/Y57TcYeuiH2pjt4cQ0dhV\n9y5t+oj3mJ56ZE3jmLPjHge+hSoTHbbE9pIJnG42z3w4Z129b8wnGfMmoYjYrtRBdSKBddISaCOi\n/w0Nbsuzrad6NH7YHNo8XZkabUT0v8GB5svkLQXeWM8+OAbYYHvcFyAlo42IvtfJHyqRdDnwSmCW\npHXA/6B6KRG2P0P1dOKrqZ7mfJJnvmZ0VAm0EdH/hjoXaG2f2ua4qV5O1FgCbUT0vx7/6b0E2ojo\nf9v2ZtiEJdBGRP9LRhsRUZY7M5ugmATaiOh/HbwZVkICbUT0v5QOIiIKy82wiIjCktFGRBSWm2ER\nEYXlZlhERFnVr773rgTaiOh/qdFGRBSW0kFERGHJaCMiCht8qtsjGFcCbUT0v5QOIiIKS+kgIqKw\nZLQREYUl0EZElOXcDIuIKCw12oiIwrbH0sEpB95fotto6JRuDyDaunPVc7s9hKklGW1ERGHbY0Yb\nEbFNJaONiChsIC/+jogoKxltRERhqdFGRBSWjDYiorBktBERhSWjjYgoLLMOIiIKs7s9gnEl0EZE\n/0uNNiKisB4PtNO6PYCIiEnzUPOlDUnzJd0tabWk94xyfB9J35d0m6Q7JL26XZ/JaCOi/w0OdqQb\nSdOBxcDxwDpguaSltle1NDsH+IrtiyTNBa4G9huv3wTaiOh/nSsdzANW214DIOkKYAHQGmgN7Fqv\n7wb8vF2nCbQR0f8mEGglLQQWtuxaYntJvT4baH2h9jrg6BFdnAtcK+kdwO8Cx7U7ZwJtRPS/CTyw\nUAfVJW0bju1U4Au2PybppcAXJR1ujz2IBNqI6Hse6tg82vXA3i3bc+p9rc4E5gPYvlHSzsAs4KGx\nOs2sg4jof0NDzZfxLQcOlrS/pB2pfhlq6Yg29wGvApB0GLAz8PB4nSajjYj+16FZB7YHJC0CrgGm\nA5fYXinpPGCF7aXAu4DPSfprqhtjp9vjP5qWQBsR/a+DDyzYvppqylbrvve1rK8Cjp1Inwm0EdH/\nevzJsATaiOh/ealMRERhyWgjIgrr3PSuIhJoI6L/dWjWQSkJtBHR95zSQUREYSkdREQUlh9njIgo\nLBltRERhA7kZFhFRVkoHERGFpXQQEVFWpndFRJSWjDYiorAE2oiIwvIIbkREWR38zbAiEmgjov8l\n0EZEFJZZBxERhSWjjYgoLIE2IqIsD6Z0EBFRVjLaiIiyMr0rIqK0BNqIiMJ6u0SbQBsR/c8DvR1p\nE2gjov/1dpxNoI2I/pebYRERpSWjjYgoKxltRERp22NGu8+Na0p02zMO2HWvbg/hafdsfKDbQ4it\nck+3B9AzftOBPjzQgU4KSkYbEX2vx39tnGndHkBExKQNTWBpQ9J8SXdLWi3pPWO0+XNJqyStlHRZ\nuz6T0UZE3+tURitpOrAYOB5YByyXtNT2qpY2BwN/Bxxr+3FJz23XbzLaiOh7Hmq+tDEPWG17je3N\nwBXAghFtzgIW234cwPZD7TpNoI2IvudBNV4kLZS0omVZ2NLVbOD+lu119b5WhwCHSLpB0k2S5rcb\nX0oHEdH3JlI6sL0EWDKJ0+0AHAy8EpgDXC/pP9n+5XgfiIjoax5Sp7paD+zdsj2n3tdqHXCz7aeA\neyT9lCrwLh+r05QOIqLvdbBGuxw4WNL+knYETgGWjmjzNapsFkmzqEoJ4z480CjQSnqtpATliOhJ\nthov4/fjAWARcA1wJ/AV2yslnSfpxLrZNcCjklYB3wfOtv3oeP3Kbv+MsKQvAS8F/jdwie27xmu/\n08579/aDx5OUJ8MiOuc3v7lv0v/fv+7oP2occ+bc/L2O1RmaalSjtX2apF2BU4EvSDLwz8DltjeV\nHGBERDtDg9s8dk5I43KA7Y3AVVTzyvYC/gtwq6R3FBpbREQjHlLjpRsaZbSSFgCnAwcBlwLzbD8k\n6VnAKuBTxUYYEdFGtwJoU02nd/0pcKHt61t32n5S0pmdH1ZERHMNbjV1VdPSwQMjg6ykDwPY/m7H\nRxURMQG9XjpoGmiPH2XfCZ0cSETE1urU9K5Sxi0dSHor8DbgQEl3tByaCdxQcmAREU0N9visg3Y1\n2suAbwEfBFrfy7jJ9mPFRhURMQHdylSbahdobXutpLePPCDp2Qm2EdEL+n3WwWXAa4BbAAOtV2Pg\ngELjiohorNdnHYwbaG2/pv77/ttmOBERE9frGW3Tl8r8hylco+2LiOiGwaFpjZduaDfrYGfgWcAs\nSb/HltLBrvzHt45HRHRFX5cOgLcAfwU8n6pOOxxoNwKfLjiuiIjGhvp51oHtTwCfkPQO23mfQUT0\npH6f3gWA7U9JehmwX+tnbF9aaFwREY31e+kAAElfBA4EbgcG692mepNXRERX9XXpoMWRwFw3+TmG\niIhtrFuzCZpqOrqfAM8rOZCIiK3lCSzd0DSjnQWskrQM+O3wTtsnjv2RiIhtY6qUDs4tOYiIiMmY\nKrMOflB6IBERW2uo2wNoo+kjuMdIWi7pCUmbJQ1K2lh6cBERTRg1Xrqhaeng08ApwJVUMxDeCBxS\nalARERMx0OOlg4n83PhqYLrtQdv/DMwvN6yIiOamSkb7pKQdgdslfQT4BRMI0hERJU2JGi3wF8B0\nYBHwK2Bv4PWlBhURMRFTIqO1fW+9+mvgf5YbTkTExPV6Rtv0XQf3MMpDFbbzUzYR0XWDXcpUm5rI\nuw6G7Qz8GfDszg8nImLievyXbBqXDh4dsevjkm4B3tf5IUVETMzQVMhoJb24ZXMaVYbbNBuOiCiq\n118r2DRYfowt1zIArKUqH0REdN2UuBkGfIMq0A7n5wZeI1Wbti/o/NAiIpoZ0hQoHQAvAY4C/i9V\nsH0tsAz4WaFxRUQ0Nti+SVc1DbRzgBfb3gQg6Vzgm7ZPKzWwiIimOjnrQNJ84BNUD2l93vaHxmj3\neuAq4CjbK8brs2mg3RPY3LK9ud4XEdF1nZp1IGk6sBg4HlgHLJe01PaqEe1mAn8J3Nyk36aB9lJg\nmaSv1tuvA77Q8LMREUV1cNbBPGC17TUAkq4AFgCrRrT7B+DDwNlNOm30rgPb7wfOAB6vlzNsf7DZ\nuCMiyhpS80XSQkkrWpaFLV3NBu5v2V5X73taPd11b9vfbDq+xnNhbd8K3Nq0fUTEtjKR6V22lwBL\ntuY8kqYBFwCnT+RzeeggIvreYOduhq2nejvhsDn1vmEzgcOB6+rprc8Dlko6cbwbYgm0EdH3OvjA\nwnLgYEn7UwXYU4A3DB+0vYHqV8EBkHQd8DedmnUwIV/f7diO9HPYPg93pJ+pbWbHe3zOSft0vM/t\n1Yavr+32ELYLnQq0tgckLQKuoZredYntlZLOA1bYXro1/SajjYi+18mfDLN9NXD1iH2jvkDL9iub\n9JlAGxF9b6q86yAiomdNlUdwIyJ61pR48XdERC9L6SAiorAE2oiIwqbKLyxERPSs1GgjIgrLrIOI\niMKGerx4kEAbEX0vN8MiIgrr7Xw2gTYipoBktBERhQ2ot3PaBNqI6Hu9HWYTaCNiCkjpICKisEzv\niogorLfDbAJtREwBKR1ERBQ22OM5bQJtRPS9ZLQREYU5GW1ERFnJaCMiCsv0roiIwno7zCbQRsQU\nMNDjoTaBNiL6Xm6GRUQUlpthERGFJaONiCgsGW1ERGGDTkYbEVFU5tFGRBTW6zXaad0ewHjuvG+P\nbg8hIvrA0ASWbujpjPawfR7u9hAiog/0eumgpzPaiIgmPIG/2pE0X9LdklZLes8ox98paZWkOyR9\nV9K+7fpMoI2IvjdoN17GI2k6sBg4AZgLnCpp7ohmtwFH2j4CuAr4SLvxJdBGRN8bwo2XNuYBq22v\nsb0ZuAJY0NrA9vdtP1lv3gTMaddpAm1E9L2J3AyTtFDSipZlYUtXs4H7W7bX1fvGcibwrXbj6+mb\nYRERTUxkepftJcCSyZ5T0mnAkcAr2rVNoI2IvtfBWQfrgb1btufU+55B0nHAe4FX2P5tu04TaCOi\n77lzj+AuBw6WtD9VgD0FeENrA0kvAj4LzLf9UJNOE2gjou916ufGbQ9IWgRcA0wHLrG9UtJ5wArb\nS4HzgRnAlZIA7rN94nj9JtBGRN/r5AMLtq8Grh6x730t68dNtM8E2ojoex0sHRSRQBsRfa/XH8FN\noI2Ivtfrb+9KoI2IvpcXf0dEFJbSQUREYQm0ERGFZdZBRERhyWgjIgrbLmcdqEMXfdd9szrSz1R2\nxNwHOt7npm+v6XifU8HKVXtuxad653fvbttpx24PYVTv6kAfg+7Wr4E1k4w2IvpearQREYWlRhsR\nUdh2WaONiNiWhlI6iIgoKxltRERhmXUQEVFYSgcREYWldBARUVgy2oiIwpLRRkQUNujBbg9hXAm0\nEdH38ghuRERheQQ3IqKwZLQREYVl1kFERGGZdRARUVgewY2IKCw12oiIwlKjjYgoLBltRERhmUcb\nEVFYMtqIiMIy6yAiorDcDIuIKKzXSwfTuj2AiIjJ8gT+akfSfEl3S1ot6T2jHN9J0pfr4zdL2q9d\nnwm0EdH3bDdexiNpOrAYOAGYC5wqae6IZmcCj9s+CLgQ+HC78SXQRkTfG7IbL23MA1bbXmN7M3AF\nsGBEmwXAv9TrVwGvkqTxOi1Soz3+wS+Pe9KIfrRntwcwSX/U7QEUNLB5feOYI2khsLBl1xLbS+r1\n2cD9LcfWAUeP6OLpNrYHJG0AngM8MtY5czMsIrYrdVBd0rZhB6V0EBGxxXpg75btOfW+UdtI2gHY\nDXh0vE4TaCMitlgOHCxpf0k7AqcAS0e0WQq8qV4/Cfie29xlS+kgIqJW11wXAdcA04FLbK+UdB6w\nwvZS4GLgi5JWA49RBeNxqdcn+sa2JekJ2zM63OeJwFzbH5L0OuCntldNsI/rgL+xvaKTY4vYFlI6\niOJsL7X9oXrzdVTzEyO2Gwm0MSpVzpf0E0n/Junkev8rJV0n6SpJd0n6X8NzCCW9ut53i6RPSvpG\nvf90SZ+W9DLgROB8SbdLOrDu68i63SxJa+v1XSRdIelOSV8FdmkZ2x9LulHSrZKulNTRDDyi01Kj\njbH8KfAHwO8Ds4Dlkq6vj70IeCHwc+AG4FhJK4DPAi+3fY+ky0d2aPv/SVoKfMP2VQDjzPN+K/Ck\n7cMkHQHcWrefBZwDHGf7V5LeDbwTOK8TFx1RQgJtjOUPgcttDwIPSvoBcBSwEVhmex2ApNuB/YAn\ngDW276k/fznPnBQ+US8HPglg+w5Jd9T7j6EqPdxQB+kdgRsncZ6I4hJoY2v8tmV9kMn9czTAlhLW\nzg3aC/iO7VMncc6IbSo12hjLD4GTJU2XtAdVhrlsnPZ3Awe0vMno5DHabQJmtmyvBV5Sr5/Usv96\n4A0Akg4Hjqj330RVqjioPva7kg5pcD0RXZNAG2P5KnAH8GPge8Df2n5grMa2fw28Dfi2pFuoAuqG\nUZpeAZwt6TZJBwIfBd4q6TaqWvCwi4AZku6kqr/eUp/nYeB04PK6nHAj8ILJXGhEaZlHGx0jaYbt\nJ+pZCIuBn9m+sNvjiui2ZLTRSWfVN8dWUj3//dkujyeiJySjjYgoLBltRERhCbQREYUl0EZEFJZA\nGxFRWAJtRERh/x9Cl1dhM+5eEQAAAABJRU5ErkJggg==\n",
                "text/plain": "<Figure size 432x288 with 2 Axes>"
              },
              {
                "output_type": "display_data",
                "metadata": {
                  "tags": []
                },
                "image/png": "iVBORw0KGgoAAAANSUhEUgAAAVoAAAEFCAYAAACiiS9UAAAABHNCSVQICAgIfAhkiAAAAAlwSFlz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\n",
                "text/plain": "<Figure size 432x288 with 2 Axes>"
              },
              {
                "output_type": "display_data",
                "metadata": {
                  "tags": []
                },
                "image/png": "iVBORw0KGgoAAAANSUhEUgAAAVoAAAEFCAYAAACiiS9UAAAABHNCSVQICAgIfAhkiAAAAAlwSFlz\nAAALEgAACxIB0t1+/AAAADh0RVh0U29mdHdhcmUAbWF0cGxvdGxpYiB2ZXJzaW9uMy4xLjIsIGh0\ndHA6Ly9tYXRwbG90bGliLm9yZy8li6FKAAAdQElEQVR4nO3df9QkVX3n8fdnBglGQKKTRGFYQMCj\nhBhFAX/sKmdFgxwFNokCYlyMMq4JHhM3+CNrWINxRV0loBidKCF4IkRJzM7qJLBRkQ2LMgMYlDHE\nCaAMYgiK/DTAPM93/6h6mOahf1T3U7frVtXnNafP9NNdfau6u/rWp27dW6WIwMzM0lnV9AKYmXWd\nK1ozs8Rc0ZqZJeaK1swsMVe0ZmaJuaI1M0vMFW3HSTpJ0qUzvvZ6SUfUvEjZkfRxSb/f9HJYd8n9\naPMi6WbgDRHxd3Oe7/nAtoh41wyvDeB+IIC7gL8ATouIhVoX0qylnGitLr8UEbsCLwKOB36j7hmo\n4HXWWscrbUtIOkXSVkk/krRB0p4Dz71U0g2S7pL0MUlflfSG8rmTJf19eV+SzpJ0u6S7JX1T0sGS\n1gEnAW+TdK+k/11Of7OkI8v7qyX9nqR/lnSPpKsl7b18OSNiK3AF8MyB5Xu8pE9Juk3SrZL+UNLq\ngXI/JOkOSTdJOlVSSNqpfP4ySe+VdAVFan7KhPIOKN//XWWZfzHuvZfPnS/pDyt+1iHpv0j6jqQf\nSzpXkur4jq27XNG2gKT/CLwPeBXwZOC7wEXlc2uAi4F3Ak8EbgCeP6KolwIvBJ4KPL4s74cRsR74\nc+ADEbFrRLxiyGvfCpwIHA3sTpFY7x+yrE8D/gOwdeDh84HtwAHAs8rleEP53CnAyygq5kOA44bM\n+9eBdcBu5XsfV957gEuBnwHWAh8Z996HLP/Iz3rAy4FDgWeU0/3ykGU2e5gr2nY4CTgvIq6JiAco\nKtXnSdqXouK7PiL+KiK2A+cAPxhRzkMUldXTKNrnvx0Rt1VchjcA74qIG6LwDxExWFFdI+k+4NvA\nZcDHACT9fLmMvx0R90XE7cBZwAnl614FnB0R2yLiTuDMIfM+PyKuL9/fEyaU9xCwD7BnRPxbRPz9\nlO993Ge95MyI+HFEfA/4CgPp3WwYV7TtsCdFsgIgIu6lSGN7lc/dMvBcANuGFRIRXwY+CpwL3C5p\nvaTdKy7D3sA/j3n+EGBXivbZw4HHlY/vAzwGuK3c1f4x8Ang5wbe2y0D5QzeH/bYpPLeBgi4quw1\n8Rsw1Xsf91kvGdyQ3V++b7ORXNG2w/cpKhgAJD2OopngVuA2il3kpec0+PdyEXFORDwbOIhiN/q0\npacmLMMtwP7jJiiT7meBK4HTB173ALAmIvYob7tHxC+Uzz9i+Skq9EcVvWw5RpYXET+IiFMiYk/g\njcDHJB0w4b0PGvdZm83EFW2eHiNpl6UbcCHwOknPlPRTwP8Avh4RNwNfBH5R0nHlAaTfAp40rFBJ\nh0o6XNJjgPuAfwMWy6f/BXjKmGX6JPAeSQeWB5aeIemJI6Y9EzhF0pPK3fNLgQ9J2l3SKkn7S3pR\nOe1ngbdI2kvSHsDbx30wk8qT9EpJSxX3nRSV9OKE9z5o3GdtNhNXtHnaCPxk4HYE8PvAX1IkwP0p\n2yQj4g7glcAHKHZxDwI2U6S+5XYH/oSiAvpuOf0Hy+c+BRxU7o7/9ZDXfpiiUrwUuLuc/rHDFj4i\nvglczo7E+FpgZ2BLOe+LKQ40US7PpcB1wLXle98OjOuDO668Q4GvS7oX2AC8JSJunPDeB5f97xjx\nWZvNygMWOkZFP9NtwEkR8ZWml2dakl4GfDwi9pk4sVlLONF2gKRflrRHuav7exQHg77W8GJVIumx\nko6WtJOkvYD/Dny+6eUyq5Mr2m54HkWPgDuAVwDHRcRPml2kygT8AcUu/bUU3cNOH/sKs4QknVcO\nbPnWiOcl6ZxyUMt1kg6ZWKabDszMdpD0QuBe4IKIOHjI80cDb6boz304RT/ww8eV6URrZjYgIi4H\nfjRmkmMpKuGIiK8Be0h68pjp2anOBVxyxj4nOSY3aFifpS5Z7MCZBRYndlvOwzyW8r03f2bF3+hD\nd9xYeVF3/tn930gxpHvJ+nIYelV78chBNNvKx0aOskxS0ZqZ5aqsVKepWFcsSUXbgcAxd3Umhza1\nB82SvldlGganSdqrGv6VVE3UrfktL8711Me38sgRjGuZMHKwTb9JM7PhFrZXv63cBuC1Ze+D5wJ3\nTTo5U5JE26fau6720NYkhzFmCZq5ryvTfL9NJ+0uJuqqIuo7MiHpQorRmGskbaPo2/2YYj7xcYrR\ni0dTnAr0fuB1k8p0G62Ztd9ifRVtRJw44fmgOKdIZYkS7fy3lk0dxc09kc1i1lU291Te9sQ96Xtp\nOlEPmpSua68jaky0KTjRmln7zfdg2NRc0ZpZ+znRzkfTjfs5WWkzSk67y5NM8/PKcQ2Z5ptq+nvJ\n+cBg1NObIJnOVLRm1mM1HgxLwQMWMrTSMND2dD9NIm865Y1S9Wef0zc16VPP9bMG3HRgZpZcHw+G\nZb3lq0HqbWdOKWelZutSlf8nMCl15/IbaHsbdmVOtGZmifXxYFiKI445nRovl7Qyb7Nkhoy+tomm\n6wGQxztrS7KGxHuCfTwYZmY2TxE9bKNNIafhhW1Uxx5BTulonC4MIa66ujedrLPpIeI2WjOzxPrY\ndJBTMmi7uoJ8F/YIqqbyNiTvSdVCLr+hyX1rM1lSJ1ozs8QWHmp6CcZyRWtm7dfHpoM27LrVxYMX\npjdrK0buzR/TXeEgD21pwpjITQdmZon1MdH2SS7JpCldH8QwaOKBoQwT9+QrHXSEK1ozs7SijwfD\nOrOV7JlZMkHbv+u2n3SlTSk76TB6t9GamSXWx6aDnLaiXVdnSuhTOl2S63vu5InDU9YLTrRmZon1\nMdHmtJVtWupw3/W9hzb2Ta1iUrWQ43vJus+tE62ZWWLbe3jib9vB6X6HmS5r06LE3vb03caU/TAn\nWjOzxPrYRmtmNld9TLRZ72LYinXhCgazaNPggGE6PRzXidbMLDEnWstBnathl77frg/BHZRT4q59\nOK57HZiZJRYZbUWGSDNgIe/3nKVIHJe6lEJH6dIQ3CVZDxIYY+7t2W6jNTNLzBWtVeG9gOGmSfq5\np9Nh2jpIILukXePBMElHAWcDq4FPRsSZy57/d8CfAXuU07wjIjaOK9MVrZm138JCLcVIWg2cC7wE\n2AZskrQhIrYMTPYu4LMR8ceSDgI2AvuOK9e9DmxuZrrsTUuTftUknutvpXVJu76mg8OArRFxI4Ck\ni4BjgcGKNoDdy/uPB74/qVAnWjNrvykqWknrgHUDD62PiPXl/b2AWwae2wYcvqyIdwOXSnoz8Djg\nyEnzdEVrZu03RRttWamunzjhaCcC50fEhyQ9D/i0pIMjRi+Emw6sspXunHVpvZh4MCjzJo9JTRtt\n+65isbYP/FZg74G/15aPDXo9cBRARFwpaRdgDXD7qELb9nmamT3a4mL123ibgAMl7SdpZ+AEYMOy\nab4HvBhA0tOBXYB/HVeorxnWEUmvMFrq+lZ5msSe+2fR9sQ9tZp6HUTEdkmnApdQdN06LyKul3QG\nsDkiNgD/FfgTSb9DcWDs5IjxQ9PcRmtm7VfjgIWyT+zGZY+dPnB/C/CCacp0RdsR3ovYYdZ0n3tK\nHdS67lfUe2KjRxfukWFmZmn18qQyKQq13qv6U+pCum/jSbobTdlOtGZmidXXvSsJ96O1uVlp5mj7\nnlJbT9I9zLDE3ejvvqZeB6k40ZpZ64WbDh4t96217VBn/9yu7+lkd+rAFWjdhSj72HRgZjZXfbw4\no5nZXPUx0Wa3W1FB07t1uX5kbfwu6zRN00mbmka61MwBwHYfDDMzS6uPTQet2xpmwJ9ZerOE87Ym\n+jYOeFiRPjYdmJnNUy+7d63KtsXRumBxxvzfpb2G1nW/Wqb203o60ZqZJeaKtprct8BWn5Wmma7u\nMU2T1HNP53NP3B6Ca2aWVo3XDEuil/1oO3fEtWapDyvkvn6kMrknQHs+mEnpe+6Ju48VrZnZXPWz\n14G1mb+/6qa6oGPeoesRWpe+nWjNzBJzRWtmllYs9LDpYEnuXVDMBs00RLf2pZivUdVTm5o5ACda\nM7PUetm9q64kuyrzSwhbnhblIbqVrxicdCnmqI8VrZnZXOXdRJtqwELeW5fObMU7pq7fSu7rXx0m\npfYupfMqYnveNa0TrZm1X971rAcs5GieaSSn7Of1ZodJ9UYbU/usbedV9PJgmJnZXPUx0U7St/aj\nnPm7mJ9pMlcb032TKdyJ1swstT4m2tQpKbsTWljvzHI5nbbvPUw8mfdclmK42N7gzCtwojWz1sv8\nauOtbAoyM3ukxSluE0g6StINkrZKeseIaV4laYuk6yV9ZlKZvb8KbutOnmG1mvX6ZW1ax6vK7qoJ\nU6gr0UpaDZwLvATYBmyStCEitgxMcyDwTuAFEXGnpJ+bVK4TrZm1XixWv01wGLA1Im6MiAeBi4Bj\nl01zCnBuRNwJEBG3Tyo0aRut0yKog8mnKZEgU/VpHW3dVROmEAtTXEFYWgesG3hofUSsL+/vBdwy\n8Nw24PBlRTy1LOcKYDXw7oj423Hz9MEwM2u9aZoOykp1/cQJR9sJOBA4AlgLXC7pFyPix+NeULuV\npgSnQBvG68WjTZPyu5zeY9bG9ke7Fdh74O+15WODtgFfj4iHgJsk/RNFxbtpVKFuozWz1quxjXYT\ncKCk/STtDJwAbFg2zV9TpFkkraFoSrhxXKGVEq2kVwBfjKgW0JtIHt5iWJdU3RN2yi9E1JNoI2K7\npFOBSyjaX8+LiOslnQFsjogN5XMvlbQFWABOi4gfjiu3atPB8cAfSfrLcsb/OPM7MTOrWZ0DFiJi\nI7Bx2WOnD9wP4K3lrZJKFW1EvEbS7sCJwPmSAvhT4MKIuGf59G1Ml21cZmuXaeqCLq2P8xi0tThF\nr4MmVP4+I+Ju4GKKfmVPBv4TcI2kNydaNjOzSmJRlW9NqNpGeyxwMnAAcAFwWETcLumngS3AR5It\noZnZBE1VoFVVbaP9FeCsiLh88MGIuF/S62edeZd2jwb5AEU3rXTARBfX9yrNAvN437lfcKLqZ/CD\n5ZWspPcDRMSXal8qM7MpdKLpgOIEC29f9tjLhjwGpNmCOSXu0MVkVKdUB1/6uA5OSvG5rIt1de9K\nZWxFK+lNwG8C+0u6buCp3YArUi6YmVlVC5n3OpiUaD8D/A3wPmDwvIz3RMSPRr0opy1/Lltcmx9/\n55N1bUBEqxMtRd/cmyX91vInJD1hXGVrZjYvbe918Bng5cDVFJcMGnw3ATyl6ozalDLashU3GzTV\nCWYSLkcTcu91MLaijYiXl//vN5/FMTObXtsTLQCSvhQRL5702JKVbi3bnijbfAJly8s0V9tt++9m\nJRYW887ok3od7AL8NLBG0s+wo+lgd4ozkZuZNa7VTQfAG4HfBvakaKddqmjvBj466kXz3LJ2PT2u\nynuPyCZYXOHq2fX1uy6Lbe51EBFnA2dLenNEZHc+A6+EZgbt794FQER8RNLzgX0HXxMRFyRaLjOz\nytredACApE8D+wPfoDijOBTduypXtDmlT++OD9fHgykprqw7yOvayptPqs0j7w+66rkOngMcVJ5Z\n3MwsK63udTDgW8CTgNuqTDxLes19y9/HtNcH/l5nM9XgiDn8tnP/FqtWtGuALZKuAh5YejAijkmy\nVGZmU+hK08G7pyk09RasTSkk7x0asx2mOb1kbr/BrvQ6+GrqBTEzm9U8LgC5ElV7HTyX4rpgTwd2\nprje+X0RsfvY12Ww1Wt7oiwuOGw2m2mSXpt/K6l7j6xU1aaDjwInAJ+j6IHwWuCpqRbKzGwa27vQ\ndAAQEVslrY6IBeBPJV0LvHPYtLMk2aa3pl1Pjqs6/v66aqUHebq+Xi/pSqK9X9LOwDckfYCim1fT\ndaOZGdCRNlrg1ynaZU8FfgfYG/jVURMnuThjRltmp8Px8s4W9ZjXGuB1rZpOJNqI+G559yfAH6Rb\nHDOz6XUi0Uq6iSEb8YiofCkbM7NUFrqQaCl6GizZBXgl8IRpZjTPXf8cd7fyXg1sWv4+V6buX2jm\nV7Kp3HTww2UP/ZGkq4HT618kM7PpTHPJnyZUbTo4ZODPVRQJd+RrZ0mvTaXQvL+ePNO52TDTdEWr\n+3eX+6+katPBh9jxXrYDN1M0H5iZNa4TB8OAL1BUtEsbogBeLhV/RsSHBydOkcKaSp5tT5Q5dYuz\n9pjlJC1N/lYWlfe+adWK9tnAocD/oqjzXgFcBXwn0XKZmVW2MHmSRlWtaNcCh0TEPQCS3g18MSJe\nU3VGqbc3OSXPrqfInD5rG2/WIbxtW4fr7HUg6SjgbIpBWp+MiDNHTPerwMXAoRGxeVyZVSvanwce\nHPj7wfIxM7PG1dXrQNJq4FzgJcA2YJOkDRGxZdl0uwFvAb5epdyqFe0FwFWSPl/+fRxw/siFrVjo\noHmmpJy21k6H1WXeDDeVeV19ry/rV43v8jBga0TcCCDpIuBYYMuy6d4DvB84rUqhlU5LEBHvBV4H\n3FneXhcR76u23GZmaS2q+k3SOkmbB27rBoraC7hl4O9t5WMPK7u77h0RX6y6fNOcJvEa4Jqq05uZ\nzcs03bsiYj2wfpb5SFoFfBg4eZrXVa5op5Gke1fPh/AO6tIudF/5O6zXQn2f560UZydcsrZ8bMlu\nwMHAZWX31icBGyQdM+6AWJKK1sxsnmocsLAJOFDSfhQV7AnAq5eejIi7KK4KDoCky4DfravXwYql\nTqSNDeFtSTLJ6QCgWd3qqmgjYrukU4FLKLp3nRcR10s6A9gcERtmKdeJ1sxar85LhkXERmDjsseG\nnkArIo6oUmaSijbHk8o0nTy7kChzb7u2fKz0WmdTz2+uc5ueE62ZtV5XhuBOJU2vg9qLHDOvZpNb\n15Nj03sXNtlKB1TMex3uxIm/zcxy5qaDIVIkmr73s3VKrK7pPZZZzXLqwlm1bX1yRWtmlljum85E\nvQ5W+vr6Pzb3s92hrYmu7/y9jeY2WjOzxHrZ68DMbJ4WM288aOUQ3C4ObmjTbmGOBwOt33wwzMws\nsdw3/Y0OwU2VjFIn0qbTZ9sTpVa1e/ktP060ZmaJbc88fGQ9BDdVMu3qKRuH6VN6zLErXV/N65po\nD89vvrObmhOtmbWemw6GqCt5pEqmc70ib0aJ04mwPk18r5FRr/15r0vu3mVmllje1WxGQ3DblE7n\nmVZyT5k5JfK+6/N34aYDM7PEFjLPtEkr2lxHg6Xe8jcysqylaabpPsnWDU60ZmaJRZ8TrZnZPPQy\n0TYxBLfOXefkQ3gb3s3v0u56ToNDrDnu3mVmllje1WzuQ3BrSH5Jrk821+5d+axCfUyPWtX0ElgV\n2zOvap1ozaz1fDBsiJUmwjpTaop02vsr8joF2pz18mCYmdk89TLRzpISc02pXTmlYhtSZk7t0dYu\nTrRmZoktzPsEuFOa48UZV/j6TFNq8gtFNpBE25osm+6fbM1xP1ozs8T62UY7y2kSV9wTYWWvT3ah\nyMSJtOn02dUUmfvpKe2R3EZr1jKuZNsn96aDFhyLNjMbL6b4N4mkoyTdIGmrpHcMef6tkrZIuk7S\nlyTtM6nMtOejbbg5AOocDlxLMY8ud27du/LZ4jsx7pDT99JmdfU6kLQaOBd4CbAN2CRpQ0RsGZjs\nWuA5EXG/pDcBHwCOH1euE62Ztd4iUfk2wWHA1oi4MSIeBC4Cjh2cICK+EhH3l39+DVg7qdBGByzM\nmubqPb1iTeUkO5g2/8STa+J0+rNRpjkYJmkdsG7gofURsb68vxdwy8Bz24DDxxT3euBvJs3TB8PM\nrPWm6d5VVqrrJ044gaTXAM8BXjRp2iyvGbbSxLrSlJoinaZKY74+2XhtWlabXY29Dm4F9h74e235\n2CNIOhL4b8CLIuKBSYU60ZpZ60V9Q3A3AQdK2o+igj0BePXgBJKeBXwCOCoibq9SaCOXsml7Yk1z\nasXai3xk+Q0luy4lylzbrq2+y41HxHZJpwKXAKuB8yLieklnAJsjYgPwQWBX4HMqVorvRcQx48p1\nojWz1qtzwEJEbAQ2Lnvs9IH7R05bZtKKdtbkOktizSmltvXyObmkzz4lx1w+87arsekgCSdaM2u9\n3IfguqI1s9br5dm7JjUZtLFpINcrQKQsc+S8Mt219254fdpwRY5BPvG3mVlivWw6mFdirSPB1JXO\naj2Y1sLuYyPnm3nKbFtys+F6WdGamc2Tex0MMc/02vS1ytqYTpsb3NDIbFek6StcWMGJ1swssV72\nOphXYp012eWUUts4uKHp5NnVFNn059pmC5H3VcOcaM2s9dxGO0T1E4OnLT/Z67Pvc1t7kaPnlVH6\ndGJ8tNx7hVTlNlozs8T62UabeXvrPJevrvmPLqu2onaU2VAKzTFxdiXxdd2imw7S8Y/AzKCnidbM\nbJ7c66A0y673zIMUGmgayLU5IHUzQBO7+23ak8mxOaSL3HRgZpZYL5sOUqfXNibWpq9zNrLcxImr\n6fTZqUSZUVe53DjRmpkl1stEO0nlAQtzPJHM7O3BM71sx+trSimpkttcTyieS/p0csznu6hoIRaa\nXoSxnGjNrPV6PQQ3VbtrnxJrXcliPlfRTT6LckZ5/qjalgK7xENwzcwS62WinZSecjqpTBOJtdZ+\nspn23x0+g/n/GNqUMtu0rLlxrwMzs8R63esgVbvrbCeSmfolxesaSKzZp9QOjjbLcRlWou3LPy0P\nwTVrmb5VUl3QyzZaM7N56mUb7cSDYRWbCeZxUKuNTQO1Jq4EzQBzvYJD09cv62v6zex9O9GamSXW\n6360qQ5wzZIiZh04MNO85niwbnhheR9M61PinSj35WsJJ1ozs8R62etgUpKtflKZWeefOB03kVgz\nTanpT7OYtvyhWpQys0/sc9LLg2FmZvPkpoPS5GG5U5SVuKdAGxNrrik1eeJyr4P6tPi91DkyTNJR\nwNnAauCTEXHmsud/CrgAeDbwQ+D4iLh5XJkt/mjNzAoRUfk2jqTVwLnAy4CDgBMlHbRsstcDd0bE\nAcBZwPsnLZ8rWjNrvcWIyrcJDgO2RsSNEfEgcBFw7LJpjgX+rLx/MfBiafyRqSRNB3tv+tIKr9Bl\nZlbd9gdvrVznSFoHrBt4aH1ErC/v7wXcMvDcNuDwZUU8PE1EbJd0F/BE4I5R8/TBMDPrlbJSXT9x\nwhq56cDMbIdbgb0H/l5bPjZ0Gkk7AY+nOCg2kitaM7MdNgEHStpP0s7ACcCGZdNsAP5zef/XgC/H\nhKNsbjowMyuVba6nApdQdO86LyKul3QGsDkiNgCfAj4taSvwI4rKeCzl3tHX5kvSvRGxa81lHgMc\nFBFnSjoO+KeI2DJlGZcBvxsRm+tcNrN5cNOBJRcRGwY6fR9H0T/RrDdc0dpQKnxQ0rckfVPS8eXj\nR0i6TNLFkv5R0p8v9SGUdHT52NWSzpH0hfLxkyV9VNLzgWOAD0r6hqT9y7KeU063RtLN5f3HSrpI\n0rclfR547MCyvVTSlZKukfQ5SbUmcLO6uY3WRvkV4JnALwFrgE2SLi+fexbwC8D3gSuAF0jaDHwC\neGFE3CTpwuUFRsT/k7QB+EJEXAwwpp/3m4D7I+Lpkp4BXFNOvwZ4F3BkRNwn6e3AW4Ez6njTZim4\norVR/j1wYUQsAP8i6avAocDdwFURsQ1A0jeAfYF7gRsj4qby9RfyyE7h03ohcA5ARFwn6bry8edS\nND1cUVbSOwNXrmA+Zsm5orVZPDBwf4GVrUfb2dGEtUuF6QX8n4g4cQXzNJsrt9HaKP8XOF7Sakk/\nS5Ewrxoz/Q3AUyTtW/59/Ijp7gF2G/j7ZoqzIEHRJ3HJ5cCrASQdDDyjfPxrFE0VB5TPPU7SUyu8\nH7PGuKK1UT4PXAf8A/Bl4G0R8YNRE0fET4DfBP5W0tUUFepdQya9CDhN0rWS9gf+J/AmSddStAUv\n+WNgV0nfpmh/vbqcz78CJwMXls0JVwJPW8kbNUvN/WitNpJ2jYh7y14I5wLfiYizml4us6Y50Vqd\nTikPjl1PMf77Ew0vj1kWnGjNzBJzojUzS8wVrZlZYq5ozcwSc0VrZpaYK1ozs8T+P6nnD/uzRf6w\nAAAAAElFTkSuQmCC\n",
                "text/plain": "<Figure size 432x288 with 2 Axes>"
              }
            ],
            "_view_module": "@jupyter-widgets/output",
            "_model_module_version": "1.0.0",
            "_view_count": null,
            "_view_module_version": "1.0.0",
            "layout": "IPY_MODEL_ed1cea6fba4e4581b310396b8315bd4f",
            "_model_module": "@jupyter-widgets/output"
          }
        },
        "d76db38ac9754d92930a35123ab2e75b": {
          "model_module": "@jupyter-widgets/controls",
          "model_name": "SliderStyleModel",
          "state": {
            "_view_name": "StyleView",
            "handle_color": null,
            "_model_name": "SliderStyleModel",
            "description_width": "",
            "_view_module": "@jupyter-widgets/base",
            "_model_module_version": "1.5.0",
            "_view_count": null,
            "_view_module_version": "1.2.0",
            "_model_module": "@jupyter-widgets/controls"
          }
        },
        "8277144c026042c6bb5f595ef5991e0a": {
          "model_module": "@jupyter-widgets/base",
          "model_name": "LayoutModel",
          "state": {
            "_view_name": "LayoutView",
            "grid_template_rows": null,
            "right": null,
            "justify_content": null,
            "_view_module": "@jupyter-widgets/base",
            "overflow": null,
            "_model_module_version": "1.2.0",
            "_view_count": null,
            "flex_flow": null,
            "width": null,
            "min_width": null,
            "border": null,
            "align_items": null,
            "bottom": null,
            "_model_module": "@jupyter-widgets/base",
            "top": null,
            "grid_column": null,
            "overflow_y": null,
            "overflow_x": null,
            "grid_auto_flow": null,
            "grid_area": null,
            "grid_template_columns": null,
            "flex": null,
            "_model_name": "LayoutModel",
            "justify_items": null,
            "grid_row": null,
            "max_height": null,
            "align_content": null,
            "visibility": null,
            "align_self": null,
            "height": null,
            "min_height": null,
            "padding": null,
            "grid_auto_rows": null,
            "grid_gap": null,
            "max_width": null,
            "order": null,
            "_view_module_version": "1.2.0",
            "grid_template_areas": null,
            "object_position": null,
            "object_fit": null,
            "grid_auto_columns": null,
            "margin": null,
            "display": null,
            "left": null
          }
        },
        "f18bdf4cb05e46afb560eee9cf4d4c65": {
          "model_module": "@jupyter-widgets/controls",
          "model_name": "SliderStyleModel",
          "state": {
            "_view_name": "StyleView",
            "handle_color": null,
            "_model_name": "SliderStyleModel",
            "description_width": "",
            "_view_module": "@jupyter-widgets/base",
            "_model_module_version": "1.5.0",
            "_view_count": null,
            "_view_module_version": "1.2.0",
            "_model_module": "@jupyter-widgets/controls"
          }
        },
        "ad2afaf4e68b4ddf81c162fd0eb0c8da": {
          "model_module": "@jupyter-widgets/base",
          "model_name": "LayoutModel",
          "state": {
            "_view_name": "LayoutView",
            "grid_template_rows": null,
            "right": null,
            "justify_content": null,
            "_view_module": "@jupyter-widgets/base",
            "overflow": null,
            "_model_module_version": "1.2.0",
            "_view_count": null,
            "flex_flow": null,
            "width": null,
            "min_width": null,
            "border": null,
            "align_items": null,
            "bottom": null,
            "_model_module": "@jupyter-widgets/base",
            "top": null,
            "grid_column": null,
            "overflow_y": null,
            "overflow_x": null,
            "grid_auto_flow": null,
            "grid_area": null,
            "grid_template_columns": null,
            "flex": null,
            "_model_name": "LayoutModel",
            "justify_items": null,
            "grid_row": null,
            "max_height": null,
            "align_content": null,
            "visibility": null,
            "align_self": null,
            "height": null,
            "min_height": null,
            "padding": null,
            "grid_auto_rows": null,
            "grid_gap": null,
            "max_width": null,
            "order": null,
            "_view_module_version": "1.2.0",
            "grid_template_areas": null,
            "object_position": null,
            "object_fit": null,
            "grid_auto_columns": null,
            "margin": null,
            "display": null,
            "left": null
          }
        },
        "96e8af007ed84132812d32b130187687": {
          "model_module": "@jupyter-widgets/controls",
          "model_name": "VBoxModel",
          "state": {
            "_view_name": "VBoxView",
            "_dom_classes": [
              "widget-interact"
            ],
            "_model_name": "VBoxModel",
            "_view_module": "@jupyter-widgets/controls",
            "_model_module_version": "1.5.0",
            "_view_count": null,
            "_view_module_version": "1.5.0",
            "box_style": "",
            "layout": "IPY_MODEL_0bd15961907d4488a1ffeb6b7defa5e8",
            "_model_module": "@jupyter-widgets/controls",
            "children": [
              "IPY_MODEL_19cf83102d38422396705acfbc26b422",
              "IPY_MODEL_511cf0619cb14e00b88dc268fb708d9e",
              "IPY_MODEL_37accbbc90b94da6b1f3f8a701d94b87"
            ]
          }
        },
        "0bd15961907d4488a1ffeb6b7defa5e8": {
          "model_module": "@jupyter-widgets/base",
          "model_name": "LayoutModel",
          "state": {
            "_view_name": "LayoutView",
            "grid_template_rows": null,
            "right": null,
            "justify_content": null,
            "_view_module": "@jupyter-widgets/base",
            "overflow": null,
            "_model_module_version": "1.2.0",
            "_view_count": null,
            "flex_flow": null,
            "width": null,
            "min_width": null,
            "border": null,
            "align_items": null,
            "bottom": null,
            "_model_module": "@jupyter-widgets/base",
            "top": null,
            "grid_column": null,
            "overflow_y": null,
            "overflow_x": null,
            "grid_auto_flow": null,
            "grid_area": null,
            "grid_template_columns": null,
            "flex": null,
            "_model_name": "LayoutModel",
            "justify_items": null,
            "grid_row": null,
            "max_height": null,
            "align_content": null,
            "visibility": null,
            "align_self": null,
            "height": null,
            "min_height": null,
            "padding": null,
            "grid_auto_rows": null,
            "grid_gap": null,
            "max_width": null,
            "order": null,
            "_view_module_version": "1.2.0",
            "grid_template_areas": null,
            "object_position": null,
            "object_fit": null,
            "grid_auto_columns": null,
            "margin": null,
            "display": null,
            "left": null
          }
        },
        "19cf83102d38422396705acfbc26b422": {
          "model_module": "@jupyter-widgets/controls",
          "model_name": "IntSliderModel",
          "state": {
            "_view_name": "IntSliderView",
            "style": "IPY_MODEL_e81af4b76bde4a079d272e996d6aaeae",
            "_dom_classes": [],
            "description": "max_depth",
            "step": 1,
            "_model_name": "IntSliderModel",
            "orientation": "horizontal",
            "max": 6,
            "_view_module": "@jupyter-widgets/controls",
            "_model_module_version": "1.5.0",
            "value": 4,
            "_view_count": null,
            "disabled": false,
            "_view_module_version": "1.5.0",
            "min": 1,
            "continuous_update": true,
            "readout_format": "d",
            "description_tooltip": null,
            "readout": true,
            "_model_module": "@jupyter-widgets/controls",
            "layout": "IPY_MODEL_4ad3bc52915f4827bf64322603c548b1"
          }
        },
        "511cf0619cb14e00b88dc268fb708d9e": {
          "model_module": "@jupyter-widgets/controls",
          "model_name": "IntSliderModel",
          "state": {
            "_view_name": "IntSliderView",
            "style": "IPY_MODEL_2e0713ba4a4d47dfa7e1c5c50167a96e",
            "_dom_classes": [],
            "description": "n_estimators",
            "step": 1,
            "_model_name": "IntSliderModel",
            "orientation": "horizontal",
            "max": 5,
            "_view_module": "@jupyter-widgets/controls",
            "_model_module_version": "1.5.0",
            "value": 3,
            "_view_count": null,
            "disabled": false,
            "_view_module_version": "1.5.0",
            "min": 2,
            "continuous_update": true,
            "readout_format": "d",
            "description_tooltip": null,
            "readout": true,
            "_model_module": "@jupyter-widgets/controls",
            "layout": "IPY_MODEL_9d28523c541a4167a81a011075da6c42"
          }
        },
        "37accbbc90b94da6b1f3f8a701d94b87": {
          "model_module": "@jupyter-widgets/output",
          "model_name": "OutputModel",
          "state": {
            "_view_name": "OutputView",
            "msg_id": "",
            "_dom_classes": [],
            "_model_name": "OutputModel",
            "outputs": [
              {
                "output_type": "display_data",
                "metadata": {
                  "tags": []
                },
                "image/png": "iVBORw0KGgoAAAANSUhEUgAAAVoAAAEFCAYAAACiiS9UAAAABHNCSVQICAgIfAhkiAAAAAlwSFlz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\nAAAAAElFTkSuQmCC\n",
                "text/plain": "<Figure size 432x288 with 2 Axes>"
              },
              {
                "output_type": "display_data",
                "metadata": {
                  "tags": []
                },
                "image/png": "iVBORw0KGgoAAAANSUhEUgAAAVoAAAEFCAYAAACiiS9UAAAABHNCSVQICAgIfAhkiAAAAAlwSFlz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\nSY0ZaCWpMQOtJDVmoJWkxgy0ktTY/wNHx99yI2KIbAAAAABJRU5ErkJggg==\n",
                "text/plain": "<Figure size 432x288 with 2 Axes>"
              },
              {
                "output_type": "display_data",
                "metadata": {
                  "tags": []
                },
                "image/png": "iVBORw0KGgoAAAANSUhEUgAAAVoAAAEFCAYAAACiiS9UAAAABHNCSVQICAgIfAhkiAAAAAlwSFlz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\n",
                "text/plain": "<Figure size 432x288 with 2 Axes>"
              },
              {
                "output_type": "display_data",
                "metadata": {
                  "tags": []
                },
                "image/png": "iVBORw0KGgoAAAANSUhEUgAAAVoAAAEFCAYAAACiiS9UAAAABHNCSVQICAgIfAhkiAAAAAlwSFlz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\n",
                "text/plain": "<Figure size 432x288 with 2 Axes>"
              }
            ],
            "_view_module": "@jupyter-widgets/output",
            "_model_module_version": "1.0.0",
            "_view_count": null,
            "_view_module_version": "1.0.0",
            "layout": "IPY_MODEL_e8d304618f7a43dfa4e284829bfe2707",
            "_model_module": "@jupyter-widgets/output"
          }
        },
        "e81af4b76bde4a079d272e996d6aaeae": {
          "model_module": "@jupyter-widgets/controls",
          "model_name": "SliderStyleModel",
          "state": {
            "_view_name": "StyleView",
            "handle_color": null,
            "_model_name": "SliderStyleModel",
            "description_width": "",
            "_view_module": "@jupyter-widgets/base",
            "_model_module_version": "1.5.0",
            "_view_count": null,
            "_view_module_version": "1.2.0",
            "_model_module": "@jupyter-widgets/controls"
          }
        },
        "4ad3bc52915f4827bf64322603c548b1": {
          "model_module": "@jupyter-widgets/base",
          "model_name": "LayoutModel",
          "state": {
            "_view_name": "LayoutView",
            "grid_template_rows": null,
            "right": null,
            "justify_content": null,
            "_view_module": "@jupyter-widgets/base",
            "overflow": null,
            "_model_module_version": "1.2.0",
            "_view_count": null,
            "flex_flow": null,
            "width": null,
            "min_width": null,
            "border": null,
            "align_items": null,
            "bottom": null,
            "_model_module": "@jupyter-widgets/base",
            "top": null,
            "grid_column": null,
            "overflow_y": null,
            "overflow_x": null,
            "grid_auto_flow": null,
            "grid_area": null,
            "grid_template_columns": null,
            "flex": null,
            "_model_name": "LayoutModel",
            "justify_items": null,
            "grid_row": null,
            "max_height": null,
            "align_content": null,
            "visibility": null,
            "align_self": null,
            "height": null,
            "min_height": null,
            "padding": null,
            "grid_auto_rows": null,
            "grid_gap": null,
            "max_width": null,
            "order": null,
            "_view_module_version": "1.2.0",
            "grid_template_areas": null,
            "object_position": null,
            "object_fit": null,
            "grid_auto_columns": null,
            "margin": null,
            "display": null,
            "left": null
          }
        },
        "2e0713ba4a4d47dfa7e1c5c50167a96e": {
          "model_module": "@jupyter-widgets/controls",
          "model_name": "SliderStyleModel",
          "state": {
            "_view_name": "StyleView",
            "handle_color": null,
            "_model_name": "SliderStyleModel",
            "description_width": "",
            "_view_module": "@jupyter-widgets/base",
            "_model_module_version": "1.5.0",
            "_view_count": null,
            "_view_module_version": "1.2.0",
            "_model_module": "@jupyter-widgets/controls"
          }
        },
        "9d28523c541a4167a81a011075da6c42": {
          "model_module": "@jupyter-widgets/base",
          "model_name": "LayoutModel",
          "state": {
            "_view_name": "LayoutView",
            "grid_template_rows": null,
            "right": null,
            "justify_content": null,
            "_view_module": "@jupyter-widgets/base",
            "overflow": null,
            "_model_module_version": "1.2.0",
            "_view_count": null,
            "flex_flow": null,
            "width": null,
            "min_width": null,
            "border": null,
            "align_items": null,
            "bottom": null,
            "_model_module": "@jupyter-widgets/base",
            "top": null,
            "grid_column": null,
            "overflow_y": null,
            "overflow_x": null,
            "grid_auto_flow": null,
            "grid_area": null,
            "grid_template_columns": null,
            "flex": null,
            "_model_name": "LayoutModel",
            "justify_items": null,
            "grid_row": null,
            "max_height": null,
            "align_content": null,
            "visibility": null,
            "align_self": null,
            "height": null,
            "min_height": null,
            "padding": null,
            "grid_auto_rows": null,
            "grid_gap": null,
            "max_width": null,
            "order": null,
            "_view_module_version": "1.2.0",
            "grid_template_areas": null,
            "object_position": null,
            "object_fit": null,
            "grid_auto_columns": null,
            "margin": null,
            "display": null,
            "left": null
          }
        }
      }
    }
  },
  "cells": [
    {
      "cell_type": "markdown",
      "metadata": {
        "id": "view-in-github",
        "colab_type": "text"
      },
      "source": [
        "<a href=\"https://colab.research.google.com/github/ChristianJJohnson/DS-Unit-1-Build/blob/master/module2-random-forests/LS_DSPT4_222.ipynb\" target=\"_parent\"><img src=\"https://colab.research.google.com/assets/colab-badge.svg\" alt=\"Open In Colab\"/></a>"
      ]
    },
    {
      "cell_type": "markdown",
      "metadata": {
        "colab_type": "text",
        "id": "UEHyIgGaaSEJ"
      },
      "source": [
        "Lambda School Data Science\n",
        "\n",
        "*Unit 2, Sprint 2, Module 2*\n",
        "\n",
        "---"
      ]
    },
    {
      "cell_type": "markdown",
      "metadata": {
        "colab_type": "text",
        "id": "mRfPLX4WgLVJ"
      },
      "source": [
        "# Random Forests"
      ]
    },
    {
      "cell_type": "markdown",
      "metadata": {
        "colab_type": "text",
        "id": "jRRNhkxcgLVK"
      },
      "source": [
        "- use scikit-learn for **random forests**\n",
        "- do **ordinal encoding** with high-cardinality categoricals\n",
        "- understand how categorical encodings affect trees differently compared to linear models\n",
        "- understand how tree ensembles reduce overfitting compared to a single decision tree with unlimited depth"
      ]
    },
    {
      "cell_type": "markdown",
      "metadata": {
        "colab_type": "text",
        "id": "-3TH11e1gLVL"
      },
      "source": [
        "Today's lesson has two take-away messages:\n",
        "\n",
        "#### Try Tree Ensembles when you do machine learning with labeled, tabular data\n",
        "- \"Tree Ensembles\" means Random Forest or Gradient Boosting models. \n",
        "- [Tree Ensembles often have the best predictive accuracy](https://arxiv.org/abs/1708.05070) with labeled, tabular data.\n",
        "- Why? Because trees can fit non-linear, non-[monotonic](https://en.wikipedia.org/wiki/Monotonic_function) relationships, and [interactions](https://christophm.github.io/interpretable-ml-book/interaction.html) between features.\n",
        "- A single decision tree, grown to unlimited depth, will [overfit](http://www.r2d3.us/visual-intro-to-machine-learning-part-1/). We solve this problem by ensembling trees, with bagging (Random Forest) or boosting (Gradient Boosting).\n",
        "- Random Forest's advantage: may be less sensitive to hyperparameters. Gradient Boosting's advantage: may get better predictive accuracy.\n",
        "\n",
        "#### One-hot encoding isn’t the only way, and may not be the best way, of categorical encoding for tree ensembles.\n",
        "- For example, tree ensembles can work with arbitrary \"ordinal\" encoding! (Randomly assigning an integer to each category.) Compared to one-hot encoding, the dimensionality will be lower, and the predictive accuracy may be just as good or even better.\n"
      ]
    },
    {
      "cell_type": "markdown",
      "metadata": {
        "colab_type": "text",
        "id": "r5PbOFEuFfGF"
      },
      "source": [
        "### Setup\n",
        "\n",
        "Run the code cell below. You can work locally (follow the [local setup instructions](https://lambdaschool.github.io/ds/unit2/local/)) or on Colab.\n",
        "\n",
        "Libraries\n",
        "\n",
        "- **category_encoders** \n",
        "- **graphviz**\n",
        "- ipywidgets\n",
        "- matplotlib\n",
        "- numpy\n",
        "- pandas\n",
        "- seaborn\n",
        "- scikit-learn"
      ]
    },
    {
      "cell_type": "code",
      "metadata": {
        "colab_type": "code",
        "id": "FStAplyRFoEu",
        "colab": {}
      },
      "source": [
        "%%capture\n",
        "import sys\n",
        "\n",
        "# If you're on Colab:\n",
        "if 'google.colab' in sys.modules:\n",
        "    DATA_PATH = 'https://raw.githubusercontent.com/LambdaSchool/DS-Unit-2-Kaggle-Challenge/master/data/'\n",
        "    !pip install category_encoders==2.*\n",
        "\n",
        "# If you're working locally:\n",
        "else:\n",
        "    DATA_PATH = '../data/'"
      ],
      "execution_count": 0,
      "outputs": []
    },
    {
      "cell_type": "markdown",
      "metadata": {
        "colab_type": "text",
        "id": "ZL-yK8B7gLVW"
      },
      "source": [
        "# Use scikit-learn for random forests"
      ]
    },
    {
      "cell_type": "markdown",
      "metadata": {
        "id": "vI0CU6c6SMda",
        "colab_type": "text"
      },
      "source": [
        "## Overview\n",
        "\n",
        "Let's fit a Random Forest!\n",
        "\n",
        "![](https://pbs.twimg.com/media/EGSvKA0UUAEzUZi?format=png)\n",
        "\n",
        "[Chris Albon, MachineLearningFlashcards.com](https://twitter.com/chrisalbon/status/1181261589887909889)"
      ]
    },
    {
      "cell_type": "markdown",
      "metadata": {
        "colab_type": "text",
        "id": "gHFxMCPSgLVM"
      },
      "source": [
        "### Solution example\n",
        "\n",
        "First, read & wrangle the data.\n",
        "\n",
        "> Define a function to wrangle train, validate, and test sets in the same way. Clean outliers and engineer features. (For example, [what other columns have zeros and shouldn't?](https://github.com/Quartz/bad-data-guide#zeros-replace-missing-values) What other columns are duplicates, or nearly duplicates? Can you extract the year from date_recorded? Can you engineer new features, such as the number of years from waterpump construction to waterpump inspection?)"
      ]
    },
    {
      "cell_type": "code",
      "metadata": {
        "colab_type": "code",
        "id": "YTLm-rDagLVM",
        "colab": {}
      },
      "source": [
        "import numpy as np\n",
        "import pandas as pd\n",
        "from sklearn.model_selection import train_test_split\n",
        "\n",
        "# Merge train_features.csv & train_labels.csv\n",
        "train = pd.merge(pd.read_csv(DATA_PATH+'waterpumps/train_features.csv'), \n",
        "                 pd.read_csv(DATA_PATH+'waterpumps/train_labels.csv'))\n",
        "\n",
        "# Read test_features.csv & sample_submission.csv\n",
        "test = pd.read_csv(DATA_PATH+'waterpumps/test_features.csv')\n",
        "sample_submission = pd.read_csv(DATA_PATH+'waterpumps/sample_submission.csv')\n",
        "\n",
        "# Split train into train & val\n",
        "train, val = train_test_split(train, train_size=0.80, test_size=0.20, \n",
        "                              stratify=train['status_group'], random_state=42)\n",
        "\n",
        "\n",
        "def wrangle(X):\n",
        "    \"\"\"Wrangle train, validate, and test sets in the same way\"\"\"\n",
        "    \n",
        "    # Prevent SettingWithCopyWarning\n",
        "    X = X.copy()\n",
        "    \n",
        "    # About 3% of the time, latitude has small values near zero,\n",
        "    # outside Tanzania, so we'll treat these values like zero.\n",
        "    X['latitude'] = X['latitude'].replace(-2e-08, 0)\n",
        "    \n",
        "    # When columns have zeros and shouldn't, they are like null values.\n",
        "    # So we will replace the zeros with nulls, and impute missing values later.\n",
        "    # Also create a \"missing indicator\" column, because the fact that\n",
        "    # values are missing may be a predictive signal.\n",
        "    cols_with_zeros = ['longitude', 'latitude', 'construction_year', \n",
        "                       'gps_height', 'population']\n",
        "    for col in cols_with_zeros:\n",
        "        X[col] = X[col].replace(0, np.nan)\n",
        "        X[col+'_MISSING'] = X[col].isnull()\n",
        "            \n",
        "    # Drop duplicate columns\n",
        "    duplicates = ['quantity_group', 'payment_type']\n",
        "    X = X.drop(columns=duplicates)\n",
        "    \n",
        "    # Drop recorded_by (never varies) and id (always varies, random)\n",
        "    unusable_variance = ['recorded_by', 'id']\n",
        "    X = X.drop(columns=unusable_variance)\n",
        "    \n",
        "    # Convert date_recorded to datetime\n",
        "    X['date_recorded'] = pd.to_datetime(X['date_recorded'], infer_datetime_format=True)\n",
        "    \n",
        "    # Extract components from date_recorded, then drop the original column\n",
        "    X['year_recorded'] = X['date_recorded'].dt.year\n",
        "    X['month_recorded'] = X['date_recorded'].dt.month\n",
        "    X['day_recorded'] = X['date_recorded'].dt.day\n",
        "    X = X.drop(columns='date_recorded')\n",
        "    \n",
        "    # Engineer feature: how many years from construction_year to date_recorded\n",
        "    X['years'] = X['year_recorded'] - X['construction_year']\n",
        "    X['years_MISSING'] = X['years'].isnull()\n",
        "    \n",
        "    # return the wrangled dataframe\n",
        "    return X\n",
        "\n",
        "train = wrangle(train)\n",
        "val = wrangle(val)\n",
        "test = wrangle(test)"
      ],
      "execution_count": 0,
      "outputs": []
    },
    {
      "cell_type": "code",
      "metadata": {
        "colab_type": "code",
        "id": "m2HppBvZgLVP",
        "colab": {}
      },
      "source": [
        "# The status_group column is the target\n",
        "target = 'status_group'\n",
        "\n",
        "# Get a dataframe with all train columns except the target\n",
        "train_features = train.drop(columns=[target])\n",
        "\n",
        "# Get a list of the numeric features\n",
        "numeric_features = train_features.select_dtypes(include='number').columns.tolist()\n",
        "\n",
        "# Get a series with the cardinality of the nonnumeric features\n",
        "cardinality = train_features.select_dtypes(exclude='number').nunique()\n",
        "\n",
        "# Get a list of all categorical features with cardinality <= 50\n",
        "categorical_features = cardinality[cardinality <= 50].index.tolist()\n",
        "\n",
        "# Combine the lists \n",
        "features = numeric_features + categorical_features"
      ],
      "execution_count": 0,
      "outputs": []
    },
    {
      "cell_type": "code",
      "metadata": {
        "colab_type": "code",
        "id": "aXmK2brXgLVR",
        "outputId": "2b7cc6c0-4fcb-40ca-875c-464f46130145",
        "colab": {
          "base_uri": "https://localhost:8080/",
          "height": 34
        }
      },
      "source": [
        "# Arrange data into X features matrix and y target vector \n",
        "X_train = train[features]\n",
        "y_train = train[target]\n",
        "X_val = val[features]\n",
        "y_val = val[target]\n",
        "X_test = test[features]\n",
        "\n",
        "print(X_train.shape, X_val.shape)"
      ],
      "execution_count": 0,
      "outputs": [
        {
          "output_type": "stream",
          "text": [
            "(47520, 38) (11880, 38)\n"
          ],
          "name": "stdout"
        }
      ]
    },
    {
      "cell_type": "markdown",
      "metadata": {
        "id": "327tVpejSMdm",
        "colab_type": "text"
      },
      "source": [
        "## Follow Along\n",
        "\n",
        "[Scikit-Learn User Guide: Random Forests](https://scikit-learn.org/stable/modules/ensemble.html#random-forests) "
      ]
    },
    {
      "cell_type": "code",
      "metadata": {
        "colab_type": "code",
        "id": "57yyygsdgLVW",
        "outputId": "a51b0992-c651-4975-9985-c764ff9d6e57",
        "colab": {
          "base_uri": "https://localhost:8080/",
          "height": 67
        }
      },
      "source": [
        "%%time\n",
        "import category_encoders as ce \n",
        "from sklearn.impute import SimpleImputer\n",
        "from sklearn.ensemble import RandomForestClassifier\n",
        "from sklearn.pipeline import make_pipeline\n",
        "\n",
        "pipeline = make_pipeline(\n",
        "    ce.OneHotEncoder(use_cat_names=True),\n",
        "    SimpleImputer(strategy='mean'),\n",
        "    RandomForestClassifier(n_jobs=-1, random_state=42)\n",
        ")\n",
        "\n",
        "# Fit on train and score on val\n",
        "pipeline.fit(X_train, y_train)\n",
        "print('Validation Accuracy:', pipeline.score(X_val, y_val))"
      ],
      "execution_count": 0,
      "outputs": [
        {
          "output_type": "stream",
          "text": [
            "Validation Accuracy: 0.8080808080808081\n",
            "CPU times: user 24.8 s, sys: 294 ms, total: 25.1 s\n",
            "Wall time: 14.9 s\n"
          ],
          "name": "stdout"
        }
      ]
    },
    {
      "cell_type": "code",
      "metadata": {
        "id": "A5Qp3tbap9Bm",
        "colab_type": "code",
        "outputId": "491b0062-470e-4043-ee63-a475205fb924",
        "colab": {
          "base_uri": "https://localhost:8080/",
          "height": 50
        }
      },
      "source": [
        "print('X_train shape before encoding', X_train.shape)\n",
        "\n",
        "encoder = pipeline.named_steps['onehotencoder']\n",
        "encoded_df = encoder.transform(X_train)\n",
        "\n",
        "print('X_train shape after encoding', encoded_df.shape)"
      ],
      "execution_count": 0,
      "outputs": [
        {
          "output_type": "stream",
          "text": [
            "X_train shape before encoding (47520, 38)\n",
            "X_train shape after encoding (47520, 182)\n"
          ],
          "name": "stdout"
        }
      ]
    },
    {
      "cell_type": "code",
      "metadata": {
        "id": "tlNwkXEXtZ_V",
        "colab_type": "code",
        "outputId": "b0692071-f2e8-404b-c988-29a66f0a893d",
        "colab": {
          "base_uri": "https://localhost:8080/",
          "height": 118
        }
      },
      "source": [
        "X_train.quantity.value_counts()"
      ],
      "execution_count": 0,
      "outputs": [
        {
          "output_type": "execute_result",
          "data": {
            "text/plain": [
              "enough          26567\n",
              "insufficient    12153\n",
              "dry              4921\n",
              "seasonal         3244\n",
              "unknown           635\n",
              "Name: quantity, dtype: int64"
            ]
          },
          "metadata": {
            "tags": []
          },
          "execution_count": 10
        }
      ]
    },
    {
      "cell_type": "code",
      "metadata": {
        "id": "kP2JyWXcqtj8",
        "colab_type": "code",
        "outputId": "ce1bfe97-66ec-4056-978c-12f8c6fd9fd1",
        "colab": {
          "base_uri": "https://localhost:8080/",
          "height": 607
        }
      },
      "source": [
        "%matplotlib inline\n",
        "import matplotlib.pyplot as plt\n",
        "\n",
        "# Get feature importances\n",
        "rf = pipeline.named_steps['randomforestclassifier']\n",
        "importances = pd.Series(rf.feature_importances_, encoded_df.columns)\n",
        "\n",
        "# Plot top n feature importances\n",
        "n = 20\n",
        "plt.figure(figsize=(10, n/2))\n",
        "plt.title(f'Top {n} Features')\n",
        "importances.sort_values()[-n:].plot.barh(color='grey');"
      ],
      "execution_count": 0,
      "outputs": [
        {
          "output_type": "display_data",
          "data": {
            "image/png": "[encoded data removed]",
            "text/plain": [
              "<Figure size 720x720 with 1 Axes>"
            ]
          },
          "metadata": {
            "tags": []
          }
        }
      ]
    },
    {
      "cell_type": "markdown",
      "metadata": {
        "colab_type": "text",
        "id": "yfyk_aa5gLVY"
      },
      "source": [
        "# Do ordinal encoding with high-cardinality categoricals"
      ]
    },
    {
      "cell_type": "markdown",
      "metadata": {
        "id": "CIC3bJcYSMds",
        "colab_type": "text"
      },
      "source": [
        "## Overview\n",
        "\n",
        "http://contrib.scikit-learn.org/categorical-encoding/ordinal.html"
      ]
    },
    {
      "cell_type": "markdown",
      "metadata": {
        "id": "IWLeUQrFSMds",
        "colab_type": "text"
      },
      "source": [
        "## Follow Along"
      ]
    },
    {
      "cell_type": "code",
      "metadata": {
        "colab_type": "code",
        "id": "b8d_WJtcgLVZ",
        "outputId": "bff0dafa-9bc8-489d-8047-fe4bb7bbc94f",
        "colab": {
          "base_uri": "https://localhost:8080/",
          "height": 34
        }
      },
      "source": [
        "# Arrange data into X features matrix and y target vector \n",
        "X_train = train.drop(columns=target)\n",
        "y_train = train[target]\n",
        "X_val = val.drop(columns=target)\n",
        "y_val = val[target]\n",
        "X_test = test\n",
        "\n",
        "print(X_train.shape, X_val.shape)"
      ],
      "execution_count": 0,
      "outputs": [
        {
          "output_type": "stream",
          "text": [
            "(47520, 45) (11880, 45)\n"
          ],
          "name": "stdout"
        }
      ]
    },
    {
      "cell_type": "code",
      "metadata": {
        "id": "UTp5Sbg7vrdK",
        "colab_type": "code",
        "outputId": "63b1a222-0d4f-4ab2-b639-ef9ea1f2daba",
        "colab": {
          "base_uri": "https://localhost:8080/",
          "height": 210
        }
      },
      "source": [
        "X_train.head(2)"
      ],
      "execution_count": 0,
      "outputs": [
        {
          "output_type": "execute_result",
          "data": {
            "text/html": [
              "<div>\n",
              "<style scoped>\n",
              "    .dataframe tbody tr th:only-of-type {\n",
              "        vertical-align: middle;\n",
              "    }\n",
              "\n",
              "    .dataframe tbody tr th {\n",
              "        vertical-align: top;\n",
              "    }\n",
              "\n",
              "    .dataframe thead th {\n",
              "        text-align: right;\n",
              "    }\n",
              "</style>\n",
              "<table border=\"1\" class=\"dataframe\">\n",
              "  <thead>\n",
              "    <tr style=\"text-align: right;\">\n",
              "      <th></th>\n",
              "      <th>amount_tsh</th>\n",
              "      <th>funder</th>\n",
              "      <th>gps_height</th>\n",
              "      <th>installer</th>\n",
              "      <th>longitude</th>\n",
              "      <th>latitude</th>\n",
              "      <th>wpt_name</th>\n",
              "      <th>num_private</th>\n",
              "      <th>basin</th>\n",
              "      <th>subvillage</th>\n",
              "      <th>region</th>\n",
              "      <th>region_code</th>\n",
              "      <th>district_code</th>\n",
              "      <th>lga</th>\n",
              "      <th>ward</th>\n",
              "      <th>population</th>\n",
              "      <th>public_meeting</th>\n",
              "      <th>scheme_management</th>\n",
              "      <th>scheme_name</th>\n",
              "      <th>permit</th>\n",
              "      <th>construction_year</th>\n",
              "      <th>extraction_type</th>\n",
              "      <th>extraction_type_group</th>\n",
              "      <th>extraction_type_class</th>\n",
              "      <th>management</th>\n",
              "      <th>management_group</th>\n",
              "      <th>payment</th>\n",
              "      <th>water_quality</th>\n",
              "      <th>quality_group</th>\n",
              "      <th>quantity</th>\n",
              "      <th>source</th>\n",
              "      <th>source_type</th>\n",
              "      <th>source_class</th>\n",
              "      <th>waterpoint_type</th>\n",
              "      <th>waterpoint_type_group</th>\n",
              "      <th>longitude_MISSING</th>\n",
              "      <th>latitude_MISSING</th>\n",
              "      <th>construction_year_MISSING</th>\n",
              "      <th>gps_height_MISSING</th>\n",
              "      <th>population_MISSING</th>\n",
              "      <th>year_recorded</th>\n",
              "      <th>month_recorded</th>\n",
              "      <th>day_recorded</th>\n",
              "      <th>years</th>\n",
              "      <th>years_MISSING</th>\n",
              "    </tr>\n",
              "  </thead>\n",
              "  <tbody>\n",
              "    <tr>\n",
              "      <th>43360</th>\n",
              "      <td>0.0</td>\n",
              "      <td>NaN</td>\n",
              "      <td>NaN</td>\n",
              "      <td>NaN</td>\n",
              "      <td>33.542898</td>\n",
              "      <td>-9.174777</td>\n",
              "      <td>Kwa Mzee Noa</td>\n",
              "      <td>0</td>\n",
              "      <td>Lake Nyasa</td>\n",
              "      <td>Mpandapanda</td>\n",
              "      <td>Mbeya</td>\n",
              "      <td>12</td>\n",
              "      <td>4</td>\n",
              "      <td>Rungwe</td>\n",
              "      <td>Kiwira</td>\n",
              "      <td>NaN</td>\n",
              "      <td>True</td>\n",
              "      <td>VWC</td>\n",
              "      <td>K</td>\n",
              "      <td>NaN</td>\n",
              "      <td>NaN</td>\n",
              "      <td>gravity</td>\n",
              "      <td>gravity</td>\n",
              "      <td>gravity</td>\n",
              "      <td>vwc</td>\n",
              "      <td>user-group</td>\n",
              "      <td>never pay</td>\n",
              "      <td>soft</td>\n",
              "      <td>good</td>\n",
              "      <td>insufficient</td>\n",
              "      <td>spring</td>\n",
              "      <td>spring</td>\n",
              "      <td>groundwater</td>\n",
              "      <td>communal standpipe</td>\n",
              "      <td>communal standpipe</td>\n",
              "      <td>False</td>\n",
              "      <td>False</td>\n",
              "      <td>True</td>\n",
              "      <td>True</td>\n",
              "      <td>True</td>\n",
              "      <td>2011</td>\n",
              "      <td>7</td>\n",
              "      <td>27</td>\n",
              "      <td>NaN</td>\n",
              "      <td>True</td>\n",
              "    </tr>\n",
              "    <tr>\n",
              "      <th>7263</th>\n",
              "      <td>500.0</td>\n",
              "      <td>Rc Church</td>\n",
              "      <td>2049.0</td>\n",
              "      <td>ACRA</td>\n",
              "      <td>34.665760</td>\n",
              "      <td>-9.308548</td>\n",
              "      <td>Kwa Yasinta Ng'Ande</td>\n",
              "      <td>0</td>\n",
              "      <td>Rufiji</td>\n",
              "      <td>Kitichi</td>\n",
              "      <td>Iringa</td>\n",
              "      <td>11</td>\n",
              "      <td>4</td>\n",
              "      <td>Njombe</td>\n",
              "      <td>Imalinyi</td>\n",
              "      <td>175.0</td>\n",
              "      <td>True</td>\n",
              "      <td>WUA</td>\n",
              "      <td>Tove Mtwango gravity Scheme</td>\n",
              "      <td>True</td>\n",
              "      <td>2008.0</td>\n",
              "      <td>gravity</td>\n",
              "      <td>gravity</td>\n",
              "      <td>gravity</td>\n",
              "      <td>wua</td>\n",
              "      <td>user-group</td>\n",
              "      <td>pay monthly</td>\n",
              "      <td>soft</td>\n",
              "      <td>good</td>\n",
              "      <td>enough</td>\n",
              "      <td>spring</td>\n",
              "      <td>spring</td>\n",
              "      <td>groundwater</td>\n",
              "      <td>communal standpipe</td>\n",
              "      <td>communal standpipe</td>\n",
              "      <td>False</td>\n",
              "      <td>False</td>\n",
              "      <td>False</td>\n",
              "      <td>False</td>\n",
              "      <td>False</td>\n",
              "      <td>2011</td>\n",
              "      <td>3</td>\n",
              "      <td>23</td>\n",
              "      <td>3.0</td>\n",
              "      <td>False</td>\n",
              "    </tr>\n",
              "  </tbody>\n",
              "</table>\n",
              "</div>"
            ],
            "text/plain": [
              "       amount_tsh     funder  gps_height  ... day_recorded  years  years_MISSING\n",
              "43360         0.0        NaN         NaN  ...           27    NaN           True\n",
              "7263        500.0  Rc Church      2049.0  ...           23    3.0          False\n",
              "\n",
              "[2 rows x 45 columns]"
            ]
          },
          "metadata": {
            "tags": []
          },
          "execution_count": 13
        }
      ]
    },
    {
      "cell_type": "code",
      "metadata": {
        "id": "I-sD1yNuvRIv",
        "colab_type": "code",
        "outputId": "ee3813e7-aff5-490f-915f-f493d228dc6b",
        "colab": {
          "base_uri": "https://localhost:8080/",
          "height": 67
        }
      },
      "source": [
        "%%time\n",
        "pipeline = make_pipeline(\n",
        "    ce.OrdinalEncoder(),\n",
        "    SimpleImputer(strategy='mean'),\n",
        "    RandomForestClassifier(n_jobs=-1, random_state=42)\n",
        ")\n",
        "\n",
        "# Fit on train and score on val\n",
        "pipeline.fit(X_train, y_train)\n",
        "print('Validation Accuracy:', pipeline.score(X_val, y_val))"
      ],
      "execution_count": 0,
      "outputs": [
        {
          "output_type": "stream",
          "text": [
            "Validation Accuracy: 0.8103535353535354\n",
            "CPU times: user 18.6 s, sys: 160 ms, total: 18.8 s\n",
            "Wall time: 10.3 s\n"
          ],
          "name": "stdout"
        }
      ]
    },
    {
      "cell_type": "code",
      "metadata": {
        "id": "ZkwK-8q-wc5B",
        "colab_type": "code",
        "outputId": "9ebd639c-aae9-4352-ac0a-1971c58c4b16",
        "colab": {
          "base_uri": "https://localhost:8080/",
          "height": 50
        }
      },
      "source": [
        "print('X_train shape before encoding', X_train.shape)\n",
        "\n",
        "encoder = pipeline.named_steps['ordinalencoder']\n",
        "encoded_df = encoder.transform(X_train)\n",
        "\n",
        "print('X_train shape after encoding', encoded_df.shape)"
      ],
      "execution_count": 0,
      "outputs": [
        {
          "output_type": "stream",
          "text": [
            "X_train shape before encoding (47520, 45)\n",
            "X_train shape after encoding (47520, 45)\n"
          ],
          "name": "stdout"
        }
      ]
    },
    {
      "cell_type": "code",
      "metadata": {
        "id": "PN2V2vVcwg6n",
        "colab_type": "code",
        "outputId": "2a706c04-dbf5-4d7c-c8d7-77a7088f9b15",
        "colab": {
          "base_uri": "https://localhost:8080/",
          "height": 126
        }
      },
      "source": [
        "encoded_df.head(2)"
      ],
      "execution_count": 0,
      "outputs": [
        {
          "output_type": "execute_result",
          "data": {
            "text/html": [
              "<div>\n",
              "<style scoped>\n",
              "    .dataframe tbody tr th:only-of-type {\n",
              "        vertical-align: middle;\n",
              "    }\n",
              "\n",
              "    .dataframe tbody tr th {\n",
              "        vertical-align: top;\n",
              "    }\n",
              "\n",
              "    .dataframe thead th {\n",
              "        text-align: right;\n",
              "    }\n",
              "</style>\n",
              "<table border=\"1\" class=\"dataframe\">\n",
              "  <thead>\n",
              "    <tr style=\"text-align: right;\">\n",
              "      <th></th>\n",
              "      <th>amount_tsh</th>\n",
              "      <th>funder</th>\n",
              "      <th>gps_height</th>\n",
              "      <th>installer</th>\n",
              "      <th>longitude</th>\n",
              "      <th>latitude</th>\n",
              "      <th>wpt_name</th>\n",
              "      <th>num_private</th>\n",
              "      <th>basin</th>\n",
              "      <th>subvillage</th>\n",
              "      <th>region</th>\n",
              "      <th>region_code</th>\n",
              "      <th>district_code</th>\n",
              "      <th>lga</th>\n",
              "      <th>ward</th>\n",
              "      <th>population</th>\n",
              "      <th>public_meeting</th>\n",
              "      <th>scheme_management</th>\n",
              "      <th>scheme_name</th>\n",
              "      <th>permit</th>\n",
              "      <th>construction_year</th>\n",
              "      <th>extraction_type</th>\n",
              "      <th>extraction_type_group</th>\n",
              "      <th>extraction_type_class</th>\n",
              "      <th>management</th>\n",
              "      <th>management_group</th>\n",
              "      <th>payment</th>\n",
              "      <th>water_quality</th>\n",
              "      <th>quality_group</th>\n",
              "      <th>quantity</th>\n",
              "      <th>source</th>\n",
              "      <th>source_type</th>\n",
              "      <th>source_class</th>\n",
              "      <th>waterpoint_type</th>\n",
              "      <th>waterpoint_type_group</th>\n",
              "      <th>longitude_MISSING</th>\n",
              "      <th>latitude_MISSING</th>\n",
              "      <th>construction_year_MISSING</th>\n",
              "      <th>gps_height_MISSING</th>\n",
              "      <th>population_MISSING</th>\n",
              "      <th>year_recorded</th>\n",
              "      <th>month_recorded</th>\n",
              "      <th>day_recorded</th>\n",
              "      <th>years</th>\n",
              "      <th>years_MISSING</th>\n",
              "    </tr>\n",
              "  </thead>\n",
              "  <tbody>\n",
              "    <tr>\n",
              "      <th>43360</th>\n",
              "      <td>0.0</td>\n",
              "      <td>1</td>\n",
              "      <td>NaN</td>\n",
              "      <td>1</td>\n",
              "      <td>33.542898</td>\n",
              "      <td>-9.174777</td>\n",
              "      <td>1</td>\n",
              "      <td>0</td>\n",
              "      <td>1</td>\n",
              "      <td>1</td>\n",
              "      <td>1</td>\n",
              "      <td>12</td>\n",
              "      <td>4</td>\n",
              "      <td>1</td>\n",
              "      <td>1</td>\n",
              "      <td>NaN</td>\n",
              "      <td>1</td>\n",
              "      <td>1</td>\n",
              "      <td>1</td>\n",
              "      <td>1</td>\n",
              "      <td>NaN</td>\n",
              "      <td>1</td>\n",
              "      <td>1</td>\n",
              "      <td>1</td>\n",
              "      <td>1</td>\n",
              "      <td>1</td>\n",
              "      <td>1</td>\n",
              "      <td>1</td>\n",
              "      <td>1</td>\n",
              "      <td>1</td>\n",
              "      <td>1</td>\n",
              "      <td>1</td>\n",
              "      <td>1</td>\n",
              "      <td>1</td>\n",
              "      <td>1</td>\n",
              "      <td>False</td>\n",
              "      <td>False</td>\n",
              "      <td>True</td>\n",
              "      <td>True</td>\n",
              "      <td>True</td>\n",
              "      <td>2011</td>\n",
              "      <td>7</td>\n",
              "      <td>27</td>\n",
              "      <td>NaN</td>\n",
              "      <td>True</td>\n",
              "    </tr>\n",
              "    <tr>\n",
              "      <th>7263</th>\n",
              "      <td>500.0</td>\n",
              "      <td>2</td>\n",
              "      <td>2049.0</td>\n",
              "      <td>2</td>\n",
              "      <td>34.665760</td>\n",
              "      <td>-9.308548</td>\n",
              "      <td>2</td>\n",
              "      <td>0</td>\n",
              "      <td>2</td>\n",
              "      <td>2</td>\n",
              "      <td>2</td>\n",
              "      <td>11</td>\n",
              "      <td>4</td>\n",
              "      <td>2</td>\n",
              "      <td>2</td>\n",
              "      <td>175.0</td>\n",
              "      <td>1</td>\n",
              "      <td>2</td>\n",
              "      <td>2</td>\n",
              "      <td>2</td>\n",
              "      <td>2008.0</td>\n",
              "      <td>1</td>\n",
              "      <td>1</td>\n",
              "      <td>1</td>\n",
              "      <td>2</td>\n",
              "      <td>1</td>\n",
              "      <td>2</td>\n",
              "      <td>1</td>\n",
              "      <td>1</td>\n",
              "      <td>2</td>\n",
              "      <td>1</td>\n",
              "      <td>1</td>\n",
              "      <td>1</td>\n",
              "      <td>1</td>\n",
              "      <td>1</td>\n",
              "      <td>False</td>\n",
              "      <td>False</td>\n",
              "      <td>False</td>\n",
              "      <td>False</td>\n",
              "      <td>False</td>\n",
              "      <td>2011</td>\n",
              "      <td>3</td>\n",
              "      <td>23</td>\n",
              "      <td>3.0</td>\n",
              "      <td>False</td>\n",
              "    </tr>\n",
              "  </tbody>\n",
              "</table>\n",
              "</div>"
            ],
            "text/plain": [
              "       amount_tsh  funder  gps_height  ...  day_recorded  years  years_MISSING\n",
              "43360         0.0       1         NaN  ...            27    NaN           True\n",
              "7263        500.0       2      2049.0  ...            23    3.0          False\n",
              "\n",
              "[2 rows x 45 columns]"
            ]
          },
          "metadata": {
            "tags": []
          },
          "execution_count": 17
        }
      ]
    },
    {
      "cell_type": "code",
      "metadata": {
        "id": "tHr94MxnwtnR",
        "colab_type": "code",
        "outputId": "b24945d4-468c-479e-cb5b-484aaa5e7f6d",
        "colab": {
          "base_uri": "https://localhost:8080/",
          "height": 607
        }
      },
      "source": [
        "# Get feature importances\n",
        "rf = pipeline.named_steps['randomforestclassifier']\n",
        "importances = pd.Series(rf.feature_importances_, encoded_df.columns)\n",
        "\n",
        "# Plot top n feature importances\n",
        "n = 20\n",
        "plt.figure(figsize=(10, n/2))\n",
        "plt.title(f'Top {n} Features')\n",
        "importances.sort_values()[-n:].plot.barh(color='grey');"
      ],
      "execution_count": 0,
      "outputs": [
        {
          "output_type": "display_data",
          "data": {
            "image/png": "[encoded data removed]",
            "text/plain": [
              "<Figure size 720x720 with 1 Axes>"
            ]
          },
          "metadata": {
            "tags": []
          }
        }
      ]
    },
    {
      "cell_type": "code",
      "metadata": {
        "id": "XpFkbq2OxebK",
        "colab_type": "code",
        "outputId": "16189047-d879-4259-f55e-6a1daab31f94",
        "colab": {
          "base_uri": "https://localhost:8080/",
          "height": 101
        }
      },
      "source": [
        "X_train.wpt_name.describe()"
      ],
      "execution_count": 0,
      "outputs": [
        {
          "output_type": "execute_result",
          "data": {
            "text/plain": [
              "count     47520\n",
              "unique    30661\n",
              "top        none\n",
              "freq       2879\n",
              "Name: wpt_name, dtype: object"
            ]
          },
          "metadata": {
            "tags": []
          },
          "execution_count": 19
        }
      ]
    },
    {
      "cell_type": "code",
      "metadata": {
        "id": "YdWowXXrxk3r",
        "colab_type": "code",
        "outputId": "6b03e563-ea1a-47f2-9801-34eaa8368dd3",
        "colab": {
          "base_uri": "https://localhost:8080/",
          "height": 218
        }
      },
      "source": [
        "X_train.wpt_name.value_counts()"
      ],
      "execution_count": 0,
      "outputs": [
        {
          "output_type": "execute_result",
          "data": {
            "text/plain": [
              "none                2879\n",
              "Shuleni             1416\n",
              "Zahanati             675\n",
              "Msikitini            424\n",
              "Kanisani             253\n",
              "                    ... \n",
              "Kwa Mzee Mzungu        1\n",
              "Kwa Zeda Kazinza       1\n",
              "Roya Magharibi         1\n",
              "Gale                   1\n",
              "Magiriginga            1\n",
              "Name: wpt_name, Length: 30661, dtype: int64"
            ]
          },
          "metadata": {
            "tags": []
          },
          "execution_count": 20
        }
      ]
    },
    {
      "cell_type": "code",
      "metadata": {
        "id": "tEGQ7T4kxwa8",
        "colab_type": "code",
        "outputId": "c4d5942d-3c0b-4274-fdc6-a35882c6ea52",
        "colab": {
          "base_uri": "https://localhost:8080/",
          "height": 218
        }
      },
      "source": [
        "encoded_df.wpt_name.value_counts()"
      ],
      "execution_count": 0,
      "outputs": [
        {
          "output_type": "execute_result",
          "data": {
            "text/plain": [
              "27       2879\n",
              "73       1416\n",
              "8         675\n",
              "69        424\n",
              "46        253\n",
              "         ... \n",
              "2162        1\n",
              "115         1\n",
              "14452       1\n",
              "12405       1\n",
              "2047        1\n",
              "Name: wpt_name, Length: 30661, dtype: int64"
            ]
          },
          "metadata": {
            "tags": []
          },
          "execution_count": 21
        }
      ]
    },
    {
      "cell_type": "code",
      "metadata": {
        "id": "Oq1ybSGdx848",
        "colab_type": "code",
        "outputId": "772950c7-9e7f-4b8b-fae8-8d0f25114a5d",
        "colab": {
          "base_uri": "https://localhost:8080/",
          "height": 118
        }
      },
      "source": [
        "X_train.quantity.value_counts()"
      ],
      "execution_count": 0,
      "outputs": [
        {
          "output_type": "execute_result",
          "data": {
            "text/plain": [
              "enough          26567\n",
              "insufficient    12153\n",
              "dry              4921\n",
              "seasonal         3244\n",
              "unknown           635\n",
              "Name: quantity, dtype: int64"
            ]
          },
          "metadata": {
            "tags": []
          },
          "execution_count": 22
        }
      ]
    },
    {
      "cell_type": "code",
      "metadata": {
        "id": "jG9no0ApyAVf",
        "colab_type": "code",
        "outputId": "4e8472aa-1826-4537-fc79-21adfa09acb9",
        "colab": {
          "base_uri": "https://localhost:8080/",
          "height": 118
        }
      },
      "source": [
        "encoded_df.quantity.value_counts()"
      ],
      "execution_count": 0,
      "outputs": [
        {
          "output_type": "execute_result",
          "data": {
            "text/plain": [
              "2    26567\n",
              "1    12153\n",
              "3     4921\n",
              "4     3244\n",
              "5      635\n",
              "Name: quantity, dtype: int64"
            ]
          },
          "metadata": {
            "tags": []
          },
          "execution_count": 23
        }
      ]
    },
    {
      "cell_type": "markdown",
      "metadata": {
        "colab_type": "text",
        "id": "xs2UPoVdgLVp"
      },
      "source": [
        "# Understand how categorical encodings affect trees differently compared to linear models"
      ]
    },
    {
      "cell_type": "markdown",
      "metadata": {
        "id": "sHixk2lUSMdx",
        "colab_type": "text"
      },
      "source": [
        "## Follow Along"
      ]
    },
    {
      "cell_type": "markdown",
      "metadata": {
        "colab_type": "text",
        "id": "z8V-A92mgLVp"
      },
      "source": [
        "### Categorical exploration, 1 feature at a time\n",
        "\n",
        "Change `feature`, then re-run these cells!"
      ]
    },
    {
      "cell_type": "code",
      "metadata": {
        "colab_type": "code",
        "id": "G35RAzVdgLVq",
        "colab": {}
      },
      "source": [
        "feature = 'extraction_type_class'"
      ],
      "execution_count": 0,
      "outputs": []
    },
    {
      "cell_type": "code",
      "metadata": {
        "colab_type": "code",
        "id": "OuxHWiH8gLVr",
        "outputId": "b60e21a8-b5ce-40d3-e00f-0ad62801a973",
        "colab": {
          "base_uri": "https://localhost:8080/",
          "height": 151
        }
      },
      "source": [
        "X_train[feature].value_counts()"
      ],
      "execution_count": 0,
      "outputs": [
        {
          "output_type": "execute_result",
          "data": {
            "text/plain": [
              "gravity         21448\n",
              "handpump        13184\n",
              "other            5193\n",
              "submersible      4894\n",
              "motorpump        2355\n",
              "rope pump         353\n",
              "wind-powered       93\n",
              "Name: extraction_type_class, dtype: int64"
            ]
          },
          "metadata": {
            "tags": []
          },
          "execution_count": 25
        }
      ]
    },
    {
      "cell_type": "code",
      "metadata": {
        "colab_type": "code",
        "id": "pVxoC4NngLVt",
        "outputId": "510b158d-e42b-4469-a254-fc4dea2bcaa9",
        "colab": {
          "base_uri": "https://localhost:8080/",
          "height": 552
        }
      },
      "source": [
        "import seaborn as sns\n",
        "plt.figure(figsize=(16,9))\n",
        "sns.barplot(\n",
        "    x=train[feature], \n",
        "    y=train['status_group']=='functional', \n",
        "    color='grey'\n",
        ");"
      ],
      "execution_count": 0,
      "outputs": [
        {
          "output_type": "display_data",
          "data": {
            "image/png": "[encoded data removed]",
            "text/plain": [
              "<Figure size 1152x648 with 1 Axes>"
            ]
          },
          "metadata": {
            "tags": []
          }
        }
      ]
    },
    {
      "cell_type": "code",
      "metadata": {
        "colab_type": "code",
        "id": "w99mek14gLVv",
        "outputId": "f6173724-be39-4717-cf80-8cb93180b1c8",
        "colab": {
          "base_uri": "https://localhost:8080/",
          "height": 370
        }
      },
      "source": [
        "X_train[feature].head(20)"
      ],
      "execution_count": 0,
      "outputs": [
        {
          "output_type": "execute_result",
          "data": {
            "text/plain": [
              "43360        gravity\n",
              "7263         gravity\n",
              "2486        handpump\n",
              "313            other\n",
              "52726      motorpump\n",
              "8558         gravity\n",
              "2559         gravity\n",
              "54735      motorpump\n",
              "25763       handpump\n",
              "44540    submersible\n",
              "28603          other\n",
              "4372     submersible\n",
              "30666        gravity\n",
              "6431     submersible\n",
              "57420          other\n",
              "1373         gravity\n",
              "2026         gravity\n",
              "58977       handpump\n",
              "41101        gravity\n",
              "10019        gravity\n",
              "Name: extraction_type_class, dtype: object"
            ]
          },
          "metadata": {
            "tags": []
          },
          "execution_count": 27
        }
      ]
    },
    {
      "cell_type": "markdown",
      "metadata": {
        "colab_type": "text",
        "id": "ezzK2IdbgLVx"
      },
      "source": [
        "### [One Hot Encoding](http://contrib.scikit-learn.org/categorical-encoding/onehot.html)\n",
        "\n",
        "> Onehot (or dummy) coding for categorical features, produces one feature per category, each binary.\n",
        "\n",
        "Warning: May run slow, or run out of memory, with high cardinality categoricals!"
      ]
    },
    {
      "cell_type": "code",
      "metadata": {
        "colab_type": "code",
        "id": "HDQZtV6GgLVy",
        "outputId": "91e3d561-8960-4af3-d320-3366976ee383",
        "colab": {
          "base_uri": "https://localhost:8080/",
          "height": 693
        }
      },
      "source": [
        "encoder = ce.OneHotEncoder(use_cat_names=True)\n",
        "encoded = encoder.fit_transform(X_train[[feature]])\n",
        "print(f'{len(encoded.columns)} columns')\n",
        "encoded.head(20)"
      ],
      "execution_count": 0,
      "outputs": [
        {
          "output_type": "stream",
          "text": [
            "7 columns\n"
          ],
          "name": "stdout"
        },
        {
          "output_type": "execute_result",
          "data": {
            "text/html": [
              "<div>\n",
              "<style scoped>\n",
              "    .dataframe tbody tr th:only-of-type {\n",
              "        vertical-align: middle;\n",
              "    }\n",
              "\n",
              "    .dataframe tbody tr th {\n",
              "        vertical-align: top;\n",
              "    }\n",
              "\n",
              "    .dataframe thead th {\n",
              "        text-align: right;\n",
              "    }\n",
              "</style>\n",
              "<table border=\"1\" class=\"dataframe\">\n",
              "  <thead>\n",
              "    <tr style=\"text-align: right;\">\n",
              "      <th></th>\n",
              "      <th>extraction_type_class_gravity</th>\n",
              "      <th>extraction_type_class_handpump</th>\n",
              "      <th>extraction_type_class_other</th>\n",
              "      <th>extraction_type_class_motorpump</th>\n",
              "      <th>extraction_type_class_submersible</th>\n",
              "      <th>extraction_type_class_rope pump</th>\n",
              "      <th>extraction_type_class_wind-powered</th>\n",
              "    </tr>\n",
              "  </thead>\n",
              "  <tbody>\n",
              "    <tr>\n",
              "      <th>43360</th>\n",
              "      <td>1</td>\n",
              "      <td>0</td>\n",
              "      <td>0</td>\n",
              "      <td>0</td>\n",
              "      <td>0</td>\n",
              "      <td>0</td>\n",
              "      <td>0</td>\n",
              "    </tr>\n",
              "    <tr>\n",
              "      <th>7263</th>\n",
              "      <td>1</td>\n",
              "      <td>0</td>\n",
              "      <td>0</td>\n",
              "      <td>0</td>\n",
              "      <td>0</td>\n",
              "      <td>0</td>\n",
              "      <td>0</td>\n",
              "    </tr>\n",
              "    <tr>\n",
              "      <th>2486</th>\n",
              "      <td>0</td>\n",
              "      <td>1</td>\n",
              "      <td>0</td>\n",
              "      <td>0</td>\n",
              "      <td>0</td>\n",
              "      <td>0</td>\n",
              "      <td>0</td>\n",
              "    </tr>\n",
              "    <tr>\n",
              "      <th>313</th>\n",
              "      <td>0</td>\n",
              "      <td>0</td>\n",
              "      <td>1</td>\n",
              "      <td>0</td>\n",
              "      <td>0</td>\n",
              "      <td>0</td>\n",
              "      <td>0</td>\n",
              "    </tr>\n",
              "    <tr>\n",
              "      <th>52726</th>\n",
              "      <td>0</td>\n",
              "      <td>0</td>\n",
              "      <td>0</td>\n",
              "      <td>1</td>\n",
              "      <td>0</td>\n",
              "      <td>0</td>\n",
              "      <td>0</td>\n",
              "    </tr>\n",
              "    <tr>\n",
              "      <th>8558</th>\n",
              "      <td>1</td>\n",
              "      <td>0</td>\n",
              "      <td>0</td>\n",
              "      <td>0</td>\n",
              "      <td>0</td>\n",
              "      <td>0</td>\n",
              "      <td>0</td>\n",
              "    </tr>\n",
              "    <tr>\n",
              "      <th>2559</th>\n",
              "      <td>1</td>\n",
              "      <td>0</td>\n",
              "      <td>0</td>\n",
              "      <td>0</td>\n",
              "      <td>0</td>\n",
              "      <td>0</td>\n",
              "      <td>0</td>\n",
              "    </tr>\n",
              "    <tr>\n",
              "      <th>54735</th>\n",
              "      <td>0</td>\n",
              "      <td>0</td>\n",
              "      <td>0</td>\n",
              "      <td>1</td>\n",
              "      <td>0</td>\n",
              "      <td>0</td>\n",
              "      <td>0</td>\n",
              "    </tr>\n",
              "    <tr>\n",
              "      <th>25763</th>\n",
              "      <td>0</td>\n",
              "      <td>1</td>\n",
              "      <td>0</td>\n",
              "      <td>0</td>\n",
              "      <td>0</td>\n",
              "      <td>0</td>\n",
              "      <td>0</td>\n",
              "    </tr>\n",
              "    <tr>\n",
              "      <th>44540</th>\n",
              "      <td>0</td>\n",
              "      <td>0</td>\n",
              "      <td>0</td>\n",
              "      <td>0</td>\n",
              "      <td>1</td>\n",
              "      <td>0</td>\n",
              "      <td>0</td>\n",
              "    </tr>\n",
              "    <tr>\n",
              "      <th>28603</th>\n",
              "      <td>0</td>\n",
              "      <td>0</td>\n",
              "      <td>1</td>\n",
              "      <td>0</td>\n",
              "      <td>0</td>\n",
              "      <td>0</td>\n",
              "      <td>0</td>\n",
              "    </tr>\n",
              "    <tr>\n",
              "      <th>4372</th>\n",
              "      <td>0</td>\n",
              "      <td>0</td>\n",
              "      <td>0</td>\n",
              "      <td>0</td>\n",
              "      <td>1</td>\n",
              "      <td>0</td>\n",
              "      <td>0</td>\n",
              "    </tr>\n",
              "    <tr>\n",
              "      <th>30666</th>\n",
              "      <td>1</td>\n",
              "      <td>0</td>\n",
              "      <td>0</td>\n",
              "      <td>0</td>\n",
              "      <td>0</td>\n",
              "      <td>0</td>\n",
              "      <td>0</td>\n",
              "    </tr>\n",
              "    <tr>\n",
              "      <th>6431</th>\n",
              "      <td>0</td>\n",
              "      <td>0</td>\n",
              "      <td>0</td>\n",
              "      <td>0</td>\n",
              "      <td>1</td>\n",
              "      <td>0</td>\n",
              "      <td>0</td>\n",
              "    </tr>\n",
              "    <tr>\n",
              "      <th>57420</th>\n",
              "      <td>0</td>\n",
              "      <td>0</td>\n",
              "      <td>1</td>\n",
              "      <td>0</td>\n",
              "      <td>0</td>\n",
              "      <td>0</td>\n",
              "      <td>0</td>\n",
              "    </tr>\n",
              "    <tr>\n",
              "      <th>1373</th>\n",
              "      <td>1</td>\n",
              "      <td>0</td>\n",
              "      <td>0</td>\n",
              "      <td>0</td>\n",
              "      <td>0</td>\n",
              "      <td>0</td>\n",
              "      <td>0</td>\n",
              "    </tr>\n",
              "    <tr>\n",
              "      <th>2026</th>\n",
              "      <td>1</td>\n",
              "      <td>0</td>\n",
              "      <td>0</td>\n",
              "      <td>0</td>\n",
              "      <td>0</td>\n",
              "      <td>0</td>\n",
              "      <td>0</td>\n",
              "    </tr>\n",
              "    <tr>\n",
              "      <th>58977</th>\n",
              "      <td>0</td>\n",
              "      <td>1</td>\n",
              "      <td>0</td>\n",
              "      <td>0</td>\n",
              "      <td>0</td>\n",
              "      <td>0</td>\n",
              "      <td>0</td>\n",
              "    </tr>\n",
              "    <tr>\n",
              "      <th>41101</th>\n",
              "      <td>1</td>\n",
              "      <td>0</td>\n",
              "      <td>0</td>\n",
              "      <td>0</td>\n",
              "      <td>0</td>\n",
              "      <td>0</td>\n",
              "      <td>0</td>\n",
              "    </tr>\n",
              "    <tr>\n",
              "      <th>10019</th>\n",
              "      <td>1</td>\n",
              "      <td>0</td>\n",
              "      <td>0</td>\n",
              "      <td>0</td>\n",
              "      <td>0</td>\n",
              "      <td>0</td>\n",
              "      <td>0</td>\n",
              "    </tr>\n",
              "  </tbody>\n",
              "</table>\n",
              "</div>"
            ],
            "text/plain": [
              "       extraction_type_class_gravity  ...  extraction_type_class_wind-powered\n",
              "43360                              1  ...                                   0\n",
              "7263                               1  ...                                   0\n",
              "2486                               0  ...                                   0\n",
              "313                                0  ...                                   0\n",
              "52726                              0  ...                                   0\n",
              "8558                               1  ...                                   0\n",
              "2559                               1  ...                                   0\n",
              "54735                              0  ...                                   0\n",
              "25763                              0  ...                                   0\n",
              "44540                              0  ...                                   0\n",
              "28603                              0  ...                                   0\n",
              "4372                               0  ...                                   0\n",
              "30666                              1  ...                                   0\n",
              "6431                               0  ...                                   0\n",
              "57420                              0  ...                                   0\n",
              "1373                               1  ...                                   0\n",
              "2026                               1  ...                                   0\n",
              "58977                              0  ...                                   0\n",
              "41101                              1  ...                                   0\n",
              "10019                              1  ...                                   0\n",
              "\n",
              "[20 rows x 7 columns]"
            ]
          },
          "metadata": {
            "tags": []
          },
          "execution_count": 28
        }
      ]
    },
    {
      "cell_type": "markdown",
      "metadata": {
        "colab_type": "text",
        "id": "1Ql9Qmw3sNJ7"
      },
      "source": [
        "#### One-Hot Encoding, Logistic Regression, Validation Accuracy"
      ]
    },
    {
      "cell_type": "code",
      "metadata": {
        "colab_type": "code",
        "id": "mT4A-oDGpOss",
        "outputId": "9211afe5-c1ae-43d9-c768-099c08f16213",
        "colab": {
          "base_uri": "https://localhost:8080/",
          "height": 34
        }
      },
      "source": [
        "from sklearn.linear_model import LogisticRegressionCV\n",
        "from sklearn.preprocessing import StandardScaler\n",
        "\n",
        "lr = make_pipeline(\n",
        "    ce.OneHotEncoder(use_cat_names=True), \n",
        "    SimpleImputer(), \n",
        "    StandardScaler(), \n",
        "    LogisticRegressionCV(multi_class='auto', solver='lbfgs', cv=5, n_jobs=-1)\n",
        ")\n",
        "\n",
        "lr.fit(X_train[[feature]], y_train)\n",
        "score = lr.score(X_val[[feature]], y_val)\n",
        "print('Logistic Regression, Validation Accuracy', score)"
      ],
      "execution_count": 0,
      "outputs": [
        {
          "output_type": "stream",
          "text": [
            "Logistic Regression, Validation Accuracy 0.6202861952861953\n"
          ],
          "name": "stdout"
        }
      ]
    },
    {
      "cell_type": "markdown",
      "metadata": {
        "colab_type": "text",
        "id": "EbH6wivpsRuV"
      },
      "source": [
        "#### One-Hot Encoding, Decision Tree, Validation Accuracy"
      ]
    },
    {
      "cell_type": "code",
      "metadata": {
        "colab_type": "code",
        "id": "b6KUluFOqIdK",
        "outputId": "19ef8c0b-68b5-451d-87c0-c67d4714ce29",
        "colab": {
          "base_uri": "https://localhost:8080/",
          "height": 34
        }
      },
      "source": [
        "from sklearn.tree import DecisionTreeClassifier\n",
        "\n",
        "dt = make_pipeline(\n",
        "    ce.OneHotEncoder(use_cat_names=True), \n",
        "    SimpleImputer(), \n",
        "    DecisionTreeClassifier(random_state=42)\n",
        ")\n",
        "\n",
        "dt.fit(X_train[[feature]], y_train)\n",
        "score = dt.score(X_val[[feature]], y_val)\n",
        "print('Decision Tree, Validation Accuracy', score)"
      ],
      "execution_count": 0,
      "outputs": [
        {
          "output_type": "stream",
          "text": [
            "Decision Tree, Validation Accuracy 0.6202861952861953\n"
          ],
          "name": "stdout"
        }
      ]
    },
    {
      "cell_type": "markdown",
      "metadata": {
        "colab_type": "text",
        "id": "8yg11_gTsUu6"
      },
      "source": [
        "#### One-Hot Encoding, Logistic Regression, Model Interpretation"
      ]
    },
    {
      "cell_type": "code",
      "metadata": {
        "colab_type": "code",
        "id": "IxHwXGRornNI",
        "outputId": "e7721bdf-17f4-4d35-bfa4-231fd5867db2",
        "colab": {
          "base_uri": "https://localhost:8080/",
          "height": 265
        }
      },
      "source": [
        "model = lr.named_steps['logisticregressioncv']\n",
        "encoder = lr.named_steps['onehotencoder']\n",
        "encoded_columns = encoder.transform(X_val[[feature]]).columns\n",
        "coefficients = pd.Series(model.coef_[0], encoded_columns)\n",
        "coefficients.sort_values().plot.barh(color='grey');"
      ],
      "execution_count": 0,
      "outputs": [
        {
          "output_type": "display_data",
          "data": {
            "image/png": "[encoded data removed]",
            "text/plain": [
              "<Figure size 432x288 with 1 Axes>"
            ]
          },
          "metadata": {
            "tags": []
          }
        }
      ]
    },
    {
      "cell_type": "markdown",
      "metadata": {
        "colab_type": "text",
        "id": "0REZ8HdpsccR"
      },
      "source": [
        "#### One-Hot Encoding, Decision Tree, Model Interpretation"
      ]
    },
    {
      "cell_type": "code",
      "metadata": {
        "colab_type": "code",
        "id": "gV-grmYKpDp9",
        "outputId": "31581f50-8969-47cc-e29b-072a5117dfd9",
        "colab": {
          "base_uri": "https://localhost:8080/",
          "height": 954
        }
      },
      "source": [
        "# Plot tree\n",
        "# https://scikit-learn.org/stable/modules/generated/sklearn.tree.export_graphviz.html\n",
        "import graphviz\n",
        "from sklearn.tree import export_graphviz\n",
        "\n",
        "model = dt.named_steps['decisiontreeclassifier']\n",
        "encoder = dt.named_steps['onehotencoder']\n",
        "encoded_columns = encoder.transform(X_val[[feature]]).columns\n",
        "\n",
        "dot_data = export_graphviz(model, \n",
        "                           out_file=None, \n",
        "                           max_depth=7, \n",
        "                           feature_names=encoded_columns,\n",
        "                           class_names=model.classes_, \n",
        "                           impurity=False, \n",
        "                           filled=True, \n",
        "                           proportion=True, \n",
        "                           rounded=True)   \n",
        "display(graphviz.Source(dot_data))"
      ],
      "execution_count": 0,
      "outputs": [
        {
          "output_type": "display_data",
          "data": {
            "text/plain": [
              "<graphviz.files.Source at 0x7f0f89650fd0>"
            ],
            "image/svg+xml": "<?xml version=\"1.0\" encoding=\"UTF-8\" standalone=\"no\"?>\n<!DOCTYPE svg PUBLIC \"-//W3C//DTD SVG 1.1//EN\"\n \"http://www.w3.org/Graphics/SVG/1.1/DTD/svg11.dtd\">\n<!-- Generated by graphviz version 2.40.1 (20161225.0304)\n -->\n<!-- Title: Tree Pages: 1 -->\n<svg width=\"1067pt\" height=\"685pt\"\n viewBox=\"0.00 0.00 1067.00 685.00\" xmlns=\"http://www.w3.org/2000/svg\" xmlns:xlink=\"http://www.w3.org/1999/xlink\">\n<g id=\"graph0\" class=\"graph\" transform=\"scale(1 1) rotate(0) translate(4 681)\">\n<title>Tree</title>\n<polygon fill=\"#ffffff\" stroke=\"transparent\" points=\"-4,4 -4,-681 1063,-681 1063,4 -4,4\"/>\n<!-- 0 -->\n<g id=\"node1\" class=\"node\">\n<title>0</title>\n<path fill=\"#f8decc\" stroke=\"#000000\" d=\"M944.5,-677C944.5,-677 725.5,-677 725.5,-677 719.5,-677 713.5,-671 713.5,-665 713.5,-665 713.5,-621 713.5,-621 713.5,-615 719.5,-609 725.5,-609 725.5,-609 944.5,-609 944.5,-609 950.5,-609 956.5,-615 956.5,-621 956.5,-621 956.5,-665 956.5,-665 956.5,-671 950.5,-677 944.5,-677\"/>\n<text text-anchor=\"middle\" x=\"835\" y=\"-661.8\" font-family=\"Helvetica,sans-Serif\" font-size=\"14.00\" fill=\"#000000\">extraction_type_class_other &lt;= 0.5</text>\n<text text-anchor=\"middle\" x=\"835\" y=\"-646.8\" font-family=\"Helvetica,sans-Serif\" font-size=\"14.00\" fill=\"#000000\">samples = 100.0%</text>\n<text text-anchor=\"middle\" x=\"835\" y=\"-631.8\" font-family=\"Helvetica,sans-Serif\" font-size=\"14.00\" fill=\"#000000\">value = [0.543, 0.073, 0.384]</text>\n<text text-anchor=\"middle\" x=\"835\" y=\"-616.8\" font-family=\"Helvetica,sans-Serif\" font-size=\"14.00\" fill=\"#000000\">class = functional</text>\n</g>\n<!-- 1 -->\n<g id=\"node2\" class=\"node\">\n<title>1</title>\n<path fill=\"#f5ceb2\" stroke=\"#000000\" d=\"M837,-573C837,-573 577,-573 577,-573 571,-573 565,-567 565,-561 565,-561 565,-517 565,-517 565,-511 571,-505 577,-505 577,-505 837,-505 837,-505 843,-505 849,-511 849,-517 849,-517 849,-561 849,-561 849,-567 843,-573 837,-573\"/>\n<text text-anchor=\"middle\" x=\"707\" y=\"-557.8\" font-family=\"Helvetica,sans-Serif\" font-size=\"14.00\" fill=\"#000000\">extraction_type_class_motorpump &lt;= 0.5</text>\n<text text-anchor=\"middle\" x=\"707\" y=\"-542.8\" font-family=\"Helvetica,sans-Serif\" font-size=\"14.00\" fill=\"#000000\">samples = 89.1%</text>\n<text text-anchor=\"middle\" x=\"707\" y=\"-527.8\" font-family=\"Helvetica,sans-Serif\" font-size=\"14.00\" fill=\"#000000\">value = [0.59, 0.078, 0.332]</text>\n<text text-anchor=\"middle\" x=\"707\" y=\"-512.8\" font-family=\"Helvetica,sans-Serif\" font-size=\"14.00\" fill=\"#000000\">class = functional</text>\n</g>\n<!-- 0&#45;&gt;1 -->\n<g id=\"edge1\" class=\"edge\">\n<title>0&#45;&gt;1</title>\n<path fill=\"none\" stroke=\"#000000\" d=\"M793.088,-608.9465C781.485,-599.519 768.7779,-589.1946 756.7741,-579.4415\"/>\n<polygon fill=\"#000000\" stroke=\"#000000\" points=\"758.9744,-576.7196 749.0061,-573.13 754.5602,-582.1524 758.9744,-576.7196\"/>\n<text text-anchor=\"middle\" x=\"751.5786\" y=\"-594.2973\" font-family=\"Helvetica,sans-Serif\" font-size=\"14.00\" fill=\"#000000\">True</text>\n</g>\n<!-- 12 -->\n<g id=\"node13\" class=\"node\">\n<title>12</title>\n<path fill=\"#9d66eb\" stroke=\"#000000\" d=\"M1047,-565.5C1047,-565.5 879,-565.5 879,-565.5 873,-565.5 867,-559.5 867,-553.5 867,-553.5 867,-524.5 867,-524.5 867,-518.5 873,-512.5 879,-512.5 879,-512.5 1047,-512.5 1047,-512.5 1053,-512.5 1059,-518.5 1059,-524.5 1059,-524.5 1059,-553.5 1059,-553.5 1059,-559.5 1053,-565.5 1047,-565.5\"/>\n<text text-anchor=\"middle\" x=\"963\" y=\"-550.3\" font-family=\"Helvetica,sans-Serif\" font-size=\"14.00\" fill=\"#000000\">samples = 10.9%</text>\n<text text-anchor=\"middle\" x=\"963\" y=\"-535.3\" font-family=\"Helvetica,sans-Serif\" font-size=\"14.00\" fill=\"#000000\">value = [0.159, 0.031, 0.81]</text>\n<text text-anchor=\"middle\" x=\"963\" y=\"-520.3\" font-family=\"Helvetica,sans-Serif\" font-size=\"14.00\" fill=\"#000000\">class = non functional</text>\n</g>\n<!-- 0&#45;&gt;12 -->\n<g id=\"edge12\" class=\"edge\">\n<title>0&#45;&gt;12</title>\n<path fill=\"none\" stroke=\"#000000\" d=\"M876.912,-608.9465C891.5533,-597.0504 907.9526,-583.726 922.4785,-571.9237\"/>\n<polygon fill=\"#000000\" stroke=\"#000000\" points=\"924.7786,-574.5645 930.3327,-565.5422 920.3645,-569.1317 924.7786,-574.5645\"/>\n<text text-anchor=\"middle\" x=\"927.7602\" y=\"-586.7095\" font-family=\"Helvetica,sans-Serif\" font-size=\"14.00\" fill=\"#000000\">False</text>\n</g>\n<!-- 2 -->\n<g id=\"node3\" class=\"node\">\n<title>2</title>\n<path fill=\"#f4caac\" stroke=\"#000000\" d=\"M708.5,-469C708.5,-469 443.5,-469 443.5,-469 437.5,-469 431.5,-463 431.5,-457 431.5,-457 431.5,-413 431.5,-413 431.5,-407 437.5,-401 443.5,-401 443.5,-401 708.5,-401 708.5,-401 714.5,-401 720.5,-407 720.5,-413 720.5,-413 720.5,-457 720.5,-457 720.5,-463 714.5,-469 708.5,-469\"/>\n<text text-anchor=\"middle\" x=\"576\" y=\"-453.8\" font-family=\"Helvetica,sans-Serif\" font-size=\"14.00\" fill=\"#000000\">extraction_type_class_submersible &lt;= 0.5</text>\n<text text-anchor=\"middle\" x=\"576\" y=\"-438.8\" font-family=\"Helvetica,sans-Serif\" font-size=\"14.00\" fill=\"#000000\">samples = 84.1%</text>\n<text text-anchor=\"middle\" x=\"576\" y=\"-423.8\" font-family=\"Helvetica,sans-Serif\" font-size=\"14.00\" fill=\"#000000\">value = [0.603, 0.08, 0.318]</text>\n<text text-anchor=\"middle\" x=\"576\" y=\"-408.8\" font-family=\"Helvetica,sans-Serif\" font-size=\"14.00\" fill=\"#000000\">class = functional</text>\n</g>\n<!-- 1&#45;&gt;2 -->\n<g id=\"edge2\" class=\"edge\">\n<title>1&#45;&gt;2</title>\n<path fill=\"none\" stroke=\"#000000\" d=\"M664.1057,-504.9465C652.2307,-495.519 639.2259,-485.1946 626.9407,-475.4415\"/>\n<polygon fill=\"#000000\" stroke=\"#000000\" points=\"628.9989,-472.6066 618.9907,-469.13 624.6464,-478.089 628.9989,-472.6066\"/>\n</g>\n<!-- 11 -->\n<g id=\"node12\" class=\"node\">\n<title>11</title>\n<path fill=\"#d8c1f7\" stroke=\"#000000\" d=\"M927,-461.5C927,-461.5 751,-461.5 751,-461.5 745,-461.5 739,-455.5 739,-449.5 739,-449.5 739,-420.5 739,-420.5 739,-414.5 745,-408.5 751,-408.5 751,-408.5 927,-408.5 927,-408.5 933,-408.5 939,-414.5 939,-420.5 939,-420.5 939,-449.5 939,-449.5 939,-455.5 933,-461.5 927,-461.5\"/>\n<text text-anchor=\"middle\" x=\"839\" y=\"-446.3\" font-family=\"Helvetica,sans-Serif\" font-size=\"14.00\" fill=\"#000000\">samples = 5.0%</text>\n<text text-anchor=\"middle\" x=\"839\" y=\"-431.3\" font-family=\"Helvetica,sans-Serif\" font-size=\"14.00\" fill=\"#000000\">value = [0.381, 0.045, 0.574]</text>\n<text text-anchor=\"middle\" x=\"839\" y=\"-416.3\" font-family=\"Helvetica,sans-Serif\" font-size=\"14.00\" fill=\"#000000\">class = non functional</text>\n</g>\n<!-- 1&#45;&gt;11 -->\n<g id=\"edge11\" class=\"edge\">\n<title>1&#45;&gt;11</title>\n<path fill=\"none\" stroke=\"#000000\" d=\"M750.2217,-504.9465C765.3206,-493.0504 782.2324,-479.726 797.2122,-467.9237\"/>\n<polygon fill=\"#000000\" stroke=\"#000000\" points=\"799.623,-470.4802 805.3119,-461.5422 795.2909,-464.9817 799.623,-470.4802\"/>\n</g>\n<!-- 3 -->\n<g id=\"node4\" class=\"node\">\n<title>3</title>\n<path fill=\"#f4c7a8\" stroke=\"#000000\" d=\"M568.5,-365C568.5,-365 339.5,-365 339.5,-365 333.5,-365 327.5,-359 327.5,-353 327.5,-353 327.5,-309 327.5,-309 327.5,-303 333.5,-297 339.5,-297 339.5,-297 568.5,-297 568.5,-297 574.5,-297 580.5,-303 580.5,-309 580.5,-309 580.5,-353 580.5,-353 580.5,-359 574.5,-365 568.5,-365\"/>\n<text text-anchor=\"middle\" x=\"454\" y=\"-349.8\" font-family=\"Helvetica,sans-Serif\" font-size=\"14.00\" fill=\"#000000\">extraction_type_class_gravity &lt;= 0.5</text>\n<text text-anchor=\"middle\" x=\"454\" y=\"-334.8\" font-family=\"Helvetica,sans-Serif\" font-size=\"14.00\" fill=\"#000000\">samples = 73.8%</text>\n<text text-anchor=\"middle\" x=\"454\" y=\"-319.8\" font-family=\"Helvetica,sans-Serif\" font-size=\"14.00\" fill=\"#000000\">value = [0.611, 0.085, 0.304]</text>\n<text text-anchor=\"middle\" x=\"454\" y=\"-304.8\" font-family=\"Helvetica,sans-Serif\" font-size=\"14.00\" fill=\"#000000\">class = functional</text>\n</g>\n<!-- 2&#45;&gt;3 -->\n<g id=\"edge3\" class=\"edge\">\n<title>2&#45;&gt;3</title>\n<path fill=\"none\" stroke=\"#000000\" d=\"M536.0526,-400.9465C525.0988,-391.6088 513.1127,-381.3911 501.768,-371.7203\"/>\n<polygon fill=\"#000000\" stroke=\"#000000\" points=\"503.9179,-368.9538 494.0371,-365.13 499.3767,-374.2809 503.9179,-368.9538\"/>\n</g>\n<!-- 10 -->\n<g id=\"node11\" class=\"node\">\n<title>10</title>\n<path fill=\"#f9e4d5\" stroke=\"#000000\" d=\"M787,-357.5C787,-357.5 611,-357.5 611,-357.5 605,-357.5 599,-351.5 599,-345.5 599,-345.5 599,-316.5 599,-316.5 599,-310.5 605,-304.5 611,-304.5 611,-304.5 787,-304.5 787,-304.5 793,-304.5 799,-310.5 799,-316.5 799,-316.5 799,-345.5 799,-345.5 799,-351.5 793,-357.5 787,-357.5\"/>\n<text text-anchor=\"middle\" x=\"699\" y=\"-342.3\" font-family=\"Helvetica,sans-Serif\" font-size=\"14.00\" fill=\"#000000\">samples = 10.3%</text>\n<text text-anchor=\"middle\" x=\"699\" y=\"-327.3\" font-family=\"Helvetica,sans-Serif\" font-size=\"14.00\" fill=\"#000000\">value = [0.541, 0.042, 0.416]</text>\n<text text-anchor=\"middle\" x=\"699\" y=\"-312.3\" font-family=\"Helvetica,sans-Serif\" font-size=\"14.00\" fill=\"#000000\">class = functional</text>\n</g>\n<!-- 2&#45;&gt;10 -->\n<g id=\"edge10\" class=\"edge\">\n<title>2&#45;&gt;10</title>\n<path fill=\"none\" stroke=\"#000000\" d=\"M616.2748,-400.9465C630.2139,-389.1606 645.8112,-375.9726 659.6732,-364.2519\"/>\n<polygon fill=\"#000000\" stroke=\"#000000\" points=\"662.2324,-366.6715 667.6088,-357.5422 657.7127,-361.3262 662.2324,-366.6715\"/>\n</g>\n<!-- 4 -->\n<g id=\"node5\" class=\"node\">\n<title>4</title>\n<path fill=\"#f3c5a4\" stroke=\"#000000\" d=\"M458.5,-261C458.5,-261 181.5,-261 181.5,-261 175.5,-261 169.5,-255 169.5,-249 169.5,-249 169.5,-205 169.5,-205 169.5,-199 175.5,-193 181.5,-193 181.5,-193 458.5,-193 458.5,-193 464.5,-193 470.5,-199 470.5,-205 470.5,-205 470.5,-249 470.5,-249 470.5,-255 464.5,-261 458.5,-261\"/>\n<text text-anchor=\"middle\" x=\"320\" y=\"-245.8\" font-family=\"Helvetica,sans-Serif\" font-size=\"14.00\" fill=\"#000000\">extraction_type_class_wind&#45;powered &lt;= 0.5</text>\n<text text-anchor=\"middle\" x=\"320\" y=\"-230.8\" font-family=\"Helvetica,sans-Serif\" font-size=\"14.00\" fill=\"#000000\">samples = 28.7%</text>\n<text text-anchor=\"middle\" x=\"320\" y=\"-215.8\" font-family=\"Helvetica,sans-Serif\" font-size=\"14.00\" fill=\"#000000\">value = [0.629, 0.059, 0.311]</text>\n<text text-anchor=\"middle\" x=\"320\" y=\"-200.8\" font-family=\"Helvetica,sans-Serif\" font-size=\"14.00\" fill=\"#000000\">class = functional</text>\n</g>\n<!-- 3&#45;&gt;4 -->\n<g id=\"edge4\" class=\"edge\">\n<title>3&#45;&gt;4</title>\n<path fill=\"none\" stroke=\"#000000\" d=\"M410.1234,-296.9465C397.9765,-287.519 384.6738,-277.1946 372.1073,-267.4415\"/>\n<polygon fill=\"#000000\" stroke=\"#000000\" points=\"374.021,-264.4963 363.9752,-261.13 369.7291,-270.0262 374.021,-264.4963\"/>\n</g>\n<!-- 9 -->\n<g id=\"node10\" class=\"node\">\n<title>9</title>\n<path fill=\"#f4c9aa\" stroke=\"#000000\" d=\"M677,-253.5C677,-253.5 501,-253.5 501,-253.5 495,-253.5 489,-247.5 489,-241.5 489,-241.5 489,-212.5 489,-212.5 489,-206.5 495,-200.5 501,-200.5 501,-200.5 677,-200.5 677,-200.5 683,-200.5 689,-206.5 689,-212.5 689,-212.5 689,-241.5 689,-241.5 689,-247.5 683,-253.5 677,-253.5\"/>\n<text text-anchor=\"middle\" x=\"589\" y=\"-238.3\" font-family=\"Helvetica,sans-Serif\" font-size=\"14.00\" fill=\"#000000\">samples = 45.1%</text>\n<text text-anchor=\"middle\" x=\"589\" y=\"-223.3\" font-family=\"Helvetica,sans-Serif\" font-size=\"14.00\" fill=\"#000000\">value = [0.599, 0.101, 0.299]</text>\n<text text-anchor=\"middle\" x=\"589\" y=\"-208.3\" font-family=\"Helvetica,sans-Serif\" font-size=\"14.00\" fill=\"#000000\">class = functional</text>\n</g>\n<!-- 3&#45;&gt;9 -->\n<g id=\"edge9\" class=\"edge\">\n<title>3&#45;&gt;9</title>\n<path fill=\"none\" stroke=\"#000000\" d=\"M498.204,-296.9465C513.6461,-285.0504 530.9422,-271.726 546.2625,-259.9237\"/>\n<polygon fill=\"#000000\" stroke=\"#000000\" points=\"548.7603,-262.4176 554.5462,-253.5422 544.4883,-256.8723 548.7603,-262.4176\"/>\n</g>\n<!-- 5 -->\n<g id=\"node6\" class=\"node\">\n<title>5</title>\n<path fill=\"#f3c4a3\" stroke=\"#000000\" d=\"M319,-157C319,-157 63,-157 63,-157 57,-157 51,-151 51,-145 51,-145 51,-101 51,-101 51,-95 57,-89 63,-89 63,-89 319,-89 319,-89 325,-89 331,-95 331,-101 331,-101 331,-145 331,-145 331,-151 325,-157 319,-157\"/>\n<text text-anchor=\"middle\" x=\"191\" y=\"-141.8\" font-family=\"Helvetica,sans-Serif\" font-size=\"14.00\" fill=\"#000000\">extraction_type_class_rope pump &lt;= 0.5</text>\n<text text-anchor=\"middle\" x=\"191\" y=\"-126.8\" font-family=\"Helvetica,sans-Serif\" font-size=\"14.00\" fill=\"#000000\">samples = 28.5%</text>\n<text text-anchor=\"middle\" x=\"191\" y=\"-111.8\" font-family=\"Helvetica,sans-Serif\" font-size=\"14.00\" fill=\"#000000\">value = [0.631, 0.059, 0.31]</text>\n<text text-anchor=\"middle\" x=\"191\" y=\"-96.8\" font-family=\"Helvetica,sans-Serif\" font-size=\"14.00\" fill=\"#000000\">class = functional</text>\n</g>\n<!-- 4&#45;&gt;5 -->\n<g id=\"edge5\" class=\"edge\">\n<title>4&#45;&gt;5</title>\n<path fill=\"none\" stroke=\"#000000\" d=\"M277.7606,-192.9465C266.0669,-183.519 253.2606,-173.1946 241.163,-163.4415\"/>\n<polygon fill=\"#000000\" stroke=\"#000000\" points=\"243.3162,-160.6816 233.3343,-157.13 238.9227,-166.1312 243.3162,-160.6816\"/>\n</g>\n<!-- 8 -->\n<g id=\"node9\" class=\"node\">\n<title>8</title>\n<path fill=\"#f8f3fd\" stroke=\"#000000\" d=\"M537,-149.5C537,-149.5 361,-149.5 361,-149.5 355,-149.5 349,-143.5 349,-137.5 349,-137.5 349,-108.5 349,-108.5 349,-102.5 355,-96.5 361,-96.5 361,-96.5 537,-96.5 537,-96.5 543,-96.5 549,-102.5 549,-108.5 549,-108.5 549,-137.5 549,-137.5 549,-143.5 543,-149.5 537,-149.5\"/>\n<text text-anchor=\"middle\" x=\"449\" y=\"-134.3\" font-family=\"Helvetica,sans-Serif\" font-size=\"14.00\" fill=\"#000000\">samples = 0.2%</text>\n<text text-anchor=\"middle\" x=\"449\" y=\"-119.3\" font-family=\"Helvetica,sans-Serif\" font-size=\"14.00\" fill=\"#000000\">value = [0.452, 0.065, 0.484]</text>\n<text text-anchor=\"middle\" x=\"449\" y=\"-104.3\" font-family=\"Helvetica,sans-Serif\" font-size=\"14.00\" fill=\"#000000\">class = non functional</text>\n</g>\n<!-- 4&#45;&gt;8 -->\n<g id=\"edge8\" class=\"edge\">\n<title>4&#45;&gt;8</title>\n<path fill=\"none\" stroke=\"#000000\" d=\"M362.2394,-192.9465C376.9952,-181.0504 393.5225,-167.726 408.162,-155.9237\"/>\n<polygon fill=\"#000000\" stroke=\"#000000\" points=\"410.4891,-158.5433 416.0775,-149.5422 406.0957,-153.0938 410.4891,-158.5433\"/>\n</g>\n<!-- 6 -->\n<g id=\"node7\" class=\"node\">\n<title>6</title>\n<path fill=\"#f3c5a3\" stroke=\"#000000\" d=\"M164,-53C164,-53 12,-53 12,-53 6,-53 0,-47 0,-41 0,-41 0,-12 0,-12 0,-6 6,0 12,0 12,0 164,0 164,0 170,0 176,-6 176,-12 176,-12 176,-41 176,-41 176,-47 170,-53 164,-53\"/>\n<text text-anchor=\"middle\" x=\"88\" y=\"-37.8\" font-family=\"Helvetica,sans-Serif\" font-size=\"14.00\" fill=\"#000000\">samples = 27.7%</text>\n<text text-anchor=\"middle\" x=\"88\" y=\"-22.8\" font-family=\"Helvetica,sans-Serif\" font-size=\"14.00\" fill=\"#000000\">value = [0.63, 0.06, 0.31]</text>\n<text text-anchor=\"middle\" x=\"88\" y=\"-7.8\" font-family=\"Helvetica,sans-Serif\" font-size=\"14.00\" fill=\"#000000\">class = functional</text>\n</g>\n<!-- 5&#45;&gt;6 -->\n<g id=\"edge6\" class=\"edge\">\n<title>5&#45;&gt;6</title>\n<path fill=\"none\" stroke=\"#000000\" d=\"M154.6861,-88.9777C144.7168,-79.6376 133.9138,-69.5163 123.9643,-60.1947\"/>\n<polygon fill=\"#000000\" stroke=\"#000000\" points=\"126.2408,-57.5314 116.5502,-53.2485 121.4548,-62.6397 126.2408,-57.5314\"/>\n</g>\n<!-- 7 -->\n<g id=\"node8\" class=\"node\">\n<title>7</title>\n<path fill=\"#f2bf9b\" stroke=\"#000000\" d=\"M382,-53C382,-53 206,-53 206,-53 200,-53 194,-47 194,-41 194,-41 194,-12 194,-12 194,-6 200,0 206,0 206,0 382,0 382,0 388,0 394,-6 394,-12 394,-12 394,-41 394,-41 394,-47 388,-53 382,-53\"/>\n<text text-anchor=\"middle\" x=\"294\" y=\"-37.8\" font-family=\"Helvetica,sans-Serif\" font-size=\"14.00\" fill=\"#000000\">samples = 0.7%</text>\n<text text-anchor=\"middle\" x=\"294\" y=\"-22.8\" font-family=\"Helvetica,sans-Serif\" font-size=\"14.00\" fill=\"#000000\">value = [0.657, 0.037, 0.306]</text>\n<text text-anchor=\"middle\" x=\"294\" y=\"-7.8\" font-family=\"Helvetica,sans-Serif\" font-size=\"14.00\" fill=\"#000000\">class = functional</text>\n</g>\n<!-- 5&#45;&gt;7 -->\n<g id=\"edge7\" class=\"edge\">\n<title>5&#45;&gt;7</title>\n<path fill=\"none\" stroke=\"#000000\" d=\"M227.3139,-88.9777C237.2832,-79.6376 248.0862,-69.5163 258.0357,-60.1947\"/>\n<polygon fill=\"#000000\" stroke=\"#000000\" points=\"260.5452,-62.6397 265.4498,-53.2485 255.7592,-57.5314 260.5452,-62.6397\"/>\n</g>\n</g>\n</svg>\n"
          },
          "metadata": {
            "tags": []
          }
        }
      ]
    },
    {
      "cell_type": "markdown",
      "metadata": {
        "colab_type": "text",
        "id": "QUd6gzcZgLVz"
      },
      "source": [
        "### [Ordinal Encoding](http://contrib.scikit-learn.org/categorical-encoding/ordinal.html)\n",
        "\n",
        "> Ordinal encoding uses a single column of integers to represent the classes. An optional mapping dict can be passed in; in this case, we use the knowledge that there is some true order to the classes themselves. Otherwise, the classes are assumed to have no true order and integers are selected at random."
      ]
    },
    {
      "cell_type": "code",
      "metadata": {
        "colab_type": "code",
        "id": "CnBz2RbwgLVz",
        "outputId": "11221ca5-d321-4bd3-bb6d-a0fe03fc4cef",
        "colab": {
          "base_uri": "https://localhost:8080/",
          "height": 656
        }
      },
      "source": [
        "encoder = ce.OrdinalEncoder()\n",
        "encoded = encoder.fit_transform(X_train[[feature]])\n",
        "print(f'1 column, {encoded[feature].nunique()} unique values')\n",
        "encoded.head(20)"
      ],
      "execution_count": 0,
      "outputs": [
        {
          "output_type": "stream",
          "text": [
            "1 column, 7 unique values\n"
          ],
          "name": "stdout"
        },
        {
          "output_type": "execute_result",
          "data": {
            "text/html": [
              "<div>\n",
              "<style scoped>\n",
              "    .dataframe tbody tr th:only-of-type {\n",
              "        vertical-align: middle;\n",
              "    }\n",
              "\n",
              "    .dataframe tbody tr th {\n",
              "        vertical-align: top;\n",
              "    }\n",
              "\n",
              "    .dataframe thead th {\n",
              "        text-align: right;\n",
              "    }\n",
              "</style>\n",
              "<table border=\"1\" class=\"dataframe\">\n",
              "  <thead>\n",
              "    <tr style=\"text-align: right;\">\n",
              "      <th></th>\n",
              "      <th>extraction_type_class</th>\n",
              "    </tr>\n",
              "  </thead>\n",
              "  <tbody>\n",
              "    <tr>\n",
              "      <th>43360</th>\n",
              "      <td>1</td>\n",
              "    </tr>\n",
              "    <tr>\n",
              "      <th>7263</th>\n",
              "      <td>1</td>\n",
              "    </tr>\n",
              "    <tr>\n",
              "      <th>2486</th>\n",
              "      <td>2</td>\n",
              "    </tr>\n",
              "    <tr>\n",
              "      <th>313</th>\n",
              "      <td>3</td>\n",
              "    </tr>\n",
              "    <tr>\n",
              "      <th>52726</th>\n",
              "      <td>4</td>\n",
              "    </tr>\n",
              "    <tr>\n",
              "      <th>8558</th>\n",
              "      <td>1</td>\n",
              "    </tr>\n",
              "    <tr>\n",
              "      <th>2559</th>\n",
              "      <td>1</td>\n",
              "    </tr>\n",
              "    <tr>\n",
              "      <th>54735</th>\n",
              "      <td>4</td>\n",
              "    </tr>\n",
              "    <tr>\n",
              "      <th>25763</th>\n",
              "      <td>2</td>\n",
              "    </tr>\n",
              "    <tr>\n",
              "      <th>44540</th>\n",
              "      <td>5</td>\n",
              "    </tr>\n",
              "    <tr>\n",
              "      <th>28603</th>\n",
              "      <td>3</td>\n",
              "    </tr>\n",
              "    <tr>\n",
              "      <th>4372</th>\n",
              "      <td>5</td>\n",
              "    </tr>\n",
              "    <tr>\n",
              "      <th>30666</th>\n",
              "      <td>1</td>\n",
              "    </tr>\n",
              "    <tr>\n",
              "      <th>6431</th>\n",
              "      <td>5</td>\n",
              "    </tr>\n",
              "    <tr>\n",
              "      <th>57420</th>\n",
              "      <td>3</td>\n",
              "    </tr>\n",
              "    <tr>\n",
              "      <th>1373</th>\n",
              "      <td>1</td>\n",
              "    </tr>\n",
              "    <tr>\n",
              "      <th>2026</th>\n",
              "      <td>1</td>\n",
              "    </tr>\n",
              "    <tr>\n",
              "      <th>58977</th>\n",
              "      <td>2</td>\n",
              "    </tr>\n",
              "    <tr>\n",
              "      <th>41101</th>\n",
              "      <td>1</td>\n",
              "    </tr>\n",
              "    <tr>\n",
              "      <th>10019</th>\n",
              "      <td>1</td>\n",
              "    </tr>\n",
              "  </tbody>\n",
              "</table>\n",
              "</div>"
            ],
            "text/plain": [
              "       extraction_type_class\n",
              "43360                      1\n",
              "7263                       1\n",
              "2486                       2\n",
              "313                        3\n",
              "52726                      4\n",
              "8558                       1\n",
              "2559                       1\n",
              "54735                      4\n",
              "25763                      2\n",
              "44540                      5\n",
              "28603                      3\n",
              "4372                       5\n",
              "30666                      1\n",
              "6431                       5\n",
              "57420                      3\n",
              "1373                       1\n",
              "2026                       1\n",
              "58977                      2\n",
              "41101                      1\n",
              "10019                      1"
            ]
          },
          "metadata": {
            "tags": []
          },
          "execution_count": 33
        }
      ]
    },
    {
      "cell_type": "markdown",
      "metadata": {
        "colab_type": "text",
        "id": "Nd-ZWprasqUM"
      },
      "source": [
        "#### Ordinal Encoding, Logistic Regression, Validation Accuracy"
      ]
    },
    {
      "cell_type": "code",
      "metadata": {
        "colab_type": "code",
        "id": "GJ1YpwjvrhfL",
        "outputId": "e3810bdb-beb6-4a47-9480-f89b08aa3cce",
        "colab": {
          "base_uri": "https://localhost:8080/",
          "height": 34
        }
      },
      "source": [
        "lr = make_pipeline(\n",
        "    ce.OrdinalEncoder(), \n",
        "    SimpleImputer(), \n",
        "    StandardScaler(), \n",
        "    LogisticRegressionCV(multi_class='auto', solver='lbfgs', cv=5, n_jobs=-1)\n",
        ")\n",
        "\n",
        "lr.fit(X_train[[feature]], y_train)\n",
        "score = lr.score(X_val[[feature]], y_val)\n",
        "print('Logistic Regression, Validation Accuracy', score)"
      ],
      "execution_count": 0,
      "outputs": [
        {
          "output_type": "stream",
          "text": [
            "Logistic Regression, Validation Accuracy 0.5417508417508418\n"
          ],
          "name": "stdout"
        }
      ]
    },
    {
      "cell_type": "markdown",
      "metadata": {
        "colab_type": "text",
        "id": "9lO_R3SksuHs"
      },
      "source": [
        "#### Ordinal Encoding, Decision Tree, Validation Accuracy"
      ]
    },
    {
      "cell_type": "code",
      "metadata": {
        "colab_type": "code",
        "id": "aOELD_roriVI",
        "outputId": "421f9b1a-863b-41ef-f57b-e76672ca5006",
        "colab": {
          "base_uri": "https://localhost:8080/",
          "height": 34
        }
      },
      "source": [
        "dt = make_pipeline(\n",
        "    ce.OrdinalEncoder(), \n",
        "    SimpleImputer(), \n",
        "    DecisionTreeClassifier(random_state=42)\n",
        ")\n",
        "\n",
        "dt.fit(X_train[[feature]], y_train)\n",
        "score = dt.score(X_val[[feature]], y_val)\n",
        "print('Decision Tree, Validation Accuracy', score)"
      ],
      "execution_count": 0,
      "outputs": [
        {
          "output_type": "stream",
          "text": [
            "Decision Tree, Validation Accuracy 0.6202861952861953\n"
          ],
          "name": "stdout"
        }
      ]
    },
    {
      "cell_type": "markdown",
      "metadata": {
        "colab_type": "text",
        "id": "7V2zHjiwswTg"
      },
      "source": [
        "#### Ordinal Encoding, Logistic Regression, Model Interpretation"
      ]
    },
    {
      "cell_type": "code",
      "metadata": {
        "colab_type": "code",
        "id": "S9UPYPois8QR",
        "outputId": "230839cc-c69a-48c4-a4a1-95c86fc57bde",
        "colab": {
          "base_uri": "https://localhost:8080/",
          "height": 265
        }
      },
      "source": [
        "model = lr.named_steps['logisticregressioncv']\n",
        "encoder = lr.named_steps['ordinalencoder']\n",
        "encoded_columns = encoder.transform(X_val[[feature]]).columns\n",
        "coefficients = pd.Series(model.coef_[0], encoded_columns)\n",
        "coefficients.sort_values().plot.barh(color='grey');"
      ],
      "execution_count": 0,
      "outputs": [
        {
          "output_type": "display_data",
          "data": {
            "image/png": "[encoded data removed]",
            "text/plain": [
              "<Figure size 432x288 with 1 Axes>"
            ]
          },
          "metadata": {
            "tags": []
          }
        }
      ]
    },
    {
      "cell_type": "markdown",
      "metadata": {
        "colab_type": "text",
        "id": "MvmmvE8fsymh"
      },
      "source": [
        "#### Ordinal Encoding, Decision Tree, Model Interpretation"
      ]
    },
    {
      "cell_type": "code",
      "metadata": {
        "colab_type": "code",
        "id": "jCvUu4Oms88b",
        "outputId": "e92bab22-16ec-47a3-9944-61b48bc98cb8",
        "colab": {
          "base_uri": "https://localhost:8080/",
          "height": 936
        }
      },
      "source": [
        "model = dt.named_steps['decisiontreeclassifier']\n",
        "encoder = dt.named_steps['ordinalencoder']\n",
        "encoded_columns = encoder.transform(X_val[[feature]]).columns\n",
        "\n",
        "dot_data = export_graphviz(model, \n",
        "                           out_file=None, \n",
        "                           max_depth=5, \n",
        "                           feature_names=encoded_columns,\n",
        "                           class_names=model.classes_, \n",
        "                           impurity=True, \n",
        "                           filled=True, \n",
        "                           proportion=True, \n",
        "                           rounded=True)   \n",
        "display(graphviz.Source(dot_data))"
      ],
      "execution_count": 0,
      "outputs": [
        {
          "output_type": "display_data",
          "data": {
            "text/plain": [
              "<graphviz.files.Source at 0x7f0f86dd4358>"
            ],
            "image/svg+xml": "<?xml version=\"1.0\" encoding=\"UTF-8\" standalone=\"no\"?>\n<!DOCTYPE svg PUBLIC \"-//W3C//DTD SVG 1.1//EN\"\n \"http://www.w3.org/Graphics/SVG/1.1/DTD/svg11.dtd\">\n<!-- Generated by graphviz version 2.40.1 (20161225.0304)\n -->\n<!-- Title: Tree Pages: 1 -->\n<svg width=\"1167pt\" height=\"671pt\"\n viewBox=\"0.00 0.00 1167.00 671.00\" xmlns=\"http://www.w3.org/2000/svg\" xmlns:xlink=\"http://www.w3.org/1999/xlink\">\n<g id=\"graph0\" class=\"graph\" transform=\"scale(1 1) rotate(0) translate(4 667)\">\n<title>Tree</title>\n<polygon fill=\"#ffffff\" stroke=\"transparent\" points=\"-4,4 -4,-667 1163,-667 1163,4 -4,4\"/>\n<!-- 0 -->\n<g id=\"node1\" class=\"node\">\n<title>0</title>\n<path fill=\"#f8decc\" stroke=\"#000000\" d=\"M500,-663C500,-663 322,-663 322,-663 316,-663 310,-657 310,-651 310,-651 310,-592 310,-592 310,-586 316,-580 322,-580 322,-580 500,-580 500,-580 506,-580 512,-586 512,-592 512,-592 512,-651 512,-651 512,-657 506,-663 500,-663\"/>\n<text text-anchor=\"middle\" x=\"411\" y=\"-647.8\" font-family=\"Helvetica,sans-Serif\" font-size=\"14.00\" fill=\"#000000\">extraction_type_class &lt;= 2.5</text>\n<text text-anchor=\"middle\" x=\"411\" y=\"-632.8\" font-family=\"Helvetica,sans-Serif\" font-size=\"14.00\" fill=\"#000000\">gini = 0.552</text>\n<text text-anchor=\"middle\" x=\"411\" y=\"-617.8\" font-family=\"Helvetica,sans-Serif\" font-size=\"14.00\" fill=\"#000000\">samples = 100.0%</text>\n<text text-anchor=\"middle\" x=\"411\" y=\"-602.8\" font-family=\"Helvetica,sans-Serif\" font-size=\"14.00\" fill=\"#000000\">value = [0.543, 0.073, 0.384]</text>\n<text text-anchor=\"middle\" x=\"411\" y=\"-587.8\" font-family=\"Helvetica,sans-Serif\" font-size=\"14.00\" fill=\"#000000\">class = functional</text>\n</g>\n<!-- 1 -->\n<g id=\"node2\" class=\"node\">\n<title>1</title>\n<path fill=\"#f4c7a8\" stroke=\"#000000\" d=\"M390,-544C390,-544 212,-544 212,-544 206,-544 200,-538 200,-532 200,-532 200,-473 200,-473 200,-467 206,-461 212,-461 212,-461 390,-461 390,-461 396,-461 402,-467 402,-473 402,-473 402,-532 402,-532 402,-538 396,-544 390,-544\"/>\n<text text-anchor=\"middle\" x=\"301\" y=\"-528.8\" font-family=\"Helvetica,sans-Serif\" font-size=\"14.00\" fill=\"#000000\">extraction_type_class &lt;= 1.5</text>\n<text text-anchor=\"middle\" x=\"301\" y=\"-513.8\" font-family=\"Helvetica,sans-Serif\" font-size=\"14.00\" fill=\"#000000\">gini = 0.527</text>\n<text text-anchor=\"middle\" x=\"301\" y=\"-498.8\" font-family=\"Helvetica,sans-Serif\" font-size=\"14.00\" fill=\"#000000\">samples = 72.9%</text>\n<text text-anchor=\"middle\" x=\"301\" y=\"-483.8\" font-family=\"Helvetica,sans-Serif\" font-size=\"14.00\" fill=\"#000000\">value = [0.611, 0.085, 0.304]</text>\n<text text-anchor=\"middle\" x=\"301\" y=\"-468.8\" font-family=\"Helvetica,sans-Serif\" font-size=\"14.00\" fill=\"#000000\">class = functional</text>\n</g>\n<!-- 0&#45;&gt;1 -->\n<g id=\"edge1\" class=\"edge\">\n<title>0&#45;&gt;1</title>\n<path fill=\"none\" stroke=\"#000000\" d=\"M372.5273,-579.8796C364.1189,-570.7832 355.1424,-561.0722 346.4897,-551.7116\"/>\n<polygon fill=\"#000000\" stroke=\"#000000\" points=\"348.995,-549.2656 339.6369,-544.2981 343.8547,-554.0172 348.995,-549.2656\"/>\n<text text-anchor=\"middle\" x=\"338.6551\" y=\"-565.5788\" font-family=\"Helvetica,sans-Serif\" font-size=\"14.00\" fill=\"#000000\">True</text>\n</g>\n<!-- 4 -->\n<g id=\"node5\" class=\"node\">\n<title>4</title>\n<path fill=\"#d0b4f5\" stroke=\"#000000\" d=\"M610,-544C610,-544 432,-544 432,-544 426,-544 420,-538 420,-532 420,-532 420,-473 420,-473 420,-467 426,-461 432,-461 432,-461 610,-461 610,-461 616,-461 622,-467 622,-473 622,-473 622,-532 622,-532 622,-538 616,-544 610,-544\"/>\n<text text-anchor=\"middle\" x=\"521\" y=\"-528.8\" font-family=\"Helvetica,sans-Serif\" font-size=\"14.00\" fill=\"#000000\">extraction_type_class &lt;= 3.5</text>\n<text text-anchor=\"middle\" x=\"521\" y=\"-513.8\" font-family=\"Helvetica,sans-Serif\" font-size=\"14.00\" fill=\"#000000\">gini = 0.507</text>\n<text text-anchor=\"middle\" x=\"521\" y=\"-498.8\" font-family=\"Helvetica,sans-Serif\" font-size=\"14.00\" fill=\"#000000\">samples = 27.1%</text>\n<text text-anchor=\"middle\" x=\"521\" y=\"-483.8\" font-family=\"Helvetica,sans-Serif\" font-size=\"14.00\" fill=\"#000000\">value = [0.361, 0.038, 0.601]</text>\n<text text-anchor=\"middle\" x=\"521\" y=\"-468.8\" font-family=\"Helvetica,sans-Serif\" font-size=\"14.00\" fill=\"#000000\">class = non functional</text>\n</g>\n<!-- 0&#45;&gt;4 -->\n<g id=\"edge4\" class=\"edge\">\n<title>0&#45;&gt;4</title>\n<path fill=\"none\" stroke=\"#000000\" d=\"M449.4727,-579.8796C457.8811,-570.7832 466.8576,-561.0722 475.5103,-551.7116\"/>\n<polygon fill=\"#000000\" stroke=\"#000000\" points=\"478.1453,-554.0172 482.3631,-544.2981 473.005,-549.2656 478.1453,-554.0172\"/>\n<text text-anchor=\"middle\" x=\"483.3449\" y=\"-565.5788\" font-family=\"Helvetica,sans-Serif\" font-size=\"14.00\" fill=\"#000000\">False</text>\n</g>\n<!-- 2 -->\n<g id=\"node3\" class=\"node\">\n<title>2</title>\n<path fill=\"#f4c9aa\" stroke=\"#000000\" d=\"M188,-417.5C188,-417.5 12,-417.5 12,-417.5 6,-417.5 0,-411.5 0,-405.5 0,-405.5 0,-361.5 0,-361.5 0,-355.5 6,-349.5 12,-349.5 12,-349.5 188,-349.5 188,-349.5 194,-349.5 200,-355.5 200,-361.5 200,-361.5 200,-405.5 200,-405.5 200,-411.5 194,-417.5 188,-417.5\"/>\n<text text-anchor=\"middle\" x=\"100\" y=\"-402.3\" font-family=\"Helvetica,sans-Serif\" font-size=\"14.00\" fill=\"#000000\">gini = 0.541</text>\n<text text-anchor=\"middle\" x=\"100\" y=\"-387.3\" font-family=\"Helvetica,sans-Serif\" font-size=\"14.00\" fill=\"#000000\">samples = 45.1%</text>\n<text text-anchor=\"middle\" x=\"100\" y=\"-372.3\" font-family=\"Helvetica,sans-Serif\" font-size=\"14.00\" fill=\"#000000\">value = [0.599, 0.101, 0.299]</text>\n<text text-anchor=\"middle\" x=\"100\" y=\"-357.3\" font-family=\"Helvetica,sans-Serif\" font-size=\"14.00\" fill=\"#000000\">class = functional</text>\n</g>\n<!-- 1&#45;&gt;2 -->\n<g id=\"edge2\" class=\"edge\">\n<title>1&#45;&gt;2</title>\n<path fill=\"none\" stroke=\"#000000\" d=\"M230.7,-460.8796C209.7989,-448.5053 186.9767,-434.9937 166.3366,-422.7739\"/>\n<polygon fill=\"#000000\" stroke=\"#000000\" points=\"168.0245,-419.7058 157.6364,-417.623 164.4583,-425.7293 168.0245,-419.7058\"/>\n</g>\n<!-- 3 -->\n<g id=\"node4\" class=\"node\">\n<title>3</title>\n<path fill=\"#f3c5a3\" stroke=\"#000000\" d=\"M382,-417.5C382,-417.5 230,-417.5 230,-417.5 224,-417.5 218,-411.5 218,-405.5 218,-405.5 218,-361.5 218,-361.5 218,-355.5 224,-349.5 230,-349.5 230,-349.5 382,-349.5 382,-349.5 388,-349.5 394,-355.5 394,-361.5 394,-361.5 394,-405.5 394,-405.5 394,-411.5 388,-417.5 382,-417.5\"/>\n<text text-anchor=\"middle\" x=\"306\" y=\"-402.3\" font-family=\"Helvetica,sans-Serif\" font-size=\"14.00\" fill=\"#000000\">gini = 0.503</text>\n<text text-anchor=\"middle\" x=\"306\" y=\"-387.3\" font-family=\"Helvetica,sans-Serif\" font-size=\"14.00\" fill=\"#000000\">samples = 27.7%</text>\n<text text-anchor=\"middle\" x=\"306\" y=\"-372.3\" font-family=\"Helvetica,sans-Serif\" font-size=\"14.00\" fill=\"#000000\">value = [0.63, 0.06, 0.31]</text>\n<text text-anchor=\"middle\" x=\"306\" y=\"-357.3\" font-family=\"Helvetica,sans-Serif\" font-size=\"14.00\" fill=\"#000000\">class = functional</text>\n</g>\n<!-- 1&#45;&gt;3 -->\n<g id=\"edge3\" class=\"edge\">\n<title>1&#45;&gt;3</title>\n<path fill=\"none\" stroke=\"#000000\" d=\"M302.7488,-460.8796C303.1969,-450.2134 303.6806,-438.7021 304.1344,-427.9015\"/>\n<polygon fill=\"#000000\" stroke=\"#000000\" points=\"307.6352,-427.9531 304.5582,-417.8149 300.6414,-427.6592 307.6352,-427.9531\"/>\n</g>\n<!-- 5 -->\n<g id=\"node6\" class=\"node\">\n<title>5</title>\n<path fill=\"#9d66eb\" stroke=\"#000000\" d=\"M601,-417.5C601,-417.5 433,-417.5 433,-417.5 427,-417.5 421,-411.5 421,-405.5 421,-405.5 421,-361.5 421,-361.5 421,-355.5 427,-349.5 433,-349.5 433,-349.5 601,-349.5 601,-349.5 607,-349.5 613,-355.5 613,-361.5 613,-361.5 613,-405.5 613,-405.5 613,-411.5 607,-417.5 601,-417.5\"/>\n<text text-anchor=\"middle\" x=\"517\" y=\"-402.3\" font-family=\"Helvetica,sans-Serif\" font-size=\"14.00\" fill=\"#000000\">gini = 0.318</text>\n<text text-anchor=\"middle\" x=\"517\" y=\"-387.3\" font-family=\"Helvetica,sans-Serif\" font-size=\"14.00\" fill=\"#000000\">samples = 10.9%</text>\n<text text-anchor=\"middle\" x=\"517\" y=\"-372.3\" font-family=\"Helvetica,sans-Serif\" font-size=\"14.00\" fill=\"#000000\">value = [0.159, 0.031, 0.81]</text>\n<text text-anchor=\"middle\" x=\"517\" y=\"-357.3\" font-family=\"Helvetica,sans-Serif\" font-size=\"14.00\" fill=\"#000000\">class = non functional</text>\n</g>\n<!-- 4&#45;&gt;5 -->\n<g id=\"edge5\" class=\"edge\">\n<title>4&#45;&gt;5</title>\n<path fill=\"none\" stroke=\"#000000\" d=\"M519.601,-460.8796C519.2425,-450.2134 518.8555,-438.7021 518.4925,-427.9015\"/>\n<polygon fill=\"#000000\" stroke=\"#000000\" points=\"521.9875,-427.6917 518.1534,-417.8149 514.9915,-427.9269 521.9875,-427.6917\"/>\n</g>\n<!-- 6 -->\n<g id=\"node7\" class=\"node\">\n<title>6</title>\n<path fill=\"#fdf7f2\" stroke=\"#000000\" d=\"M821,-425C821,-425 643,-425 643,-425 637,-425 631,-419 631,-413 631,-413 631,-354 631,-354 631,-348 637,-342 643,-342 643,-342 821,-342 821,-342 827,-342 833,-348 833,-354 833,-354 833,-413 833,-413 833,-419 827,-425 821,-425\"/>\n<text text-anchor=\"middle\" x=\"732\" y=\"-409.8\" font-family=\"Helvetica,sans-Serif\" font-size=\"14.00\" fill=\"#000000\">extraction_type_class &lt;= 4.5</text>\n<text text-anchor=\"middle\" x=\"732\" y=\"-394.8\" font-family=\"Helvetica,sans-Serif\" font-size=\"14.00\" fill=\"#000000\">gini = 0.54</text>\n<text text-anchor=\"middle\" x=\"732\" y=\"-379.8\" font-family=\"Helvetica,sans-Serif\" font-size=\"14.00\" fill=\"#000000\">samples = 16.2%</text>\n<text text-anchor=\"middle\" x=\"732\" y=\"-364.8\" font-family=\"Helvetica,sans-Serif\" font-size=\"14.00\" fill=\"#000000\">value = [0.497, 0.043, 0.46]</text>\n<text text-anchor=\"middle\" x=\"732\" y=\"-349.8\" font-family=\"Helvetica,sans-Serif\" font-size=\"14.00\" fill=\"#000000\">class = functional</text>\n</g>\n<!-- 4&#45;&gt;6 -->\n<g id=\"edge6\" class=\"edge\">\n<title>4&#45;&gt;6</title>\n<path fill=\"none\" stroke=\"#000000\" d=\"M594.7976,-460.8796C612.4658,-450.915 631.4418,-440.2129 649.4763,-430.0418\"/>\n<polygon fill=\"#000000\" stroke=\"#000000\" points=\"651.2532,-433.058 658.2441,-425.0969 647.8145,-426.9608 651.2532,-433.058\"/>\n</g>\n<!-- 7 -->\n<g id=\"node8\" class=\"node\">\n<title>7</title>\n<path fill=\"#d8c1f7\" stroke=\"#000000\" d=\"M710,-298.5C710,-298.5 534,-298.5 534,-298.5 528,-298.5 522,-292.5 522,-286.5 522,-286.5 522,-242.5 522,-242.5 522,-236.5 528,-230.5 534,-230.5 534,-230.5 710,-230.5 710,-230.5 716,-230.5 722,-236.5 722,-242.5 722,-242.5 722,-286.5 722,-286.5 722,-292.5 716,-298.5 710,-298.5\"/>\n<text text-anchor=\"middle\" x=\"622\" y=\"-283.3\" font-family=\"Helvetica,sans-Serif\" font-size=\"14.00\" fill=\"#000000\">gini = 0.523</text>\n<text text-anchor=\"middle\" x=\"622\" y=\"-268.3\" font-family=\"Helvetica,sans-Serif\" font-size=\"14.00\" fill=\"#000000\">samples = 5.0%</text>\n<text text-anchor=\"middle\" x=\"622\" y=\"-253.3\" font-family=\"Helvetica,sans-Serif\" font-size=\"14.00\" fill=\"#000000\">value = [0.381, 0.045, 0.574]</text>\n<text text-anchor=\"middle\" x=\"622\" y=\"-238.3\" font-family=\"Helvetica,sans-Serif\" font-size=\"14.00\" fill=\"#000000\">class = non functional</text>\n</g>\n<!-- 6&#45;&gt;7 -->\n<g id=\"edge7\" class=\"edge\">\n<title>6&#45;&gt;7</title>\n<path fill=\"none\" stroke=\"#000000\" d=\"M693.5273,-341.8796C682.8547,-330.3337 671.2667,-317.7976 660.5875,-306.2446\"/>\n<polygon fill=\"#000000\" stroke=\"#000000\" points=\"663.0778,-303.7825 653.7197,-298.8149 657.9375,-308.534 663.0778,-303.7825\"/>\n</g>\n<!-- 8 -->\n<g id=\"node9\" class=\"node\">\n<title>8</title>\n<path fill=\"#f9e2d1\" stroke=\"#000000\" d=\"M930,-306C930,-306 752,-306 752,-306 746,-306 740,-300 740,-294 740,-294 740,-235 740,-235 740,-229 746,-223 752,-223 752,-223 930,-223 930,-223 936,-223 942,-229 942,-235 942,-235 942,-294 942,-294 942,-300 936,-306 930,-306\"/>\n<text text-anchor=\"middle\" x=\"841\" y=\"-290.8\" font-family=\"Helvetica,sans-Serif\" font-size=\"14.00\" fill=\"#000000\">extraction_type_class &lt;= 5.5</text>\n<text text-anchor=\"middle\" x=\"841\" y=\"-275.8\" font-family=\"Helvetica,sans-Serif\" font-size=\"14.00\" fill=\"#000000\">gini = 0.53</text>\n<text text-anchor=\"middle\" x=\"841\" y=\"-260.8\" font-family=\"Helvetica,sans-Serif\" font-size=\"14.00\" fill=\"#000000\">samples = 11.2%</text>\n<text text-anchor=\"middle\" x=\"841\" y=\"-245.8\" font-family=\"Helvetica,sans-Serif\" font-size=\"14.00\" fill=\"#000000\">value = [0.548, 0.042, 0.41]</text>\n<text text-anchor=\"middle\" x=\"841\" y=\"-230.8\" font-family=\"Helvetica,sans-Serif\" font-size=\"14.00\" fill=\"#000000\">class = functional</text>\n</g>\n<!-- 6&#45;&gt;8 -->\n<g id=\"edge8\" class=\"edge\">\n<title>6&#45;&gt;8</title>\n<path fill=\"none\" stroke=\"#000000\" d=\"M770.1229,-341.8796C778.4549,-332.7832 787.3498,-323.0722 795.9239,-313.7116\"/>\n<polygon fill=\"#000000\" stroke=\"#000000\" points=\"798.5408,-316.0363 802.7144,-306.2981 793.3789,-311.3081 798.5408,-316.0363\"/>\n</g>\n<!-- 9 -->\n<g id=\"node10\" class=\"node\">\n<title>9</title>\n<path fill=\"#f9e4d5\" stroke=\"#000000\" d=\"M819,-179.5C819,-179.5 643,-179.5 643,-179.5 637,-179.5 631,-173.5 631,-167.5 631,-167.5 631,-123.5 631,-123.5 631,-117.5 637,-111.5 643,-111.5 643,-111.5 819,-111.5 819,-111.5 825,-111.5 831,-117.5 831,-123.5 831,-123.5 831,-167.5 831,-167.5 831,-173.5 825,-179.5 819,-179.5\"/>\n<text text-anchor=\"middle\" x=\"731\" y=\"-164.3\" font-family=\"Helvetica,sans-Serif\" font-size=\"14.00\" fill=\"#000000\">gini = 0.532</text>\n<text text-anchor=\"middle\" x=\"731\" y=\"-149.3\" font-family=\"Helvetica,sans-Serif\" font-size=\"14.00\" fill=\"#000000\">samples = 10.3%</text>\n<text text-anchor=\"middle\" x=\"731\" y=\"-134.3\" font-family=\"Helvetica,sans-Serif\" font-size=\"14.00\" fill=\"#000000\">value = [0.541, 0.042, 0.416]</text>\n<text text-anchor=\"middle\" x=\"731\" y=\"-119.3\" font-family=\"Helvetica,sans-Serif\" font-size=\"14.00\" fill=\"#000000\">class = functional</text>\n</g>\n<!-- 8&#45;&gt;9 -->\n<g id=\"edge9\" class=\"edge\">\n<title>8&#45;&gt;9</title>\n<path fill=\"none\" stroke=\"#000000\" d=\"M802.5273,-222.8796C791.8547,-211.3337 780.2667,-198.7976 769.5875,-187.2446\"/>\n<polygon fill=\"#000000\" stroke=\"#000000\" points=\"772.0778,-184.7825 762.7197,-179.8149 766.9375,-189.534 772.0778,-184.7825\"/>\n</g>\n<!-- 10 -->\n<g id=\"node11\" class=\"node\">\n<title>10</title>\n<path fill=\"#f4cbad\" stroke=\"#000000\" d=\"M1039,-187C1039,-187 861,-187 861,-187 855,-187 849,-181 849,-175 849,-175 849,-116 849,-116 849,-110 855,-104 861,-104 861,-104 1039,-104 1039,-104 1045,-104 1051,-110 1051,-116 1051,-116 1051,-175 1051,-175 1051,-181 1045,-187 1039,-187\"/>\n<text text-anchor=\"middle\" x=\"950\" y=\"-171.8\" font-family=\"Helvetica,sans-Serif\" font-size=\"14.00\" fill=\"#000000\">extraction_type_class &lt;= 6.5</text>\n<text text-anchor=\"middle\" x=\"950\" y=\"-156.8\" font-family=\"Helvetica,sans-Serif\" font-size=\"14.00\" fill=\"#000000\">gini = 0.503</text>\n<text text-anchor=\"middle\" x=\"950\" y=\"-141.8\" font-family=\"Helvetica,sans-Serif\" font-size=\"14.00\" fill=\"#000000\">samples = 0.9%</text>\n<text text-anchor=\"middle\" x=\"950\" y=\"-126.8\" font-family=\"Helvetica,sans-Serif\" font-size=\"14.00\" fill=\"#000000\">value = [0.614, 0.043, 0.343]</text>\n<text text-anchor=\"middle\" x=\"950\" y=\"-111.8\" font-family=\"Helvetica,sans-Serif\" font-size=\"14.00\" fill=\"#000000\">class = functional</text>\n</g>\n<!-- 8&#45;&gt;10 -->\n<g id=\"edge10\" class=\"edge\">\n<title>8&#45;&gt;10</title>\n<path fill=\"none\" stroke=\"#000000\" d=\"M879.1229,-222.8796C887.4549,-213.7832 896.3498,-204.0722 904.9239,-194.7116\"/>\n<polygon fill=\"#000000\" stroke=\"#000000\" points=\"907.5408,-197.0363 911.7144,-187.2981 902.3789,-192.3081 907.5408,-197.0363\"/>\n</g>\n<!-- 11 -->\n<g id=\"node12\" class=\"node\">\n<title>11</title>\n<path fill=\"#f2bf9b\" stroke=\"#000000\" d=\"M929,-68C929,-68 753,-68 753,-68 747,-68 741,-62 741,-56 741,-56 741,-12 741,-12 741,-6 747,0 753,0 753,0 929,0 929,0 935,0 941,-6 941,-12 941,-12 941,-56 941,-56 941,-62 935,-68 929,-68\"/>\n<text text-anchor=\"middle\" x=\"841\" y=\"-52.8\" font-family=\"Helvetica,sans-Serif\" font-size=\"14.00\" fill=\"#000000\">gini = 0.473</text>\n<text text-anchor=\"middle\" x=\"841\" y=\"-37.8\" font-family=\"Helvetica,sans-Serif\" font-size=\"14.00\" fill=\"#000000\">samples = 0.7%</text>\n<text text-anchor=\"middle\" x=\"841\" y=\"-22.8\" font-family=\"Helvetica,sans-Serif\" font-size=\"14.00\" fill=\"#000000\">value = [0.657, 0.037, 0.306]</text>\n<text text-anchor=\"middle\" x=\"841\" y=\"-7.8\" font-family=\"Helvetica,sans-Serif\" font-size=\"14.00\" fill=\"#000000\">class = functional</text>\n</g>\n<!-- 10&#45;&gt;11 -->\n<g id=\"edge11\" class=\"edge\">\n<title>10&#45;&gt;11</title>\n<path fill=\"none\" stroke=\"#000000\" d=\"M909.4124,-103.9815C900.338,-94.6989 890.7121,-84.8522 881.6357,-75.5677\"/>\n<polygon fill=\"#000000\" stroke=\"#000000\" points=\"883.9887,-72.9678 874.4954,-68.2637 878.9831,-77.8611 883.9887,-72.9678\"/>\n</g>\n<!-- 12 -->\n<g id=\"node13\" class=\"node\">\n<title>12</title>\n<path fill=\"#f8f3fd\" stroke=\"#000000\" d=\"M1147,-68C1147,-68 971,-68 971,-68 965,-68 959,-62 959,-56 959,-56 959,-12 959,-12 959,-6 965,0 971,0 971,0 1147,0 1147,0 1153,0 1159,-6 1159,-12 1159,-12 1159,-56 1159,-56 1159,-62 1153,-68 1147,-68\"/>\n<text text-anchor=\"middle\" x=\"1059\" y=\"-52.8\" font-family=\"Helvetica,sans-Serif\" font-size=\"14.00\" fill=\"#000000\">gini = 0.558</text>\n<text text-anchor=\"middle\" x=\"1059\" y=\"-37.8\" font-family=\"Helvetica,sans-Serif\" font-size=\"14.00\" fill=\"#000000\">samples = 0.2%</text>\n<text text-anchor=\"middle\" x=\"1059\" y=\"-22.8\" font-family=\"Helvetica,sans-Serif\" font-size=\"14.00\" fill=\"#000000\">value = [0.452, 0.065, 0.484]</text>\n<text text-anchor=\"middle\" x=\"1059\" y=\"-7.8\" font-family=\"Helvetica,sans-Serif\" font-size=\"14.00\" fill=\"#000000\">class = non functional</text>\n</g>\n<!-- 10&#45;&gt;12 -->\n<g id=\"edge12\" class=\"edge\">\n<title>10&#45;&gt;12</title>\n<path fill=\"none\" stroke=\"#000000\" d=\"M990.5876,-103.9815C999.662,-94.6989 1009.2879,-84.8522 1018.3643,-75.5677\"/>\n<polygon fill=\"#000000\" stroke=\"#000000\" points=\"1021.0169,-77.8611 1025.5046,-68.2637 1016.0113,-72.9678 1021.0169,-77.8611\"/>\n</g>\n</g>\n</svg>\n"
          },
          "metadata": {
            "tags": []
          }
        }
      ]
    },
    {
      "cell_type": "markdown",
      "metadata": {
        "colab_type": "text",
        "id": "P4EJi2GvgLVa"
      },
      "source": [
        "# Understand how tree ensembles reduce overfitting compared to a single decision tree with unlimited depth"
      ]
    },
    {
      "cell_type": "markdown",
      "metadata": {
        "id": "BUsua5s1SMej",
        "colab_type": "text"
      },
      "source": [
        "## Overview"
      ]
    },
    {
      "cell_type": "markdown",
      "metadata": {
        "colab_type": "text",
        "id": "0nNABF3HgLVg"
      },
      "source": [
        "### What's \"random\" about random forests?\n",
        "1. Each tree trains on a random bootstrap sample of the data. (In scikit-learn, for `RandomForestRegressor` and `RandomForestClassifier`, the `bootstrap` parameter's default is `True`.) This type of ensembling is called Bagging. (Bootstrap AGGregatING.)\n",
        "2. Each split considers a random subset of the features. (In scikit-learn, when the `max_features` parameter is not `None`.) \n",
        "\n",
        "For extra randomness, you can try [\"extremely randomized trees\"](https://scikit-learn.org/stable/modules/ensemble.html#extremely-randomized-trees)!\n",
        "\n",
        ">In extremely randomized trees (see [ExtraTreesClassifier](https://scikit-learn.org/stable/modules/generated/sklearn.ensemble.ExtraTreesClassifier.html) and [ExtraTreesRegressor](https://scikit-learn.org/stable/modules/generated/sklearn.ensemble.ExtraTreesRegressor.html) classes), randomness goes one step further in the way splits are computed. As in random forests, a random subset of candidate features is used, but instead of looking for the most discriminative thresholds, thresholds are drawn at random for each candidate feature and the best of these randomly-generated thresholds is picked as the splitting rule. This usually allows to reduce the variance of the model a bit more, at the expense of a slightly greater increase in bias"
      ]
    },
    {
      "cell_type": "markdown",
      "metadata": {
        "id": "ePlbOHyCSMek",
        "colab_type": "text"
      },
      "source": [
        "## Follow Along"
      ]
    },
    {
      "cell_type": "markdown",
      "metadata": {
        "colab_type": "text",
        "id": "pUYP619CgLVb"
      },
      "source": [
        "### Example: [predicting golf putts](https://statmodeling.stat.columbia.edu/2008/12/04/the_golf_puttin/)\n",
        "(1 feature, non-linear, regression)"
      ]
    },
    {
      "cell_type": "code",
      "metadata": {
        "colab_type": "code",
        "id": "b4640ukxgLVc",
        "colab": {}
      },
      "source": [
        "putts = pd.DataFrame(\n",
        "    columns=['distance', 'tries', 'successes'], \n",
        "    data = [[2, 1443, 1346],\n",
        "            [3, 694, 577],\n",
        "            [4, 455, 337],\n",
        "            [5, 353, 208],\n",
        "            [6, 272, 149],\n",
        "            [7, 256, 136],\n",
        "            [8, 240, 111],\n",
        "            [9, 217, 69],\n",
        "            [10, 200, 67],\n",
        "            [11, 237, 75],\n",
        "            [12, 202, 52],\n",
        "            [13, 192, 46],\n",
        "            [14, 174, 54],\n",
        "            [15, 167, 28],\n",
        "            [16, 201, 27],\n",
        "            [17, 195, 31],\n",
        "            [18, 191, 33],\n",
        "            [19, 147, 20],\n",
        "            [20, 152, 24]]\n",
        ")\n",
        "\n",
        "putts['rate of success'] = putts['successes'] / putts['tries']\n",
        "putts_X = putts[['distance']]\n",
        "putts_y = putts['rate of success']"
      ],
      "execution_count": 0,
      "outputs": []
    },
    {
      "cell_type": "code",
      "metadata": {
        "colab_type": "code",
        "id": "T0IpCcKggLVd",
        "outputId": "002dd174-0855-442e-f513-8172c505dd75",
        "colab": {
          "base_uri": "https://localhost:8080/",
          "height": 638,
          "referenced_widgets": [
            "90398f19840b43ad9b46c57ce85a0622",
            "cee054e1344e4209b9f04c96e62bed6c",
            "5f06a66490cc4d60be5c5fd0fe507cc1",
            "ee89b0cd1cfc4d28a9f2247e7a17408b",
            "86ae3784870045d5b44e19279fba4f69",
            "89cbf5eeb7ea4261a8a3a9b17a810d16",
            "bf1c4dc86e8e4de9ac225a7be6b2ff37",
            "d9cbd7e3adba41b0b50983fdfc063c92",
            "fe6e74c525e04711b69bec5a76e8caba"
          ]
        }
      },
      "source": [
        "%matplotlib inline\n",
        "import matplotlib.pyplot as plt\n",
        "from ipywidgets import interact\n",
        "from sklearn.ensemble import RandomForestRegressor\n",
        "from sklearn.tree import DecisionTreeRegressor\n",
        "\n",
        "def putt_trees(max_depth=1, n_estimators=1):\n",
        "    models = [DecisionTreeRegressor(max_depth=max_depth), \n",
        "              RandomForestRegressor(max_depth=max_depth, n_estimators=n_estimators)]\n",
        "    \n",
        "    for model in models:\n",
        "        name = model.__class__.__name__\n",
        "        model.fit(putts_X, putts_y)\n",
        "        ax = putts.plot('distance', 'rate of success', kind='scatter', title=name)\n",
        "        ax.step(putts_X, model.predict(putts_X), where='mid')\n",
        "        plt.show()\n",
        "        \n",
        "interact(putt_trees, max_depth=(1,6,1), n_estimators=(10,40,10));"
      ],
      "execution_count": 0,
      "outputs": [
        {
          "output_type": "display_data",
          "data": {
            "application/vnd.jupyter.widget-view+json": {
              "model_id": "90398f19840b43ad9b46c57ce85a0622",
              "version_minor": 0,
              "version_major": 2
            },
            "text/plain": [
              "interactive(children=(IntSlider(value=1, description='max_depth', max=6, min=1), IntSlider(value=10, descripti…"
            ]
          },
          "metadata": {
            "tags": []
          }
        }
      ]
    },
    {
      "cell_type": "markdown",
      "metadata": {
        "colab_type": "text",
        "id": "_KgZK9_9gLVh"
      },
      "source": [
        "### Bagging demo, with golf putts data\n",
        "https://pandas.pydata.org/pandas-docs/stable/reference/api/pandas.DataFrame.sample.html"
      ]
    },
    {
      "cell_type": "code",
      "metadata": {
        "colab_type": "code",
        "id": "vA9mrSTNgLVi",
        "scrolled": false,
        "outputId": "1522d076-88de-4ca7-994b-59f05e27f74b",
        "colab": {
          "base_uri": "https://localhost:8080/",
          "height": 915,
          "referenced_widgets": [
            "4cce22d0db0c4e9aac4cf8588c868c3b",
            "72c0841063be49e8860d855d36860c52",
            "c38c2c57859f41f690c696850d276d95",
            "4290f70a0f074fbcba947e6347382104",
            "c38bb1a33d814ac9ac39c6a10b6789e3",
            "e6d0bebe46244832970d6e47a47c84e0",
            "194719435cff4cef8e4694cfd91b1f09",
            "a78994ed3b0e4b77b8f8b75e40045e6d",
            "f91f80d0cc884900913610fd33684785"
          ]
        }
      },
      "source": [
        "# Do-it-yourself Bagging Ensemble of Decision Trees (like a Random Forest)\n",
        "def diy_bagging(max_depth=1, n_estimators=1):\n",
        "    y_preds = []\n",
        "    for i in range(n_estimators):\n",
        "        title = f'Tree {i+1}'\n",
        "        bootstrap_sample = putts.sample(n=len(putts), replace=True).sort_values(by='distance')\n",
        "        bootstrap_X = bootstrap_sample[['distance']]\n",
        "        bootstrap_y = bootstrap_sample['rate of success']\n",
        "        tree = DecisionTreeRegressor(max_depth=max_depth)\n",
        "        tree.fit(bootstrap_X, bootstrap_y)\n",
        "        y_pred = tree.predict(bootstrap_X)\n",
        "        y_preds.append(y_pred)\n",
        "        ax = bootstrap_sample.plot('distance', 'rate of success', kind='scatter', title=title)\n",
        "        ax.step(bootstrap_X, y_pred, where='mid')\n",
        "        plt.show()\n",
        "        \n",
        "    ensembled = np.vstack(y_preds).mean(axis=0)\n",
        "    title = f'Ensemble of {n_estimators} trees, with max_depth={max_depth}'\n",
        "    ax = putts.plot('distance', 'rate of success', kind='scatter', title=title)\n",
        "    ax.step(putts_X, ensembled, where='mid')\n",
        "    plt.show()\n",
        "    \n",
        "interact(diy_bagging, max_depth=(1,6,1), n_estimators=(2,5,1));"
      ],
      "execution_count": 0,
      "outputs": [
        {
          "output_type": "display_data",
          "data": {
            "application/vnd.jupyter.widget-view+json": {
              "model_id": "4cce22d0db0c4e9aac4cf8588c868c3b",
              "version_minor": 0,
              "version_major": 2
            },
            "text/plain": [
              "interactive(children=(IntSlider(value=1, description='max_depth', max=6, min=1), IntSlider(value=2, descriptio…"
            ]
          },
          "metadata": {
            "tags": []
          }
        }
      ]
    },
    {
      "cell_type": "markdown",
      "metadata": {
        "colab_type": "text",
        "id": "rq4Z_wQ_gLVj"
      },
      "source": [
        "### Go back to Tanzania Waterpumps ..."
      ]
    },
    {
      "cell_type": "markdown",
      "metadata": {
        "colab_type": "text",
        "id": "FoSE9iT6YXQz"
      },
      "source": [
        "#### Helper function to visualize predicted probabilities\n",
        "\n"
      ]
    },
    {
      "cell_type": "code",
      "metadata": {
        "colab_type": "code",
        "id": "HzIAjGpJgLVj",
        "colab": {}
      },
      "source": [
        "import itertools\n",
        "import seaborn as sns\n",
        "\n",
        "def pred_heatmap(model, X, features, class_index=-1, title='', num=100):\n",
        "    \"\"\"\n",
        "    Visualize predicted probabilities, for classifier fit on 2 numeric features\n",
        "    \n",
        "    Parameters\n",
        "    ----------\n",
        "    model : scikit-learn classifier, already fit\n",
        "    X : pandas dataframe, which was used to fit model\n",
        "    features : list of strings, column names of the 2 numeric features\n",
        "    class_index : integer, index of class label\n",
        "    title : string, title of plot\n",
        "    num : int, number of grid points for each feature\n",
        "    \n",
        "    Returns\n",
        "    -------\n",
        "    y_pred_proba : numpy array, predicted probabilities for class_index\n",
        "    \"\"\"\n",
        "    feature1, feature2 = features\n",
        "    min1, max1 = X[feature1].min(), X[feature1].max()\n",
        "    min2, max2 = X[feature2].min(), X[feature2].max()\n",
        "    x1 = np.linspace(min1, max1, num)\n",
        "    x2 = np.linspace(max2, min2, num)\n",
        "    combos = list(itertools.product(x1, x2))\n",
        "    y_pred_proba = model.predict_proba(combos)[:, class_index]\n",
        "    pred_grid = y_pred_proba.reshape(num, num).T\n",
        "    table = pd.DataFrame(pred_grid, columns=x1, index=x2)\n",
        "    sns.heatmap(table, vmin=0, vmax=1)\n",
        "    plt.xticks([])\n",
        "    plt.yticks([])\n",
        "    plt.xlabel(feature1)\n",
        "    plt.ylabel(feature2)\n",
        "    plt.title(title)\n",
        "    plt.show()\n",
        "    return y_pred_proba\n"
      ],
      "execution_count": 0,
      "outputs": []
    },
    {
      "cell_type": "markdown",
      "metadata": {
        "colab_type": "text",
        "id": "DiRfPqHjgLVl"
      },
      "source": [
        "### Compare Decision Tree, Random Forest, Logistic Regression"
      ]
    },
    {
      "cell_type": "code",
      "metadata": {
        "colab_type": "code",
        "id": "HKkMLXhMgLVl",
        "outputId": "dd50dfb8-ce3d-4bc9-84b8-62197e2dc6d3",
        "colab": {
          "base_uri": "https://localhost:8080/",
          "height": 864,
          "referenced_widgets": [
            "4e453956978049eaa5b62048d76d9397",
            "b00ac6cf107b4499b8519bfb480881cb",
            "e779d4770e64433898bb4dfb4f75fd42",
            "3b596cf5586d416f99ac1d028ebd3acc",
            "84beff0360284c5c97a28763f900faaa",
            "d76db38ac9754d92930a35123ab2e75b",
            "8277144c026042c6bb5f595ef5991e0a",
            "f18bdf4cb05e46afb560eee9cf4d4c65",
            "ad2afaf4e68b4ddf81c162fd0eb0c8da"
          ]
        }
      },
      "source": [
        "# Instructions\n",
        "# 1. Choose two features\n",
        "# 2. Run this code cell\n",
        "# 3. Interact with the widget sliders\n",
        "feature1 = 'longitude'\n",
        "feature2 = 'quantity'\n",
        "\n",
        "from sklearn.linear_model import LogisticRegression\n",
        "from sklearn.tree import DecisionTreeClassifier\n",
        "\n",
        "def get_X_y(df, feature1, feature2, target):\n",
        "    features = [feature1, feature2]\n",
        "    X = df[features]\n",
        "    y = df[target]\n",
        "    X = X.fillna(X.median())\n",
        "    X = ce.OrdinalEncoder().fit_transform(X)\n",
        "    return X, y\n",
        "\n",
        "def compare_models(max_depth=1, n_estimators=1):\n",
        "    models = [DecisionTreeClassifier(max_depth=max_depth), \n",
        "              RandomForestClassifier(max_depth=max_depth, n_estimators=n_estimators), \n",
        "              LogisticRegression(solver='lbfgs', multi_class='auto')]\n",
        "    \n",
        "    for model in models:\n",
        "        name = model.__class__.__name__\n",
        "        model.fit(X, y)\n",
        "        pred_heatmap(model, X, [feature1, feature2], class_index=0, title=name)\n",
        "\n",
        "X, y = get_X_y(train, feature1, feature2, target='status_group')\n",
        "interact(compare_models, max_depth=(1,6,1), n_estimators=(10,40,10));"
      ],
      "execution_count": 0,
      "outputs": [
        {
          "output_type": "display_data",
          "data": {
            "application/vnd.jupyter.widget-view+json": {
              "model_id": "4e453956978049eaa5b62048d76d9397",
              "version_minor": 0,
              "version_major": 2
            },
            "text/plain": [
              "interactive(children=(IntSlider(value=1, description='max_depth', max=6, min=1), IntSlider(value=10, descripti…"
            ]
          },
          "metadata": {
            "tags": []
          }
        }
      ]
    },
    {
      "cell_type": "markdown",
      "metadata": {
        "colab_type": "text",
        "id": "hOQqjLEDgLVn"
      },
      "source": [
        "### Bagging"
      ]
    },
    {
      "cell_type": "code",
      "metadata": {
        "colab_type": "code",
        "id": "Hm4aPgs2gLVn",
        "outputId": "5614001a-bdcc-4ab9-fff9-7910b7d54f04",
        "colab": {
          "base_uri": "https://localhost:8080/",
          "height": 1000,
          "referenced_widgets": [
            "96e8af007ed84132812d32b130187687",
            "0bd15961907d4488a1ffeb6b7defa5e8",
            "19cf83102d38422396705acfbc26b422",
            "511cf0619cb14e00b88dc268fb708d9e",
            "37accbbc90b94da6b1f3f8a701d94b87",
            "e81af4b76bde4a079d272e996d6aaeae",
            "4ad3bc52915f4827bf64322603c548b1",
            "2e0713ba4a4d47dfa7e1c5c50167a96e",
            "9d28523c541a4167a81a011075da6c42"
          ]
        }
      },
      "source": [
        "# Do-it-yourself Bagging Ensemble of Decision Trees (like a Random Forest)\n",
        "\n",
        "# Instructions\n",
        "# 1. Choose two features\n",
        "# 2. Run this code cell\n",
        "# 3. Interact with the widget sliders\n",
        "\n",
        "feature1 = 'longitude'\n",
        "feature2 = 'latitude'\n",
        "\n",
        "def waterpumps_bagging(max_depth=1, n_estimators=1):\n",
        "    predicteds = []\n",
        "    for i in range(n_estimators):\n",
        "        title = f'Tree {i+1}'\n",
        "        bootstrap_sample = train.sample(n=len(train), replace=True)\n",
        "        X, y = get_X_y(bootstrap_sample, feature1, feature2, target='status_group')\n",
        "        tree = DecisionTreeClassifier(max_depth=max_depth)\n",
        "        tree.fit(X, y)\n",
        "        predicted = pred_heatmap(tree, X, [feature1, feature2], class_index=0, title=title)\n",
        "        predicteds.append(predicted)\n",
        "    \n",
        "    ensembled = np.vstack(predicteds).mean(axis=0)\n",
        "    title = f'Ensemble of {n_estimators} trees, with max_depth={max_depth}'\n",
        "    sns.heatmap(ensembled.reshape(100, 100).T, vmin=0, vmax=1)\n",
        "    plt.title(title)\n",
        "    plt.xlabel(feature1)\n",
        "    plt.ylabel(feature2)\n",
        "    plt.xticks([])\n",
        "    plt.yticks([])\n",
        "    plt.show()\n",
        "        \n",
        "interact(waterpumps_bagging, max_depth=(1,6,1), n_estimators=(2,5,1));"
      ],
      "execution_count": 0,
      "outputs": [
        {
          "output_type": "display_data",
          "data": {
            "application/vnd.jupyter.widget-view+json": {
              "model_id": "96e8af007ed84132812d32b130187687",
              "version_minor": 0,
              "version_major": 2
            },
            "text/plain": [
              "interactive(children=(IntSlider(value=1, description='max_depth', max=6, min=1), IntSlider(value=2, descriptio…"
            ]
          },
          "metadata": {
            "tags": []
          }
        }
      ]
    },
    {
      "cell_type": "markdown",
      "metadata": {
        "colab_type": "text",
        "id": "wYoSBi15akWP"
      },
      "source": [
        "# Review\n",
        "\n",
        "#### Try Tree Ensembles when you do machine learning with labeled, tabular data\n",
        "- \"Tree Ensembles\" means Random Forest or Gradient Boosting models. \n",
        "- [Tree Ensembles often have the best predictive accuracy](https://arxiv.org/abs/1708.05070) with labeled, tabular data.\n",
        "- Why? Because trees can fit non-linear, non-[monotonic](https://en.wikipedia.org/wiki/Monotonic_function) relationships, and [interactions](https://christophm.github.io/interpretable-ml-book/interaction.html) between features.\n",
        "- A single decision tree, grown to unlimited depth, will [overfit](http://www.r2d3.us/visual-intro-to-machine-learning-part-1/). We solve this problem by ensembling trees, with bagging (Random Forest) or boosting (Gradient Boosting).\n",
        "- Random Forest's advantage: may be less sensitive to hyperparameters. Gradient Boosting's advantage: may get better predictive accuracy.\n",
        "\n",
        "#### One-hot encoding isn’t the only way, and may not be the best way, of categorical encoding for tree ensembles.\n",
        "- For example, tree ensembles can work with arbitrary \"ordinal\" encoding! (Randomly assigning an integer to each category.) Compared to one-hot encoding, the dimensionality will be lower, and the predictive accuracy may be just as good or even better.\n"
      ]
    }
  ]
}